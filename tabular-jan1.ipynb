{
 "cells": [
  {
   "cell_type": "code",
   "execution_count": 1,
   "id": "1bc7d6da",
   "metadata": {
    "_cell_guid": "b1076dfc-b9ad-4769-8c92-a6c4dae69d19",
    "_uuid": "8f2839f25d086af736a60e9eeb907d3b93b6e0e5",
    "execution": {
     "iopub.execute_input": "2022-01-30T14:17:11.812287Z",
     "iopub.status.busy": "2022-01-30T14:17:11.811189Z",
     "iopub.status.idle": "2022-01-30T14:17:12.923983Z",
     "shell.execute_reply": "2022-01-30T14:17:12.923006Z",
     "shell.execute_reply.started": "2022-01-30T13:32:39.677187Z"
    },
    "papermill": {
     "duration": 1.197312,
     "end_time": "2022-01-30T14:17:12.924142",
     "exception": false,
     "start_time": "2022-01-30T14:17:11.726830",
     "status": "completed"
    },
    "tags": []
   },
   "outputs": [],
   "source": [
    "import numpy as np\n",
    "import pandas as pd\n",
    "import seaborn as sns\n",
    "import matplotlib.pyplot as plt\n",
    "from sklearn.preprocessing import OrdinalEncoder\n"
   ]
  },
  {
   "cell_type": "code",
   "execution_count": 2,
   "id": "cd0b3afd",
   "metadata": {
    "execution": {
     "iopub.execute_input": "2022-01-30T14:17:13.078835Z",
     "iopub.status.busy": "2022-01-30T14:17:13.078176Z",
     "iopub.status.idle": "2022-01-30T14:17:13.680754Z",
     "shell.execute_reply": "2022-01-30T14:17:13.680062Z",
     "shell.execute_reply.started": "2022-01-30T13:32:41.070518Z"
    },
    "papermill": {
     "duration": 0.679881,
     "end_time": "2022-01-30T14:17:13.680926",
     "exception": false,
     "start_time": "2022-01-30T14:17:13.001045",
     "status": "completed"
    },
    "tags": []
   },
   "outputs": [
    {
     "name": "stdout",
     "output_type": "stream",
     "text": [
      "/kaggle/input/tabular-playground-series-jan-2022/sample_submission.csv\n",
      "/kaggle/input/tabular-playground-series-jan-2022/train.csv\n",
      "/kaggle/input/tabular-playground-series-jan-2022/test.csv\n"
     ]
    }
   ],
   "source": [
    "# This Python 3 environment comes with many helpful analytics libraries installed\n",
    "# It is defined by the kaggle/python Docker image: https://github.com/kaggle/docker-python\n",
    "# For example, here's several helpful packages to load\n",
    "\n",
    "import numpy as np # linear algebra\n",
    "import pandas as pd # data processing, CSV file I/O (e.g. pd.read_csv)\n",
    "\n",
    "# Input data files are available in the read-only \"../input/\" directory\n",
    "# For example, running this (by clicking run or pressing Shift+Enter) will list all files under the input directory\n",
    "import numpy as np\n",
    "import pandas as pd\n",
    "import seaborn as sns\n",
    "import matplotlib.pyplot as plt\n",
    "from sklearn.preprocessing import OrdinalEncoder\n",
    "import os\n",
    "for dirname, _, filenames in os.walk('/kaggle/input'):\n",
    "    for filename in filenames:\n",
    "        print(os.path.join(dirname, filename))\n",
    "from dask import dataframe as d\n",
    "# You can write up to 20GB to the current directory (/kaggle/working/) that gets preserved as output when you create a version using \"Save & Run All\" \n",
    "# You can also write temporary files to /kaggle/temp/, but they won't be saved outside of the current session"
   ]
  },
  {
   "cell_type": "code",
   "execution_count": 3,
   "id": "61fafd8e",
   "metadata": {
    "execution": {
     "iopub.execute_input": "2022-01-30T14:17:13.850594Z",
     "iopub.status.busy": "2022-01-30T14:17:13.849630Z",
     "iopub.status.idle": "2022-01-30T14:17:13.921396Z",
     "shell.execute_reply": "2022-01-30T14:17:13.920719Z",
     "shell.execute_reply.started": "2022-01-30T13:32:41.694146Z"
    },
    "papermill": {
     "duration": 0.156852,
     "end_time": "2022-01-30T14:17:13.921603",
     "exception": false,
     "start_time": "2022-01-30T14:17:13.764751",
     "status": "completed"
    },
    "tags": []
   },
   "outputs": [],
   "source": [
    "df=pd.read_csv('../input/tabular-playground-series-jan-2022/train.csv')\n",
    "test_df=pd.read_csv('../input/tabular-playground-series-jan-2022/test.csv')"
   ]
  },
  {
   "cell_type": "code",
   "execution_count": 4,
   "id": "cfde10af",
   "metadata": {
    "execution": {
     "iopub.execute_input": "2022-01-30T14:17:14.076428Z",
     "iopub.status.busy": "2022-01-30T14:17:14.075777Z",
     "iopub.status.idle": "2022-01-30T14:17:14.077552Z",
     "shell.execute_reply": "2022-01-30T14:17:14.077998Z",
     "shell.execute_reply.started": "2022-01-30T13:32:41.773508Z"
    },
    "papermill": {
     "duration": 0.081513,
     "end_time": "2022-01-30T14:17:14.078191",
     "exception": false,
     "start_time": "2022-01-30T14:17:13.996678",
     "status": "completed"
    },
    "tags": []
   },
   "outputs": [],
   "source": [
    "df1=df"
   ]
  },
  {
   "cell_type": "code",
   "execution_count": 5,
   "id": "83c58796",
   "metadata": {
    "execution": {
     "iopub.execute_input": "2022-01-30T14:17:14.228411Z",
     "iopub.status.busy": "2022-01-30T14:17:14.227791Z",
     "iopub.status.idle": "2022-01-30T14:17:14.234719Z",
     "shell.execute_reply": "2022-01-30T14:17:14.235204Z",
     "shell.execute_reply.started": "2022-01-30T13:32:41.782212Z"
    },
    "papermill": {
     "duration": 0.083531,
     "end_time": "2022-01-30T14:17:14.235379",
     "exception": false,
     "start_time": "2022-01-30T14:17:14.151848",
     "status": "completed"
    },
    "tags": []
   },
   "outputs": [
    {
     "data": {
      "text/plain": [
       "(4, 318, 728, 192)"
      ]
     },
     "execution_count": 5,
     "metadata": {},
     "output_type": "execute_result"
    }
   ],
   "source": [
    "4,318,728,192\n"
   ]
  },
  {
   "cell_type": "code",
   "execution_count": 6,
   "id": "0e2d556c",
   "metadata": {
    "execution": {
     "iopub.execute_input": "2022-01-30T14:17:14.386638Z",
     "iopub.status.busy": "2022-01-30T14:17:14.385987Z",
     "iopub.status.idle": "2022-01-30T14:17:14.408196Z",
     "shell.execute_reply": "2022-01-30T14:17:14.408667Z",
     "shell.execute_reply.started": "2022-01-30T13:32:41.798040Z"
    },
    "papermill": {
     "duration": 0.09946,
     "end_time": "2022-01-30T14:17:14.408868",
     "exception": false,
     "start_time": "2022-01-30T14:17:14.309408",
     "status": "completed"
    },
    "tags": []
   },
   "outputs": [
    {
     "data": {
      "text/plain": [
       "row_id      0\n",
       "date        0\n",
       "country     0\n",
       "store       0\n",
       "product     0\n",
       "num_sold    0\n",
       "dtype: int64"
      ]
     },
     "execution_count": 6,
     "metadata": {},
     "output_type": "execute_result"
    }
   ],
   "source": [
    "df.isnull().sum()"
   ]
  },
  {
   "cell_type": "code",
   "execution_count": 7,
   "id": "9183d6f2",
   "metadata": {
    "execution": {
     "iopub.execute_input": "2022-01-30T14:17:14.562690Z",
     "iopub.status.busy": "2022-01-30T14:17:14.562029Z",
     "iopub.status.idle": "2022-01-30T14:17:14.571550Z",
     "shell.execute_reply": "2022-01-30T14:17:14.572025Z",
     "shell.execute_reply.started": "2022-01-30T13:32:41.829577Z"
    },
    "papermill": {
     "duration": 0.08828,
     "end_time": "2022-01-30T14:17:14.572221",
     "exception": false,
     "start_time": "2022-01-30T14:17:14.483941",
     "status": "completed"
    },
    "tags": []
   },
   "outputs": [
    {
     "data": {
      "text/plain": [
       "row_id     0\n",
       "date       0\n",
       "country    0\n",
       "store      0\n",
       "product    0\n",
       "dtype: int64"
      ]
     },
     "execution_count": 7,
     "metadata": {},
     "output_type": "execute_result"
    }
   ],
   "source": [
    "test_df.isnull().sum()"
   ]
  },
  {
   "cell_type": "code",
   "execution_count": 8,
   "id": "aed71db4",
   "metadata": {
    "execution": {
     "iopub.execute_input": "2022-01-30T14:17:14.726684Z",
     "iopub.status.busy": "2022-01-30T14:17:14.726061Z",
     "iopub.status.idle": "2022-01-30T14:17:14.731869Z",
     "shell.execute_reply": "2022-01-30T14:17:14.732326Z",
     "shell.execute_reply.started": "2022-01-30T13:32:41.845529Z"
    },
    "papermill": {
     "duration": 0.084952,
     "end_time": "2022-01-30T14:17:14.732550",
     "exception": false,
     "start_time": "2022-01-30T14:17:14.647598",
     "status": "completed"
    },
    "tags": []
   },
   "outputs": [
    {
     "data": {
      "text/plain": [
       "(26298, 6)"
      ]
     },
     "execution_count": 8,
     "metadata": {},
     "output_type": "execute_result"
    }
   ],
   "source": [
    "df.shape"
   ]
  },
  {
   "cell_type": "code",
   "execution_count": 9,
   "id": "0511fe11",
   "metadata": {
    "execution": {
     "iopub.execute_input": "2022-01-30T14:17:14.896944Z",
     "iopub.status.busy": "2022-01-30T14:17:14.893586Z",
     "iopub.status.idle": "2022-01-30T14:17:14.918484Z",
     "shell.execute_reply": "2022-01-30T14:17:14.917836Z",
     "shell.execute_reply.started": "2022-01-30T13:32:41.858407Z"
    },
    "papermill": {
     "duration": 0.109892,
     "end_time": "2022-01-30T14:17:14.918629",
     "exception": false,
     "start_time": "2022-01-30T14:17:14.808737",
     "status": "completed"
    },
    "tags": []
   },
   "outputs": [
    {
     "data": {
      "text/html": [
       "<div>\n",
       "<style scoped>\n",
       "    .dataframe tbody tr th:only-of-type {\n",
       "        vertical-align: middle;\n",
       "    }\n",
       "\n",
       "    .dataframe tbody tr th {\n",
       "        vertical-align: top;\n",
       "    }\n",
       "\n",
       "    .dataframe thead th {\n",
       "        text-align: right;\n",
       "    }\n",
       "</style>\n",
       "<table border=\"1\" class=\"dataframe\">\n",
       "  <thead>\n",
       "    <tr style=\"text-align: right;\">\n",
       "      <th></th>\n",
       "      <th>row_id</th>\n",
       "      <th>num_sold</th>\n",
       "    </tr>\n",
       "  </thead>\n",
       "  <tbody>\n",
       "    <tr>\n",
       "      <th>count</th>\n",
       "      <td>26298.000000</td>\n",
       "      <td>26298.000000</td>\n",
       "    </tr>\n",
       "    <tr>\n",
       "      <th>mean</th>\n",
       "      <td>13148.500000</td>\n",
       "      <td>387.533577</td>\n",
       "    </tr>\n",
       "    <tr>\n",
       "      <th>std</th>\n",
       "      <td>7591.723026</td>\n",
       "      <td>266.076193</td>\n",
       "    </tr>\n",
       "    <tr>\n",
       "      <th>min</th>\n",
       "      <td>0.000000</td>\n",
       "      <td>70.000000</td>\n",
       "    </tr>\n",
       "    <tr>\n",
       "      <th>25%</th>\n",
       "      <td>6574.250000</td>\n",
       "      <td>190.000000</td>\n",
       "    </tr>\n",
       "    <tr>\n",
       "      <th>50%</th>\n",
       "      <td>13148.500000</td>\n",
       "      <td>315.000000</td>\n",
       "    </tr>\n",
       "    <tr>\n",
       "      <th>75%</th>\n",
       "      <td>19722.750000</td>\n",
       "      <td>510.000000</td>\n",
       "    </tr>\n",
       "    <tr>\n",
       "      <th>max</th>\n",
       "      <td>26297.000000</td>\n",
       "      <td>2884.000000</td>\n",
       "    </tr>\n",
       "  </tbody>\n",
       "</table>\n",
       "</div>"
      ],
      "text/plain": [
       "             row_id      num_sold\n",
       "count  26298.000000  26298.000000\n",
       "mean   13148.500000    387.533577\n",
       "std     7591.723026    266.076193\n",
       "min        0.000000     70.000000\n",
       "25%     6574.250000    190.000000\n",
       "50%    13148.500000    315.000000\n",
       "75%    19722.750000    510.000000\n",
       "max    26297.000000   2884.000000"
      ]
     },
     "execution_count": 9,
     "metadata": {},
     "output_type": "execute_result"
    }
   ],
   "source": [
    "df.describe()"
   ]
  },
  {
   "cell_type": "code",
   "execution_count": 10,
   "id": "a935c0e7",
   "metadata": {
    "execution": {
     "iopub.execute_input": "2022-01-30T14:17:15.084051Z",
     "iopub.status.busy": "2022-01-30T14:17:15.083151Z",
     "iopub.status.idle": "2022-01-30T14:17:15.087675Z",
     "shell.execute_reply": "2022-01-30T14:17:15.087089Z",
     "shell.execute_reply.started": "2022-01-30T13:32:41.902065Z"
    },
    "papermill": {
     "duration": 0.092775,
     "end_time": "2022-01-30T14:17:15.087823",
     "exception": false,
     "start_time": "2022-01-30T14:17:14.995048",
     "status": "completed"
    },
    "tags": []
   },
   "outputs": [
    {
     "data": {
      "text/html": [
       "<div>\n",
       "<style scoped>\n",
       "    .dataframe tbody tr th:only-of-type {\n",
       "        vertical-align: middle;\n",
       "    }\n",
       "\n",
       "    .dataframe tbody tr th {\n",
       "        vertical-align: top;\n",
       "    }\n",
       "\n",
       "    .dataframe thead th {\n",
       "        text-align: right;\n",
       "    }\n",
       "</style>\n",
       "<table border=\"1\" class=\"dataframe\">\n",
       "  <thead>\n",
       "    <tr style=\"text-align: right;\">\n",
       "      <th></th>\n",
       "      <th>row_id</th>\n",
       "      <th>date</th>\n",
       "      <th>country</th>\n",
       "      <th>store</th>\n",
       "      <th>product</th>\n",
       "      <th>num_sold</th>\n",
       "    </tr>\n",
       "  </thead>\n",
       "  <tbody>\n",
       "    <tr>\n",
       "      <th>0</th>\n",
       "      <td>0</td>\n",
       "      <td>2015-01-01</td>\n",
       "      <td>Finland</td>\n",
       "      <td>KaggleMart</td>\n",
       "      <td>Kaggle Mug</td>\n",
       "      <td>329</td>\n",
       "    </tr>\n",
       "    <tr>\n",
       "      <th>1</th>\n",
       "      <td>1</td>\n",
       "      <td>2015-01-01</td>\n",
       "      <td>Finland</td>\n",
       "      <td>KaggleMart</td>\n",
       "      <td>Kaggle Hat</td>\n",
       "      <td>520</td>\n",
       "    </tr>\n",
       "    <tr>\n",
       "      <th>2</th>\n",
       "      <td>2</td>\n",
       "      <td>2015-01-01</td>\n",
       "      <td>Finland</td>\n",
       "      <td>KaggleMart</td>\n",
       "      <td>Kaggle Sticker</td>\n",
       "      <td>146</td>\n",
       "    </tr>\n",
       "    <tr>\n",
       "      <th>3</th>\n",
       "      <td>3</td>\n",
       "      <td>2015-01-01</td>\n",
       "      <td>Finland</td>\n",
       "      <td>KaggleRama</td>\n",
       "      <td>Kaggle Mug</td>\n",
       "      <td>572</td>\n",
       "    </tr>\n",
       "    <tr>\n",
       "      <th>4</th>\n",
       "      <td>4</td>\n",
       "      <td>2015-01-01</td>\n",
       "      <td>Finland</td>\n",
       "      <td>KaggleRama</td>\n",
       "      <td>Kaggle Hat</td>\n",
       "      <td>911</td>\n",
       "    </tr>\n",
       "  </tbody>\n",
       "</table>\n",
       "</div>"
      ],
      "text/plain": [
       "   row_id        date  country       store         product  num_sold\n",
       "0       0  2015-01-01  Finland  KaggleMart      Kaggle Mug       329\n",
       "1       1  2015-01-01  Finland  KaggleMart      Kaggle Hat       520\n",
       "2       2  2015-01-01  Finland  KaggleMart  Kaggle Sticker       146\n",
       "3       3  2015-01-01  Finland  KaggleRama      Kaggle Mug       572\n",
       "4       4  2015-01-01  Finland  KaggleRama      Kaggle Hat       911"
      ]
     },
     "execution_count": 10,
     "metadata": {},
     "output_type": "execute_result"
    }
   ],
   "source": [
    "df.head()"
   ]
  },
  {
   "cell_type": "code",
   "execution_count": 11,
   "id": "c16573ce",
   "metadata": {
    "execution": {
     "iopub.execute_input": "2022-01-30T14:17:15.253687Z",
     "iopub.status.busy": "2022-01-30T14:17:15.252977Z",
     "iopub.status.idle": "2022-01-30T14:17:15.256157Z",
     "shell.execute_reply": "2022-01-30T14:17:15.255682Z",
     "shell.execute_reply.started": "2022-01-30T07:16:52.158682Z"
    },
    "papermill": {
     "duration": 0.091398,
     "end_time": "2022-01-30T14:17:15.256298",
     "exception": false,
     "start_time": "2022-01-30T14:17:15.164900",
     "status": "completed"
    },
    "tags": []
   },
   "outputs": [
    {
     "data": {
      "text/html": [
       "<div>\n",
       "<style scoped>\n",
       "    .dataframe tbody tr th:only-of-type {\n",
       "        vertical-align: middle;\n",
       "    }\n",
       "\n",
       "    .dataframe tbody tr th {\n",
       "        vertical-align: top;\n",
       "    }\n",
       "\n",
       "    .dataframe thead th {\n",
       "        text-align: right;\n",
       "    }\n",
       "</style>\n",
       "<table border=\"1\" class=\"dataframe\">\n",
       "  <thead>\n",
       "    <tr style=\"text-align: right;\">\n",
       "      <th></th>\n",
       "      <th>row_id</th>\n",
       "      <th>date</th>\n",
       "      <th>country</th>\n",
       "      <th>store</th>\n",
       "      <th>product</th>\n",
       "    </tr>\n",
       "  </thead>\n",
       "  <tbody>\n",
       "    <tr>\n",
       "      <th>0</th>\n",
       "      <td>26298</td>\n",
       "      <td>2019-01-01</td>\n",
       "      <td>Finland</td>\n",
       "      <td>KaggleMart</td>\n",
       "      <td>Kaggle Mug</td>\n",
       "    </tr>\n",
       "    <tr>\n",
       "      <th>1</th>\n",
       "      <td>26299</td>\n",
       "      <td>2019-01-01</td>\n",
       "      <td>Finland</td>\n",
       "      <td>KaggleMart</td>\n",
       "      <td>Kaggle Hat</td>\n",
       "    </tr>\n",
       "    <tr>\n",
       "      <th>2</th>\n",
       "      <td>26300</td>\n",
       "      <td>2019-01-01</td>\n",
       "      <td>Finland</td>\n",
       "      <td>KaggleMart</td>\n",
       "      <td>Kaggle Sticker</td>\n",
       "    </tr>\n",
       "    <tr>\n",
       "      <th>3</th>\n",
       "      <td>26301</td>\n",
       "      <td>2019-01-01</td>\n",
       "      <td>Finland</td>\n",
       "      <td>KaggleRama</td>\n",
       "      <td>Kaggle Mug</td>\n",
       "    </tr>\n",
       "    <tr>\n",
       "      <th>4</th>\n",
       "      <td>26302</td>\n",
       "      <td>2019-01-01</td>\n",
       "      <td>Finland</td>\n",
       "      <td>KaggleRama</td>\n",
       "      <td>Kaggle Hat</td>\n",
       "    </tr>\n",
       "  </tbody>\n",
       "</table>\n",
       "</div>"
      ],
      "text/plain": [
       "   row_id        date  country       store         product\n",
       "0   26298  2019-01-01  Finland  KaggleMart      Kaggle Mug\n",
       "1   26299  2019-01-01  Finland  KaggleMart      Kaggle Hat\n",
       "2   26300  2019-01-01  Finland  KaggleMart  Kaggle Sticker\n",
       "3   26301  2019-01-01  Finland  KaggleRama      Kaggle Mug\n",
       "4   26302  2019-01-01  Finland  KaggleRama      Kaggle Hat"
      ]
     },
     "execution_count": 11,
     "metadata": {},
     "output_type": "execute_result"
    }
   ],
   "source": [
    "test_df.head()"
   ]
  },
  {
   "cell_type": "code",
   "execution_count": 12,
   "id": "ac4f5160",
   "metadata": {
    "execution": {
     "iopub.execute_input": "2022-01-30T14:17:15.414509Z",
     "iopub.status.busy": "2022-01-30T14:17:15.413873Z",
     "iopub.status.idle": "2022-01-30T14:17:15.421769Z",
     "shell.execute_reply": "2022-01-30T14:17:15.422206Z",
     "shell.execute_reply.started": "2022-01-30T07:16:53.220754Z"
    },
    "papermill": {
     "duration": 0.090094,
     "end_time": "2022-01-30T14:17:15.422401",
     "exception": false,
     "start_time": "2022-01-30T14:17:15.332307",
     "status": "completed"
    },
    "tags": []
   },
   "outputs": [
    {
     "data": {
      "text/plain": [
       "count    26298.000000\n",
       "mean       387.533577\n",
       "std        266.076193\n",
       "min         70.000000\n",
       "25%        190.000000\n",
       "50%        315.000000\n",
       "75%        510.000000\n",
       "max       2884.000000\n",
       "Name: num_sold, dtype: float64"
      ]
     },
     "execution_count": 12,
     "metadata": {},
     "output_type": "execute_result"
    }
   ],
   "source": [
    "df['num_sold'].describe()"
   ]
  },
  {
   "cell_type": "code",
   "execution_count": 13,
   "id": "a507036f",
   "metadata": {
    "execution": {
     "iopub.execute_input": "2022-01-30T14:17:15.583189Z",
     "iopub.status.busy": "2022-01-30T14:17:15.582227Z",
     "iopub.status.idle": "2022-01-30T14:17:15.791066Z",
     "shell.execute_reply": "2022-01-30T14:17:15.790493Z",
     "shell.execute_reply.started": "2022-01-30T07:16:54.125031Z"
    },
    "papermill": {
     "duration": 0.28957,
     "end_time": "2022-01-30T14:17:15.791219",
     "exception": false,
     "start_time": "2022-01-30T14:17:15.501649",
     "status": "completed"
    },
    "tags": []
   },
   "outputs": [
    {
     "data": {
      "text/plain": [
       "<AxesSubplot:xlabel='num_sold'>"
      ]
     },
     "execution_count": 13,
     "metadata": {},
     "output_type": "execute_result"
    },
    {
     "data": {
      "image/png": "[encoded data removed]",
      "text/plain": [
       "<Figure size 432x288 with 1 Axes>"
      ]
     },
     "metadata": {
      "needs_background": "light"
     },
     "output_type": "display_data"
    }
   ],
   "source": [
    "sns.boxplot(x=df['num_sold'])"
   ]
  },
  {
   "cell_type": "code",
   "execution_count": 14,
   "id": "4968b0f5",
   "metadata": {
    "execution": {
     "iopub.execute_input": "2022-01-30T14:17:15.966890Z",
     "iopub.status.busy": "2022-01-30T14:17:15.960824Z",
     "iopub.status.idle": "2022-01-30T14:17:16.203552Z",
     "shell.execute_reply": "2022-01-30T14:17:16.204041Z",
     "shell.execute_reply.started": "2022-01-30T07:16:54.876936Z"
    },
    "papermill": {
     "duration": 0.33514,
     "end_time": "2022-01-30T14:17:16.204241",
     "exception": false,
     "start_time": "2022-01-30T14:17:15.869101",
     "status": "completed"
    },
    "tags": []
   },
   "outputs": [
    {
     "data": {
      "image/png": "[encoded data removed]",
      "text/plain": [
       "<Figure size 1152x576 with 1 Axes>"
      ]
     },
     "metadata": {
      "needs_background": "light"
     },
     "output_type": "display_data"
    }
   ],
   "source": [
    "fig, ax = plt.subplots(figsize=(16,8))\n",
    "ax.scatter(df['product'],df['num_sold'])\n",
    "ax.set_xlabel('product')\n",
    "ax.set_ylabel('sold')\n",
    "plt.show()"
   ]
  },
  {
   "cell_type": "code",
   "execution_count": 15,
   "id": "a416cffc",
   "metadata": {
    "execution": {
     "iopub.execute_input": "2022-01-30T14:17:16.366907Z",
     "iopub.status.busy": "2022-01-30T14:17:16.366182Z",
     "iopub.status.idle": "2022-01-30T14:17:16.828560Z",
     "shell.execute_reply": "2022-01-30T14:17:16.827827Z",
     "shell.execute_reply.started": "2022-01-30T07:16:55.471752Z"
    },
    "papermill": {
     "duration": 0.54409,
     "end_time": "2022-01-30T14:17:16.828734",
     "exception": false,
     "start_time": "2022-01-30T14:17:16.284644",
     "status": "completed"
    },
    "tags": []
   },
   "outputs": [
    {
     "name": "stderr",
     "output_type": "stream",
     "text": [
      "/opt/conda/lib/python3.7/site-packages/seaborn/distributions.py:2619: FutureWarning: `distplot` is a deprecated function and will be removed in a future version. Please adapt your code to use either `displot` (a figure-level function with similar flexibility) or `histplot` (an axes-level function for histograms).\n",
      "  warnings.warn(msg, FutureWarning)\n"
     ]
    },
    {
     "data": {
      "image/png": "[encoded data removed]",
      "text/plain": [
       "<Figure size 432x288 with 1 Axes>"
      ]
     },
     "metadata": {
      "needs_background": "light"
     },
     "output_type": "display_data"
    }
   ],
   "source": [
    "import matplotlib.pyplot as plt\n",
    "import seaborn as sns\n",
    "\n",
    "#Create a distribution plot for rating\n",
    "sns.distplot(df.num_sold)\n",
    "plt.show()"
   ]
  },
  {
   "cell_type": "code",
   "execution_count": 16,
   "id": "2c170a3f",
   "metadata": {
    "execution": {
     "iopub.execute_input": "2022-01-30T14:17:16.995205Z",
     "iopub.status.busy": "2022-01-30T14:17:16.994034Z",
     "iopub.status.idle": "2022-01-30T14:17:17.000073Z",
     "shell.execute_reply": "2022-01-30T14:17:16.999474Z",
     "shell.execute_reply.started": "2022-01-30T07:16:56.153138Z"
    },
    "papermill": {
     "duration": 0.091676,
     "end_time": "2022-01-30T14:17:17.000207",
     "exception": false,
     "start_time": "2022-01-30T14:17:16.908531",
     "status": "completed"
    },
    "tags": []
   },
   "outputs": [
    {
     "data": {
      "text/plain": [
       "2884"
      ]
     },
     "execution_count": 16,
     "metadata": {},
     "output_type": "execute_result"
    }
   ],
   "source": [
    "df.num_sold.max()"
   ]
  },
  {
   "cell_type": "code",
   "execution_count": null,
   "id": "93b2c3af",
   "metadata": {
    "papermill": {
     "duration": 0.079519,
     "end_time": "2022-01-30T14:17:17.159315",
     "exception": false,
     "start_time": "2022-01-30T14:17:17.079796",
     "status": "completed"
    },
    "tags": []
   },
   "outputs": [],
   "source": []
  },
  {
   "cell_type": "code",
   "execution_count": 17,
   "id": "2ba8d462",
   "metadata": {
    "execution": {
     "iopub.execute_input": "2022-01-30T14:17:17.343896Z",
     "iopub.status.busy": "2022-01-30T14:17:17.324054Z",
     "iopub.status.idle": "2022-01-30T14:17:17.366406Z",
     "shell.execute_reply": "2022-01-30T14:17:17.365750Z",
     "shell.execute_reply.started": "2022-01-30T07:16:57.355643Z"
    },
    "papermill": {
     "duration": 0.127765,
     "end_time": "2022-01-30T14:17:17.366583",
     "exception": false,
     "start_time": "2022-01-30T14:17:17.238818",
     "status": "completed"
    },
    "tags": []
   },
   "outputs": [],
   "source": [
    "enc = OrdinalEncoder()\n",
    "df[[\"country\",\"store\", \"product\"]] = enc.fit_transform(df[[\"country\",\"store\", \"product\"]])"
   ]
  },
  {
   "cell_type": "code",
   "execution_count": 18,
   "id": "977280c0",
   "metadata": {
    "execution": {
     "iopub.execute_input": "2022-01-30T14:17:17.536996Z",
     "iopub.status.busy": "2022-01-30T14:17:17.536263Z",
     "iopub.status.idle": "2022-01-30T14:17:17.548708Z",
     "shell.execute_reply": "2022-01-30T14:17:17.549240Z",
     "shell.execute_reply.started": "2022-01-30T07:16:57.964642Z"
    },
    "papermill": {
     "duration": 0.097019,
     "end_time": "2022-01-30T14:17:17.549417",
     "exception": false,
     "start_time": "2022-01-30T14:17:17.452398",
     "status": "completed"
    },
    "tags": []
   },
   "outputs": [
    {
     "data": {
      "text/html": [
       "<div>\n",
       "<style scoped>\n",
       "    .dataframe tbody tr th:only-of-type {\n",
       "        vertical-align: middle;\n",
       "    }\n",
       "\n",
       "    .dataframe tbody tr th {\n",
       "        vertical-align: top;\n",
       "    }\n",
       "\n",
       "    .dataframe thead th {\n",
       "        text-align: right;\n",
       "    }\n",
       "</style>\n",
       "<table border=\"1\" class=\"dataframe\">\n",
       "  <thead>\n",
       "    <tr style=\"text-align: right;\">\n",
       "      <th></th>\n",
       "      <th>row_id</th>\n",
       "      <th>date</th>\n",
       "      <th>country</th>\n",
       "      <th>store</th>\n",
       "      <th>product</th>\n",
       "      <th>num_sold</th>\n",
       "    </tr>\n",
       "  </thead>\n",
       "  <tbody>\n",
       "    <tr>\n",
       "      <th>0</th>\n",
       "      <td>0</td>\n",
       "      <td>2015-01-01</td>\n",
       "      <td>0.0</td>\n",
       "      <td>0.0</td>\n",
       "      <td>1.0</td>\n",
       "      <td>329</td>\n",
       "    </tr>\n",
       "    <tr>\n",
       "      <th>1</th>\n",
       "      <td>1</td>\n",
       "      <td>2015-01-01</td>\n",
       "      <td>0.0</td>\n",
       "      <td>0.0</td>\n",
       "      <td>0.0</td>\n",
       "      <td>520</td>\n",
       "    </tr>\n",
       "    <tr>\n",
       "      <th>2</th>\n",
       "      <td>2</td>\n",
       "      <td>2015-01-01</td>\n",
       "      <td>0.0</td>\n",
       "      <td>0.0</td>\n",
       "      <td>2.0</td>\n",
       "      <td>146</td>\n",
       "    </tr>\n",
       "    <tr>\n",
       "      <th>3</th>\n",
       "      <td>3</td>\n",
       "      <td>2015-01-01</td>\n",
       "      <td>0.0</td>\n",
       "      <td>1.0</td>\n",
       "      <td>1.0</td>\n",
       "      <td>572</td>\n",
       "    </tr>\n",
       "    <tr>\n",
       "      <th>4</th>\n",
       "      <td>4</td>\n",
       "      <td>2015-01-01</td>\n",
       "      <td>0.0</td>\n",
       "      <td>1.0</td>\n",
       "      <td>0.0</td>\n",
       "      <td>911</td>\n",
       "    </tr>\n",
       "  </tbody>\n",
       "</table>\n",
       "</div>"
      ],
      "text/plain": [
       "   row_id        date  country  store  product  num_sold\n",
       "0       0  2015-01-01      0.0    0.0      1.0       329\n",
       "1       1  2015-01-01      0.0    0.0      0.0       520\n",
       "2       2  2015-01-01      0.0    0.0      2.0       146\n",
       "3       3  2015-01-01      0.0    1.0      1.0       572\n",
       "4       4  2015-01-01      0.0    1.0      0.0       911"
      ]
     },
     "execution_count": 18,
     "metadata": {},
     "output_type": "execute_result"
    }
   ],
   "source": [
    "df.head()"
   ]
  },
  {
   "cell_type": "code",
   "execution_count": 19,
   "id": "387409dd",
   "metadata": {
    "execution": {
     "iopub.execute_input": "2022-01-30T14:17:17.717965Z",
     "iopub.status.busy": "2022-01-30T14:17:17.717241Z",
     "iopub.status.idle": "2022-01-30T14:17:17.732806Z",
     "shell.execute_reply": "2022-01-30T14:17:17.732289Z",
     "shell.execute_reply.started": "2022-01-30T07:17:10.391783Z"
    },
    "papermill": {
     "duration": 0.102596,
     "end_time": "2022-01-30T14:17:17.732953",
     "exception": false,
     "start_time": "2022-01-30T14:17:17.630357",
     "status": "completed"
    },
    "tags": []
   },
   "outputs": [],
   "source": [
    "enc = OrdinalEncoder()\n",
    "test_df[[\"country\",\"store\", \"product\"]] = enc.fit_transform(test_df[[\"country\",\"store\", \"product\"]])"
   ]
  },
  {
   "cell_type": "code",
   "execution_count": 20,
   "id": "664d3758",
   "metadata": {
    "execution": {
     "iopub.execute_input": "2022-01-30T14:17:17.901802Z",
     "iopub.status.busy": "2022-01-30T14:17:17.901078Z",
     "iopub.status.idle": "2022-01-30T14:17:17.909537Z",
     "shell.execute_reply": "2022-01-30T14:17:17.908892Z",
     "shell.execute_reply.started": "2022-01-30T07:17:11.509061Z"
    },
    "papermill": {
     "duration": 0.095553,
     "end_time": "2022-01-30T14:17:17.909704",
     "exception": false,
     "start_time": "2022-01-30T14:17:17.814151",
     "status": "completed"
    },
    "tags": []
   },
   "outputs": [
    {
     "name": "stdout",
     "output_type": "stream",
     "text": [
      "320.0\n"
     ]
    }
   ],
   "source": [
    "Q1 = df['num_sold'].quantile(0.25)\n",
    "Q3 = df['num_sold'].quantile(0.75)\n",
    "IQR = Q3 - Q1\n",
    "print(IQR)"
   ]
  },
  {
   "cell_type": "code",
   "execution_count": 21,
   "id": "c6a14450",
   "metadata": {
    "execution": {
     "iopub.execute_input": "2022-01-30T14:17:18.078782Z",
     "iopub.status.busy": "2022-01-30T14:17:18.078084Z",
     "iopub.status.idle": "2022-01-30T14:17:18.086723Z",
     "shell.execute_reply": "2022-01-30T14:17:18.087219Z",
     "shell.execute_reply.started": "2022-01-30T07:17:12.62086Z"
    },
    "papermill": {
     "duration": 0.095456,
     "end_time": "2022-01-30T14:17:18.087375",
     "exception": false,
     "start_time": "2022-01-30T14:17:17.991919",
     "status": "completed"
    },
    "tags": []
   },
   "outputs": [
    {
     "name": "stdout",
     "output_type": "stream",
     "text": [
      "0        0.219992\n",
      "1        0.497861\n",
      "2        0.907778\n",
      "3        0.693297\n",
      "4        1.967393\n",
      "           ...   \n",
      "26293    1.636654\n",
      "26294    0.516905\n",
      "26295    2.316923\n",
      "26296    3.959341\n",
      "26297    0.001753\n",
      "Name: num_sold, Length: 26298, dtype: float64\n"
     ]
    }
   ],
   "source": [
    "from scipy import stats\n",
    "import numpy as np\n",
    "z = np.abs(stats.zscore(df['num_sold']))\n",
    "print(z)"
   ]
  },
  {
   "cell_type": "code",
   "execution_count": 22,
   "id": "a33093cd",
   "metadata": {
    "execution": {
     "iopub.execute_input": "2022-01-30T14:17:18.253348Z",
     "iopub.status.busy": "2022-01-30T14:17:18.252677Z",
     "iopub.status.idle": "2022-01-30T14:17:18.261875Z",
     "shell.execute_reply": "2022-01-30T14:17:18.261083Z",
     "shell.execute_reply.started": "2022-01-30T07:17:13.665755Z"
    },
    "papermill": {
     "duration": 0.093852,
     "end_time": "2022-01-30T14:17:18.262088",
     "exception": false,
     "start_time": "2022-01-30T14:17:18.168236",
     "status": "completed"
    },
    "tags": []
   },
   "outputs": [
    {
     "name": "stdout",
     "output_type": "stream",
     "text": [
      "(array([   10,    16,    28,    46,    64,   442,   550,   568,   676,\n",
      "         694,   802,   820,   928,   946,  1054,  1072,  1090,  1180,\n",
      "        1198,  1306,  1324,  1432,  1450,  1558,  1576,  1666,  1684,\n",
      "        1702,  1720,  1738,  1756,  1774,  1792,  1810,  1816,  1828,\n",
      "        1846,  1936,  1954,  2062,  2080,  2188,  2206,  2224,  2242,\n",
      "        2260,  2314,  2332,  2422,  2440,  2458,  2494,  2512,  2548,\n",
      "        2566,  2584,  2638,  2674,  2692,  2710,  2944,  2962,  6472,\n",
      "        6490,  6508,  6520,  6525,  6526,  6532,  6538,  6541,  6543,\n",
      "        6544,  6550,  6562,  6568,  6580,  6598,  6604,  6616,  6976,\n",
      "        7102,  7120,  7246,  7372,  7480,  7498,  7606,  7624,  7732,\n",
      "        7750,  7876,  7984,  8002,  8110,  8128,  8146,  8164,  8182,\n",
      "        8200,  8218,  8236,  8242,  8254,  8362,  8380,  8488,  8506,\n",
      "        8614,  8632,  8758,  8830,  8866,  8884,  8992,  9064,  9082,\n",
      "        9100,  9118,  9136,  9154, 13078, 13096, 13102, 13108, 13113,\n",
      "       13114, 13120, 13126, 13131, 13132, 13138, 13144, 13147, 13149,\n",
      "       13150, 13156, 13162, 13167, 13168, 13174, 13186, 13258, 13276,\n",
      "       13294, 13402, 13420, 13528, 13780, 13798, 13924, 14032, 14050,\n",
      "       14158, 14176, 14284, 14302, 14392, 14410, 14428, 14536, 14554,\n",
      "       14590, 14626, 14644, 14662, 14680, 14788, 14806, 14842, 14896,\n",
      "       14914, 14932, 15022, 15040, 15058, 15076, 15094, 15112, 15130,\n",
      "       15136, 15148, 15166, 15172, 15184, 15190, 15202, 15256, 15274,\n",
      "       15292, 15310, 15364, 15400, 15418, 15436, 15454, 15544, 15562,\n",
      "       15670, 15688, 15706, 15724, 15796, 15814, 15832, 15922, 15940,\n",
      "       15994, 16012, 16030, 16048, 16066, 16192, 16318, 16426, 19630,\n",
      "       19648, 19660, 19665, 19666, 19672, 19678, 19681, 19683, 19684,\n",
      "       19690, 19695, 19696, 19699, 19701, 19702, 19705, 19707, 19708,\n",
      "       19714, 19717, 19719, 19720, 19725, 19726, 19738, 19744, 19756,\n",
      "       19774, 19792, 19810, 19828, 19846, 19954, 19972, 20080, 20098,\n",
      "       20206, 20224, 20332, 20350, 20368, 20458, 20476, 20548, 20566,\n",
      "       20584, 20602, 20638, 20692, 20710, 20728, 20746, 20764, 20782,\n",
      "       20836, 20854, 20872, 20890, 20908, 20926, 20944, 20962, 20980,\n",
      "       20998, 21016, 21034, 21052, 21070, 21088, 21106, 21142, 21160,\n",
      "       21196, 21214, 21232, 21268, 21286, 21304, 21322, 21340, 21358,\n",
      "       21376, 21394, 21412, 21430, 21442, 21448, 21454, 21466, 21472,\n",
      "       21484, 21490, 21502, 21520, 21538, 21574, 21592, 21610, 21628,\n",
      "       21646, 21664, 21682, 21700, 21718, 21736, 21754, 21772, 21790,\n",
      "       21808, 21826, 21844, 21862, 21898, 21916, 21934, 21952, 21970,\n",
      "       21988, 21994, 22006, 22024, 22042, 22060, 22078, 22096, 22114,\n",
      "       22132, 22150, 22168, 22186, 22204, 22222, 22240, 22258, 22276,\n",
      "       22294, 22312, 22330, 22348, 22366, 22384, 22402, 22420, 22456,\n",
      "       22474, 22492, 22528, 22600, 22618, 22726, 22744, 22780, 22852,\n",
      "       22870, 22978, 22996, 23104, 23122, 23248, 26002, 26020, 26128,\n",
      "       26146, 26200, 26218, 26230, 26235, 26236, 26242, 26247, 26248,\n",
      "       26251, 26253, 26254, 26259, 26260, 26265, 26266, 26269, 26271,\n",
      "       26272, 26277, 26278, 26284, 26289, 26290, 26296]),)\n"
     ]
    }
   ],
   "source": [
    "threshold = 3\n",
    "print(np.where(z > 3))"
   ]
  },
  {
   "cell_type": "code",
   "execution_count": 23,
   "id": "362fde23",
   "metadata": {
    "execution": {
     "iopub.execute_input": "2022-01-30T14:17:18.434935Z",
     "iopub.status.busy": "2022-01-30T14:17:18.434074Z",
     "iopub.status.idle": "2022-01-30T14:17:18.445815Z",
     "shell.execute_reply": "2022-01-30T14:17:18.445303Z",
     "shell.execute_reply.started": "2022-01-30T07:17:14.143405Z"
    },
    "papermill": {
     "duration": 0.100755,
     "end_time": "2022-01-30T14:17:18.445976",
     "exception": false,
     "start_time": "2022-01-30T14:17:18.345221",
     "status": "completed"
    },
    "tags": []
   },
   "outputs": [
    {
     "data": {
      "text/plain": [
       "(23608, 6)"
      ]
     },
     "execution_count": 23,
     "metadata": {},
     "output_type": "execute_result"
    }
   ],
   "source": [
    "\n",
    "    \n",
    "min_thresold, max_thresold = df.num_sold.quantile([0.001, 0.899])\n",
    "min_thresold, max_thresold\n",
    "df[df.num_sold < min_thresold]\n",
    "df[df.num_sold > max_thresold]\n",
    "df2 = df[(df.num_sold<max_thresold) & (df.num_sold>min_thresold)]\n",
    "df2.shape\n"
   ]
  },
  {
   "cell_type": "code",
   "execution_count": 24,
   "id": "904a66e9",
   "metadata": {
    "execution": {
     "iopub.execute_input": "2022-01-30T14:17:18.616546Z",
     "iopub.status.busy": "2022-01-30T14:17:18.615927Z",
     "iopub.status.idle": "2022-01-30T14:17:18.631545Z",
     "shell.execute_reply": "2022-01-30T14:17:18.631992Z",
     "shell.execute_reply.started": "2022-01-30T07:17:14.670356Z"
    },
    "papermill": {
     "duration": 0.10397,
     "end_time": "2022-01-30T14:17:18.632178",
     "exception": false,
     "start_time": "2022-01-30T14:17:18.528208",
     "status": "completed"
    },
    "tags": []
   },
   "outputs": [
    {
     "data": {
      "text/html": [
       "<div>\n",
       "<style scoped>\n",
       "    .dataframe tbody tr th:only-of-type {\n",
       "        vertical-align: middle;\n",
       "    }\n",
       "\n",
       "    .dataframe tbody tr th {\n",
       "        vertical-align: top;\n",
       "    }\n",
       "\n",
       "    .dataframe thead th {\n",
       "        text-align: right;\n",
       "    }\n",
       "</style>\n",
       "<table border=\"1\" class=\"dataframe\">\n",
       "  <thead>\n",
       "    <tr style=\"text-align: right;\">\n",
       "      <th></th>\n",
       "      <th>row_id</th>\n",
       "      <th>date</th>\n",
       "      <th>country</th>\n",
       "      <th>store</th>\n",
       "      <th>product</th>\n",
       "      <th>num_sold</th>\n",
       "    </tr>\n",
       "  </thead>\n",
       "  <tbody>\n",
       "    <tr>\n",
       "      <th>0</th>\n",
       "      <td>0</td>\n",
       "      <td>2015-01-01</td>\n",
       "      <td>0.0</td>\n",
       "      <td>0.0</td>\n",
       "      <td>1.0</td>\n",
       "      <td>329</td>\n",
       "    </tr>\n",
       "    <tr>\n",
       "      <th>1</th>\n",
       "      <td>1</td>\n",
       "      <td>2015-01-01</td>\n",
       "      <td>0.0</td>\n",
       "      <td>0.0</td>\n",
       "      <td>0.0</td>\n",
       "      <td>520</td>\n",
       "    </tr>\n",
       "    <tr>\n",
       "      <th>2</th>\n",
       "      <td>2</td>\n",
       "      <td>2015-01-01</td>\n",
       "      <td>0.0</td>\n",
       "      <td>0.0</td>\n",
       "      <td>2.0</td>\n",
       "      <td>146</td>\n",
       "    </tr>\n",
       "    <tr>\n",
       "      <th>3</th>\n",
       "      <td>3</td>\n",
       "      <td>2015-01-01</td>\n",
       "      <td>0.0</td>\n",
       "      <td>1.0</td>\n",
       "      <td>1.0</td>\n",
       "      <td>572</td>\n",
       "    </tr>\n",
       "    <tr>\n",
       "      <th>5</th>\n",
       "      <td>5</td>\n",
       "      <td>2015-01-01</td>\n",
       "      <td>0.0</td>\n",
       "      <td>1.0</td>\n",
       "      <td>2.0</td>\n",
       "      <td>283</td>\n",
       "    </tr>\n",
       "    <tr>\n",
       "      <th>...</th>\n",
       "      <td>...</td>\n",
       "      <td>...</td>\n",
       "      <td>...</td>\n",
       "      <td>...</td>\n",
       "      <td>...</td>\n",
       "      <td>...</td>\n",
       "    </tr>\n",
       "    <tr>\n",
       "      <th>26288</th>\n",
       "      <td>26288</td>\n",
       "      <td>2018-12-31</td>\n",
       "      <td>1.0</td>\n",
       "      <td>0.0</td>\n",
       "      <td>2.0</td>\n",
       "      <td>351</td>\n",
       "    </tr>\n",
       "    <tr>\n",
       "      <th>26291</th>\n",
       "      <td>26291</td>\n",
       "      <td>2018-12-31</td>\n",
       "      <td>1.0</td>\n",
       "      <td>1.0</td>\n",
       "      <td>2.0</td>\n",
       "      <td>561</td>\n",
       "    </tr>\n",
       "    <tr>\n",
       "      <th>26292</th>\n",
       "      <td>26292</td>\n",
       "      <td>2018-12-31</td>\n",
       "      <td>2.0</td>\n",
       "      <td>0.0</td>\n",
       "      <td>1.0</td>\n",
       "      <td>570</td>\n",
       "    </tr>\n",
       "    <tr>\n",
       "      <th>26294</th>\n",
       "      <td>26294</td>\n",
       "      <td>2018-12-31</td>\n",
       "      <td>2.0</td>\n",
       "      <td>0.0</td>\n",
       "      <td>2.0</td>\n",
       "      <td>250</td>\n",
       "    </tr>\n",
       "    <tr>\n",
       "      <th>26297</th>\n",
       "      <td>26297</td>\n",
       "      <td>2018-12-31</td>\n",
       "      <td>2.0</td>\n",
       "      <td>1.0</td>\n",
       "      <td>2.0</td>\n",
       "      <td>388</td>\n",
       "    </tr>\n",
       "  </tbody>\n",
       "</table>\n",
       "<p>23608 rows × 6 columns</p>\n",
       "</div>"
      ],
      "text/plain": [
       "       row_id        date  country  store  product  num_sold\n",
       "0           0  2015-01-01      0.0    0.0      1.0       329\n",
       "1           1  2015-01-01      0.0    0.0      0.0       520\n",
       "2           2  2015-01-01      0.0    0.0      2.0       146\n",
       "3           3  2015-01-01      0.0    1.0      1.0       572\n",
       "5           5  2015-01-01      0.0    1.0      2.0       283\n",
       "...       ...         ...      ...    ...      ...       ...\n",
       "26288   26288  2018-12-31      1.0    0.0      2.0       351\n",
       "26291   26291  2018-12-31      1.0    1.0      2.0       561\n",
       "26292   26292  2018-12-31      2.0    0.0      1.0       570\n",
       "26294   26294  2018-12-31      2.0    0.0      2.0       250\n",
       "26297   26297  2018-12-31      2.0    1.0      2.0       388\n",
       "\n",
       "[23608 rows x 6 columns]"
      ]
     },
     "execution_count": 24,
     "metadata": {},
     "output_type": "execute_result"
    }
   ],
   "source": [
    "df2\n"
   ]
  },
  {
   "cell_type": "code",
   "execution_count": null,
   "id": "5d512ae0",
   "metadata": {
    "papermill": {
     "duration": 0.081778,
     "end_time": "2022-01-30T14:17:18.795612",
     "exception": false,
     "start_time": "2022-01-30T14:17:18.713834",
     "status": "completed"
    },
    "tags": []
   },
   "outputs": [],
   "source": []
  },
  {
   "cell_type": "code",
   "execution_count": 25,
   "id": "c7e053bd",
   "metadata": {
    "execution": {
     "iopub.execute_input": "2022-01-30T14:17:18.967174Z",
     "iopub.status.busy": "2022-01-30T14:17:18.966418Z",
     "iopub.status.idle": "2022-01-30T14:17:18.969963Z",
     "shell.execute_reply": "2022-01-30T14:17:18.969415Z",
     "shell.execute_reply.started": "2022-01-30T07:17:16.346592Z"
    },
    "papermill": {
     "duration": 0.091701,
     "end_time": "2022-01-30T14:17:18.970093",
     "exception": false,
     "start_time": "2022-01-30T14:17:18.878392",
     "status": "completed"
    },
    "tags": []
   },
   "outputs": [
    {
     "data": {
      "text/plain": [
       "(26298, 6)"
      ]
     },
     "execution_count": 25,
     "metadata": {},
     "output_type": "execute_result"
    }
   ],
   "source": [
    "df.shape"
   ]
  },
  {
   "cell_type": "code",
   "execution_count": 26,
   "id": "9c4ef70b",
   "metadata": {
    "execution": {
     "iopub.execute_input": "2022-01-30T14:17:19.141533Z",
     "iopub.status.busy": "2022-01-30T14:17:19.140923Z",
     "iopub.status.idle": "2022-01-30T14:17:19.145905Z",
     "shell.execute_reply": "2022-01-30T14:17:19.146486Z",
     "shell.execute_reply.started": "2022-01-30T07:17:16.785263Z"
    },
    "papermill": {
     "duration": 0.090421,
     "end_time": "2022-01-30T14:17:19.146644",
     "exception": false,
     "start_time": "2022-01-30T14:17:19.056223",
     "status": "completed"
    },
    "tags": []
   },
   "outputs": [
    {
     "data": {
      "text/plain": [
       "(23608, 6)"
      ]
     },
     "execution_count": 26,
     "metadata": {},
     "output_type": "execute_result"
    }
   ],
   "source": [
    "df2.shape"
   ]
  },
  {
   "cell_type": "code",
   "execution_count": 27,
   "id": "edbf4fb8",
   "metadata": {
    "execution": {
     "iopub.execute_input": "2022-01-30T14:17:19.314671Z",
     "iopub.status.busy": "2022-01-30T14:17:19.314070Z",
     "iopub.status.idle": "2022-01-30T14:17:19.341733Z",
     "shell.execute_reply": "2022-01-30T14:17:19.342307Z",
     "shell.execute_reply.started": "2022-01-30T07:17:17.198916Z"
    },
    "papermill": {
     "duration": 0.113849,
     "end_time": "2022-01-30T14:17:19.342522",
     "exception": false,
     "start_time": "2022-01-30T14:17:19.228673",
     "status": "completed"
    },
    "tags": []
   },
   "outputs": [
    {
     "data": {
      "text/html": [
       "<div>\n",
       "<style scoped>\n",
       "    .dataframe tbody tr th:only-of-type {\n",
       "        vertical-align: middle;\n",
       "    }\n",
       "\n",
       "    .dataframe tbody tr th {\n",
       "        vertical-align: top;\n",
       "    }\n",
       "\n",
       "    .dataframe thead th {\n",
       "        text-align: right;\n",
       "    }\n",
       "</style>\n",
       "<table border=\"1\" class=\"dataframe\">\n",
       "  <thead>\n",
       "    <tr style=\"text-align: right;\">\n",
       "      <th></th>\n",
       "      <th>row_id</th>\n",
       "      <th>country</th>\n",
       "      <th>store</th>\n",
       "      <th>product</th>\n",
       "      <th>num_sold</th>\n",
       "    </tr>\n",
       "  </thead>\n",
       "  <tbody>\n",
       "    <tr>\n",
       "      <th>count</th>\n",
       "      <td>23608.000000</td>\n",
       "      <td>23608.000000</td>\n",
       "      <td>23608.000000</td>\n",
       "      <td>23608.000000</td>\n",
       "      <td>23608.000000</td>\n",
       "    </tr>\n",
       "    <tr>\n",
       "      <th>mean</th>\n",
       "      <td>13057.302863</td>\n",
       "      <td>0.986022</td>\n",
       "      <td>0.454761</td>\n",
       "      <td>1.104117</td>\n",
       "      <td>320.994536</td>\n",
       "    </tr>\n",
       "    <tr>\n",
       "      <th>std</th>\n",
       "      <td>7573.776559</td>\n",
       "      <td>0.835862</td>\n",
       "      <td>0.497960</td>\n",
       "      <td>0.790669</td>\n",
       "      <td>167.470090</td>\n",
       "    </tr>\n",
       "    <tr>\n",
       "      <th>min</th>\n",
       "      <td>0.000000</td>\n",
       "      <td>0.000000</td>\n",
       "      <td>0.000000</td>\n",
       "      <td>0.000000</td>\n",
       "      <td>78.000000</td>\n",
       "    </tr>\n",
       "    <tr>\n",
       "      <th>25%</th>\n",
       "      <td>6425.750000</td>\n",
       "      <td>0.000000</td>\n",
       "      <td>0.000000</td>\n",
       "      <td>0.000000</td>\n",
       "      <td>183.000000</td>\n",
       "    </tr>\n",
       "    <tr>\n",
       "      <th>50%</th>\n",
       "      <td>12865.500000</td>\n",
       "      <td>1.000000</td>\n",
       "      <td>0.000000</td>\n",
       "      <td>1.000000</td>\n",
       "      <td>289.000000</td>\n",
       "    </tr>\n",
       "    <tr>\n",
       "      <th>75%</th>\n",
       "      <td>19461.250000</td>\n",
       "      <td>2.000000</td>\n",
       "      <td>1.000000</td>\n",
       "      <td>2.000000</td>\n",
       "      <td>433.000000</td>\n",
       "    </tr>\n",
       "    <tr>\n",
       "      <th>max</th>\n",
       "      <td>26297.000000</td>\n",
       "      <td>2.000000</td>\n",
       "      <td>1.000000</td>\n",
       "      <td>2.000000</td>\n",
       "      <td>738.000000</td>\n",
       "    </tr>\n",
       "  </tbody>\n",
       "</table>\n",
       "</div>"
      ],
      "text/plain": [
       "             row_id       country         store       product      num_sold\n",
       "count  23608.000000  23608.000000  23608.000000  23608.000000  23608.000000\n",
       "mean   13057.302863      0.986022      0.454761      1.104117    320.994536\n",
       "std     7573.776559      0.835862      0.497960      0.790669    167.470090\n",
       "min        0.000000      0.000000      0.000000      0.000000     78.000000\n",
       "25%     6425.750000      0.000000      0.000000      0.000000    183.000000\n",
       "50%    12865.500000      1.000000      0.000000      1.000000    289.000000\n",
       "75%    19461.250000      2.000000      1.000000      2.000000    433.000000\n",
       "max    26297.000000      2.000000      1.000000      2.000000    738.000000"
      ]
     },
     "execution_count": 27,
     "metadata": {},
     "output_type": "execute_result"
    }
   ],
   "source": [
    "df2.describe()\n"
   ]
  },
  {
   "cell_type": "code",
   "execution_count": 28,
   "id": "17abca22",
   "metadata": {
    "execution": {
     "iopub.execute_input": "2022-01-30T14:17:19.515098Z",
     "iopub.status.busy": "2022-01-30T14:17:19.514408Z",
     "iopub.status.idle": "2022-01-30T14:17:19.519152Z",
     "shell.execute_reply": "2022-01-30T14:17:19.519739Z",
     "shell.execute_reply.started": "2022-01-30T07:17:18.229914Z"
    },
    "papermill": {
     "duration": 0.093158,
     "end_time": "2022-01-30T14:17:19.519940",
     "exception": false,
     "start_time": "2022-01-30T14:17:19.426782",
     "status": "completed"
    },
    "tags": []
   },
   "outputs": [
    {
     "data": {
      "text/plain": [
       "738"
      ]
     },
     "execution_count": 28,
     "metadata": {},
     "output_type": "execute_result"
    }
   ],
   "source": [
    "df2.num_sold.max()"
   ]
  },
  {
   "cell_type": "code",
   "execution_count": 29,
   "id": "5a847d71",
   "metadata": {
    "execution": {
     "iopub.execute_input": "2022-01-30T14:17:19.691853Z",
     "iopub.status.busy": "2022-01-30T14:17:19.691123Z",
     "iopub.status.idle": "2022-01-30T14:17:19.716474Z",
     "shell.execute_reply": "2022-01-30T14:17:19.717000Z",
     "shell.execute_reply.started": "2022-01-30T07:17:19.026311Z"
    },
    "papermill": {
     "duration": 0.113474,
     "end_time": "2022-01-30T14:17:19.717220",
     "exception": false,
     "start_time": "2022-01-30T14:17:19.603746",
     "status": "completed"
    },
    "tags": []
   },
   "outputs": [
    {
     "data": {
      "text/html": [
       "<div>\n",
       "<style scoped>\n",
       "    .dataframe tbody tr th:only-of-type {\n",
       "        vertical-align: middle;\n",
       "    }\n",
       "\n",
       "    .dataframe tbody tr th {\n",
       "        vertical-align: top;\n",
       "    }\n",
       "\n",
       "    .dataframe thead th {\n",
       "        text-align: right;\n",
       "    }\n",
       "</style>\n",
       "<table border=\"1\" class=\"dataframe\">\n",
       "  <thead>\n",
       "    <tr style=\"text-align: right;\">\n",
       "      <th></th>\n",
       "      <th>row_id</th>\n",
       "      <th>country</th>\n",
       "      <th>store</th>\n",
       "      <th>product</th>\n",
       "      <th>num_sold</th>\n",
       "    </tr>\n",
       "  </thead>\n",
       "  <tbody>\n",
       "    <tr>\n",
       "      <th>count</th>\n",
       "      <td>26298.000000</td>\n",
       "      <td>26298.000000</td>\n",
       "      <td>26298.00000</td>\n",
       "      <td>26298.000000</td>\n",
       "      <td>26298.000000</td>\n",
       "    </tr>\n",
       "    <tr>\n",
       "      <th>mean</th>\n",
       "      <td>13148.500000</td>\n",
       "      <td>1.000000</td>\n",
       "      <td>0.50000</td>\n",
       "      <td>1.000000</td>\n",
       "      <td>387.533577</td>\n",
       "    </tr>\n",
       "    <tr>\n",
       "      <th>std</th>\n",
       "      <td>7591.723026</td>\n",
       "      <td>0.816512</td>\n",
       "      <td>0.50001</td>\n",
       "      <td>0.816512</td>\n",
       "      <td>266.076193</td>\n",
       "    </tr>\n",
       "    <tr>\n",
       "      <th>min</th>\n",
       "      <td>0.000000</td>\n",
       "      <td>0.000000</td>\n",
       "      <td>0.00000</td>\n",
       "      <td>0.000000</td>\n",
       "      <td>70.000000</td>\n",
       "    </tr>\n",
       "    <tr>\n",
       "      <th>25%</th>\n",
       "      <td>6574.250000</td>\n",
       "      <td>0.000000</td>\n",
       "      <td>0.00000</td>\n",
       "      <td>0.000000</td>\n",
       "      <td>190.000000</td>\n",
       "    </tr>\n",
       "    <tr>\n",
       "      <th>50%</th>\n",
       "      <td>13148.500000</td>\n",
       "      <td>1.000000</td>\n",
       "      <td>0.50000</td>\n",
       "      <td>1.000000</td>\n",
       "      <td>315.000000</td>\n",
       "    </tr>\n",
       "    <tr>\n",
       "      <th>75%</th>\n",
       "      <td>19722.750000</td>\n",
       "      <td>2.000000</td>\n",
       "      <td>1.00000</td>\n",
       "      <td>2.000000</td>\n",
       "      <td>510.000000</td>\n",
       "    </tr>\n",
       "    <tr>\n",
       "      <th>max</th>\n",
       "      <td>26297.000000</td>\n",
       "      <td>2.000000</td>\n",
       "      <td>1.00000</td>\n",
       "      <td>2.000000</td>\n",
       "      <td>2884.000000</td>\n",
       "    </tr>\n",
       "  </tbody>\n",
       "</table>\n",
       "</div>"
      ],
      "text/plain": [
       "             row_id       country        store       product      num_sold\n",
       "count  26298.000000  26298.000000  26298.00000  26298.000000  26298.000000\n",
       "mean   13148.500000      1.000000      0.50000      1.000000    387.533577\n",
       "std     7591.723026      0.816512      0.50001      0.816512    266.076193\n",
       "min        0.000000      0.000000      0.00000      0.000000     70.000000\n",
       "25%     6574.250000      0.000000      0.00000      0.000000    190.000000\n",
       "50%    13148.500000      1.000000      0.50000      1.000000    315.000000\n",
       "75%    19722.750000      2.000000      1.00000      2.000000    510.000000\n",
       "max    26297.000000      2.000000      1.00000      2.000000   2884.000000"
      ]
     },
     "execution_count": 29,
     "metadata": {},
     "output_type": "execute_result"
    }
   ],
   "source": [
    "df.describe()"
   ]
  },
  {
   "cell_type": "code",
   "execution_count": 30,
   "id": "500be3d6",
   "metadata": {
    "execution": {
     "iopub.execute_input": "2022-01-30T14:17:19.890940Z",
     "iopub.status.busy": "2022-01-30T14:17:19.890243Z",
     "iopub.status.idle": "2022-01-30T14:17:19.896109Z",
     "shell.execute_reply": "2022-01-30T14:17:19.896626Z",
     "shell.execute_reply.started": "2022-01-30T07:17:19.548571Z"
    },
    "papermill": {
     "duration": 0.094681,
     "end_time": "2022-01-30T14:17:19.896819",
     "exception": false,
     "start_time": "2022-01-30T14:17:19.802138",
     "status": "completed"
    },
    "tags": []
   },
   "outputs": [
    {
     "name": "stdout",
     "output_type": "stream",
     "text": [
      "Categorical variables:\n",
      "['date']\n"
     ]
    }
   ],
   "source": [
    "s=(df2.dtypes=='object')\n",
    "object_cols = list(s[s].index)\n",
    "\n",
    "print(\"Categorical variables:\")\n",
    "print(object_cols)"
   ]
  },
  {
   "cell_type": "code",
   "execution_count": 31,
   "id": "6b744825",
   "metadata": {
    "execution": {
     "iopub.execute_input": "2022-01-30T14:17:20.074637Z",
     "iopub.status.busy": "2022-01-30T14:17:20.073950Z",
     "iopub.status.idle": "2022-01-30T14:17:20.091486Z",
     "shell.execute_reply": "2022-01-30T14:17:20.090884Z",
     "shell.execute_reply.started": "2022-01-30T07:17:20.002316Z"
    },
    "papermill": {
     "duration": 0.108392,
     "end_time": "2022-01-30T14:17:20.091667",
     "exception": false,
     "start_time": "2022-01-30T14:17:19.983275",
     "status": "completed"
    },
    "tags": []
   },
   "outputs": [
    {
     "name": "stdout",
     "output_type": "stream",
     "text": [
      "<class 'pandas.core.frame.DataFrame'>\n",
      "Int64Index: 23608 entries, 0 to 26297\n",
      "Data columns (total 6 columns):\n",
      " #   Column    Non-Null Count  Dtype  \n",
      "---  ------    --------------  -----  \n",
      " 0   row_id    23608 non-null  int64  \n",
      " 1   date      23608 non-null  object \n",
      " 2   country   23608 non-null  float64\n",
      " 3   store     23608 non-null  float64\n",
      " 4   product   23608 non-null  float64\n",
      " 5   num_sold  23608 non-null  int64  \n",
      "dtypes: float64(3), int64(2), object(1)\n",
      "memory usage: 1.3+ MB\n"
     ]
    }
   ],
   "source": [
    "df2.info()"
   ]
  },
  {
   "cell_type": "code",
   "execution_count": 32,
   "id": "bf46fe22",
   "metadata": {
    "execution": {
     "iopub.execute_input": "2022-01-30T14:17:20.279095Z",
     "iopub.status.busy": "2022-01-30T14:17:20.269910Z",
     "iopub.status.idle": "2022-01-30T14:17:20.283507Z",
     "shell.execute_reply": "2022-01-30T14:17:20.282824Z",
     "shell.execute_reply.started": "2022-01-30T07:17:20.584701Z"
    },
    "papermill": {
     "duration": 0.103428,
     "end_time": "2022-01-30T14:17:20.283666",
     "exception": false,
     "start_time": "2022-01-30T14:17:20.180238",
     "status": "completed"
    },
    "tags": []
   },
   "outputs": [
    {
     "data": {
      "text/html": [
       "<div>\n",
       "<style scoped>\n",
       "    .dataframe tbody tr th:only-of-type {\n",
       "        vertical-align: middle;\n",
       "    }\n",
       "\n",
       "    .dataframe tbody tr th {\n",
       "        vertical-align: top;\n",
       "    }\n",
       "\n",
       "    .dataframe thead th {\n",
       "        text-align: right;\n",
       "    }\n",
       "</style>\n",
       "<table border=\"1\" class=\"dataframe\">\n",
       "  <thead>\n",
       "    <tr style=\"text-align: right;\">\n",
       "      <th></th>\n",
       "      <th>row_id</th>\n",
       "      <th>date</th>\n",
       "      <th>country</th>\n",
       "      <th>store</th>\n",
       "      <th>product</th>\n",
       "      <th>num_sold</th>\n",
       "    </tr>\n",
       "  </thead>\n",
       "  <tbody>\n",
       "    <tr>\n",
       "      <th>0</th>\n",
       "      <td>0</td>\n",
       "      <td>2015-01-01</td>\n",
       "      <td>0.0</td>\n",
       "      <td>0.0</td>\n",
       "      <td>1.0</td>\n",
       "      <td>329</td>\n",
       "    </tr>\n",
       "    <tr>\n",
       "      <th>1</th>\n",
       "      <td>1</td>\n",
       "      <td>2015-01-01</td>\n",
       "      <td>0.0</td>\n",
       "      <td>0.0</td>\n",
       "      <td>0.0</td>\n",
       "      <td>520</td>\n",
       "    </tr>\n",
       "  </tbody>\n",
       "</table>\n",
       "</div>"
      ],
      "text/plain": [
       "   row_id        date  country  store  product  num_sold\n",
       "0       0  2015-01-01      0.0    0.0      1.0       329\n",
       "1       1  2015-01-01      0.0    0.0      0.0       520"
      ]
     },
     "execution_count": 32,
     "metadata": {},
     "output_type": "execute_result"
    }
   ],
   "source": [
    "df2.head(2)\n"
   ]
  },
  {
   "cell_type": "code",
   "execution_count": 33,
   "id": "3d2764dc",
   "metadata": {
    "execution": {
     "iopub.execute_input": "2022-01-30T14:17:20.469008Z",
     "iopub.status.busy": "2022-01-30T14:17:20.467990Z",
     "iopub.status.idle": "2022-01-30T14:17:20.472919Z",
     "shell.execute_reply": "2022-01-30T14:17:20.472282Z",
     "shell.execute_reply.started": "2022-01-30T07:17:29.516852Z"
    },
    "papermill": {
     "duration": 0.102889,
     "end_time": "2022-01-30T14:17:20.473075",
     "exception": false,
     "start_time": "2022-01-30T14:17:20.370186",
     "status": "completed"
    },
    "tags": []
   },
   "outputs": [
    {
     "data": {
      "text/html": [
       "<div>\n",
       "<style scoped>\n",
       "    .dataframe tbody tr th:only-of-type {\n",
       "        vertical-align: middle;\n",
       "    }\n",
       "\n",
       "    .dataframe tbody tr th {\n",
       "        vertical-align: top;\n",
       "    }\n",
       "\n",
       "    .dataframe thead th {\n",
       "        text-align: right;\n",
       "    }\n",
       "</style>\n",
       "<table border=\"1\" class=\"dataframe\">\n",
       "  <thead>\n",
       "    <tr style=\"text-align: right;\">\n",
       "      <th></th>\n",
       "      <th>row_id</th>\n",
       "      <th>date</th>\n",
       "      <th>country</th>\n",
       "      <th>store</th>\n",
       "      <th>product</th>\n",
       "    </tr>\n",
       "  </thead>\n",
       "  <tbody>\n",
       "    <tr>\n",
       "      <th>0</th>\n",
       "      <td>26298</td>\n",
       "      <td>2019-01-01</td>\n",
       "      <td>0.0</td>\n",
       "      <td>0.0</td>\n",
       "      <td>1.0</td>\n",
       "    </tr>\n",
       "    <tr>\n",
       "      <th>1</th>\n",
       "      <td>26299</td>\n",
       "      <td>2019-01-01</td>\n",
       "      <td>0.0</td>\n",
       "      <td>0.0</td>\n",
       "      <td>0.0</td>\n",
       "    </tr>\n",
       "  </tbody>\n",
       "</table>\n",
       "</div>"
      ],
      "text/plain": [
       "   row_id        date  country  store  product\n",
       "0   26298  2019-01-01      0.0    0.0      1.0\n",
       "1   26299  2019-01-01      0.0    0.0      0.0"
      ]
     },
     "execution_count": 33,
     "metadata": {},
     "output_type": "execute_result"
    }
   ],
   "source": [
    "test_df.head(2)"
   ]
  },
  {
   "cell_type": "code",
   "execution_count": 34,
   "id": "43dabea4",
   "metadata": {
    "execution": {
     "iopub.execute_input": "2022-01-30T14:17:20.650347Z",
     "iopub.status.busy": "2022-01-30T14:17:20.649729Z",
     "iopub.status.idle": "2022-01-30T14:17:20.654607Z",
     "shell.execute_reply": "2022-01-30T14:17:20.655105Z",
     "shell.execute_reply.started": "2022-01-30T07:17:30.957619Z"
    },
    "papermill": {
     "duration": 0.094611,
     "end_time": "2022-01-30T14:17:20.655279",
     "exception": false,
     "start_time": "2022-01-30T14:17:20.560668",
     "status": "completed"
    },
    "tags": []
   },
   "outputs": [],
   "source": [
    "def data(df2):\n",
    "    # Converting to datetime datatype\n",
    "    df2['date'] = pd.to_datetime(df2['date'])\n",
    "    df2['year']= df2['date'].dt.year\n",
    "    df2['month']= df2['date'].dt.month\n",
    "    df2['day']= df2['date'].dt.day\n",
    "    df2\n",
    "    return df2"
   ]
  },
  {
   "cell_type": "markdown",
   "id": "f24a6e30",
   "metadata": {
    "papermill": {
     "duration": 0.086258,
     "end_time": "2022-01-30T14:17:20.829037",
     "exception": false,
     "start_time": "2022-01-30T14:17:20.742779",
     "status": "completed"
    },
    "tags": []
   },
   "source": []
  },
  {
   "cell_type": "code",
   "execution_count": 35,
   "id": "ce85e9af",
   "metadata": {
    "execution": {
     "iopub.execute_input": "2022-01-30T14:17:21.007629Z",
     "iopub.status.busy": "2022-01-30T14:17:21.006985Z",
     "iopub.status.idle": "2022-01-30T14:17:21.038779Z",
     "shell.execute_reply": "2022-01-30T14:17:21.038179Z",
     "shell.execute_reply.started": "2022-01-30T07:17:48.66001Z"
    },
    "papermill": {
     "duration": 0.12149,
     "end_time": "2022-01-30T14:17:21.038935",
     "exception": false,
     "start_time": "2022-01-30T14:17:20.917445",
     "status": "completed"
    },
    "tags": []
   },
   "outputs": [
    {
     "name": "stderr",
     "output_type": "stream",
     "text": [
      "/opt/conda/lib/python3.7/site-packages/ipykernel_launcher.py:3: SettingWithCopyWarning: \n",
      "A value is trying to be set on a copy of a slice from a DataFrame.\n",
      "Try using .loc[row_indexer,col_indexer] = value instead\n",
      "\n",
      "See the caveats in the documentation: https://pandas.pydata.org/pandas-docs/stable/user_guide/indexing.html#returning-a-view-versus-a-copy\n",
      "  This is separate from the ipykernel package so we can avoid doing imports until\n",
      "/opt/conda/lib/python3.7/site-packages/ipykernel_launcher.py:4: SettingWithCopyWarning: \n",
      "A value is trying to be set on a copy of a slice from a DataFrame.\n",
      "Try using .loc[row_indexer,col_indexer] = value instead\n",
      "\n",
      "See the caveats in the documentation: https://pandas.pydata.org/pandas-docs/stable/user_guide/indexing.html#returning-a-view-versus-a-copy\n",
      "  after removing the cwd from sys.path.\n",
      "/opt/conda/lib/python3.7/site-packages/ipykernel_launcher.py:5: SettingWithCopyWarning: \n",
      "A value is trying to be set on a copy of a slice from a DataFrame.\n",
      "Try using .loc[row_indexer,col_indexer] = value instead\n",
      "\n",
      "See the caveats in the documentation: https://pandas.pydata.org/pandas-docs/stable/user_guide/indexing.html#returning-a-view-versus-a-copy\n",
      "  \"\"\"\n",
      "/opt/conda/lib/python3.7/site-packages/ipykernel_launcher.py:6: SettingWithCopyWarning: \n",
      "A value is trying to be set on a copy of a slice from a DataFrame.\n",
      "Try using .loc[row_indexer,col_indexer] = value instead\n",
      "\n",
      "See the caveats in the documentation: https://pandas.pydata.org/pandas-docs/stable/user_guide/indexing.html#returning-a-view-versus-a-copy\n",
      "  \n"
     ]
    }
   ],
   "source": [
    "test1=data(test_df)\n",
    "df3=data(df2)"
   ]
  },
  {
   "cell_type": "code",
   "execution_count": 36,
   "id": "a69d352c",
   "metadata": {
    "execution": {
     "iopub.execute_input": "2022-01-30T14:17:21.226967Z",
     "iopub.status.busy": "2022-01-30T14:17:21.226276Z",
     "iopub.status.idle": "2022-01-30T14:17:21.228912Z",
     "shell.execute_reply": "2022-01-30T14:17:21.229377Z",
     "shell.execute_reply.started": "2022-01-30T07:17:50.162149Z"
    },
    "papermill": {
     "duration": 0.103338,
     "end_time": "2022-01-30T14:17:21.229587",
     "exception": false,
     "start_time": "2022-01-30T14:17:21.126249",
     "status": "completed"
    },
    "tags": []
   },
   "outputs": [
    {
     "data": {
      "text/html": [
       "<div>\n",
       "<style scoped>\n",
       "    .dataframe tbody tr th:only-of-type {\n",
       "        vertical-align: middle;\n",
       "    }\n",
       "\n",
       "    .dataframe tbody tr th {\n",
       "        vertical-align: top;\n",
       "    }\n",
       "\n",
       "    .dataframe thead th {\n",
       "        text-align: right;\n",
       "    }\n",
       "</style>\n",
       "<table border=\"1\" class=\"dataframe\">\n",
       "  <thead>\n",
       "    <tr style=\"text-align: right;\">\n",
       "      <th></th>\n",
       "      <th>row_id</th>\n",
       "      <th>date</th>\n",
       "      <th>country</th>\n",
       "      <th>store</th>\n",
       "      <th>product</th>\n",
       "      <th>num_sold</th>\n",
       "      <th>year</th>\n",
       "      <th>month</th>\n",
       "      <th>day</th>\n",
       "    </tr>\n",
       "  </thead>\n",
       "  <tbody>\n",
       "    <tr>\n",
       "      <th>0</th>\n",
       "      <td>0</td>\n",
       "      <td>2015-01-01</td>\n",
       "      <td>0.0</td>\n",
       "      <td>0.0</td>\n",
       "      <td>1.0</td>\n",
       "      <td>329</td>\n",
       "      <td>2015</td>\n",
       "      <td>1</td>\n",
       "      <td>1</td>\n",
       "    </tr>\n",
       "    <tr>\n",
       "      <th>1</th>\n",
       "      <td>1</td>\n",
       "      <td>2015-01-01</td>\n",
       "      <td>0.0</td>\n",
       "      <td>0.0</td>\n",
       "      <td>0.0</td>\n",
       "      <td>520</td>\n",
       "      <td>2015</td>\n",
       "      <td>1</td>\n",
       "      <td>1</td>\n",
       "    </tr>\n",
       "  </tbody>\n",
       "</table>\n",
       "</div>"
      ],
      "text/plain": [
       "   row_id       date  country  store  product  num_sold  year  month  day\n",
       "0       0 2015-01-01      0.0    0.0      1.0       329  2015      1    1\n",
       "1       1 2015-01-01      0.0    0.0      0.0       520  2015      1    1"
      ]
     },
     "execution_count": 36,
     "metadata": {},
     "output_type": "execute_result"
    }
   ],
   "source": [
    "df3.head(2)"
   ]
  },
  {
   "cell_type": "code",
   "execution_count": 37,
   "id": "428faccf",
   "metadata": {
    "execution": {
     "iopub.execute_input": "2022-01-30T14:17:21.411138Z",
     "iopub.status.busy": "2022-01-30T14:17:21.410410Z",
     "iopub.status.idle": "2022-01-30T14:17:21.422456Z",
     "shell.execute_reply": "2022-01-30T14:17:21.423081Z",
     "shell.execute_reply.started": "2022-01-30T07:17:51.106305Z"
    },
    "papermill": {
     "duration": 0.106643,
     "end_time": "2022-01-30T14:17:21.423267",
     "exception": false,
     "start_time": "2022-01-30T14:17:21.316624",
     "status": "completed"
    },
    "tags": []
   },
   "outputs": [
    {
     "data": {
      "text/html": [
       "<div>\n",
       "<style scoped>\n",
       "    .dataframe tbody tr th:only-of-type {\n",
       "        vertical-align: middle;\n",
       "    }\n",
       "\n",
       "    .dataframe tbody tr th {\n",
       "        vertical-align: top;\n",
       "    }\n",
       "\n",
       "    .dataframe thead th {\n",
       "        text-align: right;\n",
       "    }\n",
       "</style>\n",
       "<table border=\"1\" class=\"dataframe\">\n",
       "  <thead>\n",
       "    <tr style=\"text-align: right;\">\n",
       "      <th></th>\n",
       "      <th>row_id</th>\n",
       "      <th>country</th>\n",
       "      <th>store</th>\n",
       "      <th>product</th>\n",
       "      <th>num_sold</th>\n",
       "      <th>year</th>\n",
       "      <th>month</th>\n",
       "      <th>day</th>\n",
       "    </tr>\n",
       "  </thead>\n",
       "  <tbody>\n",
       "    <tr>\n",
       "      <th>0</th>\n",
       "      <td>0</td>\n",
       "      <td>0.0</td>\n",
       "      <td>0.0</td>\n",
       "      <td>1.0</td>\n",
       "      <td>329</td>\n",
       "      <td>2015</td>\n",
       "      <td>1</td>\n",
       "      <td>1</td>\n",
       "    </tr>\n",
       "    <tr>\n",
       "      <th>1</th>\n",
       "      <td>1</td>\n",
       "      <td>0.0</td>\n",
       "      <td>0.0</td>\n",
       "      <td>0.0</td>\n",
       "      <td>520</td>\n",
       "      <td>2015</td>\n",
       "      <td>1</td>\n",
       "      <td>1</td>\n",
       "    </tr>\n",
       "  </tbody>\n",
       "</table>\n",
       "</div>"
      ],
      "text/plain": [
       "   row_id  country  store  product  num_sold  year  month  day\n",
       "0       0      0.0    0.0      1.0       329  2015      1    1\n",
       "1       1      0.0    0.0      0.0       520  2015      1    1"
      ]
     },
     "execution_count": 37,
     "metadata": {},
     "output_type": "execute_result"
    }
   ],
   "source": [
    "df4= df2.drop('date',axis=1)\n",
    "df4.head(2)"
   ]
  },
  {
   "cell_type": "code",
   "execution_count": 38,
   "id": "dfea60ad",
   "metadata": {
    "execution": {
     "iopub.execute_input": "2022-01-30T14:17:21.604936Z",
     "iopub.status.busy": "2022-01-30T14:17:21.604305Z",
     "iopub.status.idle": "2022-01-30T14:17:21.615502Z",
     "shell.execute_reply": "2022-01-30T14:17:21.616081Z",
     "shell.execute_reply.started": "2022-01-30T07:18:14.074084Z"
    },
    "papermill": {
     "duration": 0.105975,
     "end_time": "2022-01-30T14:17:21.616258",
     "exception": false,
     "start_time": "2022-01-30T14:17:21.510283",
     "status": "completed"
    },
    "tags": []
   },
   "outputs": [
    {
     "data": {
      "text/html": [
       "<div>\n",
       "<style scoped>\n",
       "    .dataframe tbody tr th:only-of-type {\n",
       "        vertical-align: middle;\n",
       "    }\n",
       "\n",
       "    .dataframe tbody tr th {\n",
       "        vertical-align: top;\n",
       "    }\n",
       "\n",
       "    .dataframe thead th {\n",
       "        text-align: right;\n",
       "    }\n",
       "</style>\n",
       "<table border=\"1\" class=\"dataframe\">\n",
       "  <thead>\n",
       "    <tr style=\"text-align: right;\">\n",
       "      <th></th>\n",
       "      <th>row_id</th>\n",
       "      <th>country</th>\n",
       "      <th>store</th>\n",
       "      <th>product</th>\n",
       "      <th>year</th>\n",
       "      <th>month</th>\n",
       "      <th>day</th>\n",
       "    </tr>\n",
       "  </thead>\n",
       "  <tbody>\n",
       "    <tr>\n",
       "      <th>0</th>\n",
       "      <td>26298</td>\n",
       "      <td>0.0</td>\n",
       "      <td>0.0</td>\n",
       "      <td>1.0</td>\n",
       "      <td>2019</td>\n",
       "      <td>1</td>\n",
       "      <td>1</td>\n",
       "    </tr>\n",
       "    <tr>\n",
       "      <th>1</th>\n",
       "      <td>26299</td>\n",
       "      <td>0.0</td>\n",
       "      <td>0.0</td>\n",
       "      <td>0.0</td>\n",
       "      <td>2019</td>\n",
       "      <td>1</td>\n",
       "      <td>1</td>\n",
       "    </tr>\n",
       "  </tbody>\n",
       "</table>\n",
       "</div>"
      ],
      "text/plain": [
       "   row_id  country  store  product  year  month  day\n",
       "0   26298      0.0    0.0      1.0  2019      1    1\n",
       "1   26299      0.0    0.0      0.0  2019      1    1"
      ]
     },
     "execution_count": 38,
     "metadata": {},
     "output_type": "execute_result"
    }
   ],
   "source": [
    "test2=test1.drop('date',axis=1)\n",
    "test2.head(2)"
   ]
  },
  {
   "cell_type": "code",
   "execution_count": null,
   "id": "c80d7350",
   "metadata": {
    "papermill": {
     "duration": 0.087982,
     "end_time": "2022-01-30T14:17:21.792144",
     "exception": false,
     "start_time": "2022-01-30T14:17:21.704162",
     "status": "completed"
    },
    "tags": []
   },
   "outputs": [],
   "source": []
  },
  {
   "cell_type": "code",
   "execution_count": 39,
   "id": "03321ead",
   "metadata": {
    "execution": {
     "iopub.execute_input": "2022-01-30T14:17:21.972608Z",
     "iopub.status.busy": "2022-01-30T14:17:21.971881Z",
     "iopub.status.idle": "2022-01-30T14:17:21.979429Z",
     "shell.execute_reply": "2022-01-30T14:17:21.978755Z",
     "shell.execute_reply.started": "2022-01-30T07:18:19.629668Z"
    },
    "papermill": {
     "duration": 0.100819,
     "end_time": "2022-01-30T14:17:21.979617",
     "exception": false,
     "start_time": "2022-01-30T14:17:21.878798",
     "status": "completed"
    },
    "tags": []
   },
   "outputs": [
    {
     "name": "stdout",
     "output_type": "stream",
     "text": [
      "Categorical variables:\n",
      "[]\n"
     ]
    }
   ],
   "source": [
    "s=(df4.dtypes=='object')\n",
    "object_cols = list(s[s].index)\n",
    "\n",
    "print(\"Categorical variables:\")\n",
    "print(object_cols)"
   ]
  },
  {
   "cell_type": "code",
   "execution_count": 40,
   "id": "2568c8d6",
   "metadata": {
    "execution": {
     "iopub.execute_input": "2022-01-30T14:17:22.198598Z",
     "iopub.status.busy": "2022-01-30T14:17:22.197957Z",
     "iopub.status.idle": "2022-01-30T14:17:22.233560Z",
     "shell.execute_reply": "2022-01-30T14:17:22.234072Z",
     "shell.execute_reply.started": "2022-01-30T07:18:20.63094Z"
    },
    "papermill": {
     "duration": 0.143412,
     "end_time": "2022-01-30T14:17:22.234262",
     "exception": false,
     "start_time": "2022-01-30T14:17:22.090850",
     "status": "completed"
    },
    "tags": []
   },
   "outputs": [
    {
     "data": {
      "text/html": [
       "<div>\n",
       "<style scoped>\n",
       "    .dataframe tbody tr th:only-of-type {\n",
       "        vertical-align: middle;\n",
       "    }\n",
       "\n",
       "    .dataframe tbody tr th {\n",
       "        vertical-align: top;\n",
       "    }\n",
       "\n",
       "    .dataframe thead th {\n",
       "        text-align: right;\n",
       "    }\n",
       "</style>\n",
       "<table border=\"1\" class=\"dataframe\">\n",
       "  <thead>\n",
       "    <tr style=\"text-align: right;\">\n",
       "      <th></th>\n",
       "      <th>row_id</th>\n",
       "      <th>country</th>\n",
       "      <th>store</th>\n",
       "      <th>product</th>\n",
       "      <th>num_sold</th>\n",
       "      <th>year</th>\n",
       "      <th>month</th>\n",
       "      <th>day</th>\n",
       "    </tr>\n",
       "  </thead>\n",
       "  <tbody>\n",
       "    <tr>\n",
       "      <th>count</th>\n",
       "      <td>23608.000000</td>\n",
       "      <td>23608.000000</td>\n",
       "      <td>23608.000000</td>\n",
       "      <td>23608.000000</td>\n",
       "      <td>23608.000000</td>\n",
       "      <td>23608.000000</td>\n",
       "      <td>23608.000000</td>\n",
       "      <td>23608.000000</td>\n",
       "    </tr>\n",
       "    <tr>\n",
       "      <th>mean</th>\n",
       "      <td>13057.302863</td>\n",
       "      <td>0.986022</td>\n",
       "      <td>0.454761</td>\n",
       "      <td>1.104117</td>\n",
       "      <td>320.994536</td>\n",
       "      <td>2016.477211</td>\n",
       "      <td>6.627457</td>\n",
       "      <td>15.683624</td>\n",
       "    </tr>\n",
       "    <tr>\n",
       "      <th>std</th>\n",
       "      <td>7573.776559</td>\n",
       "      <td>0.835862</td>\n",
       "      <td>0.497960</td>\n",
       "      <td>0.790669</td>\n",
       "      <td>167.470090</td>\n",
       "      <td>1.113953</td>\n",
       "      <td>3.426506</td>\n",
       "      <td>8.754194</td>\n",
       "    </tr>\n",
       "    <tr>\n",
       "      <th>min</th>\n",
       "      <td>0.000000</td>\n",
       "      <td>0.000000</td>\n",
       "      <td>0.000000</td>\n",
       "      <td>0.000000</td>\n",
       "      <td>78.000000</td>\n",
       "      <td>2015.000000</td>\n",
       "      <td>1.000000</td>\n",
       "      <td>1.000000</td>\n",
       "    </tr>\n",
       "    <tr>\n",
       "      <th>25%</th>\n",
       "      <td>6425.750000</td>\n",
       "      <td>0.000000</td>\n",
       "      <td>0.000000</td>\n",
       "      <td>0.000000</td>\n",
       "      <td>183.000000</td>\n",
       "      <td>2015.000000</td>\n",
       "      <td>4.000000</td>\n",
       "      <td>8.000000</td>\n",
       "    </tr>\n",
       "    <tr>\n",
       "      <th>50%</th>\n",
       "      <td>12865.500000</td>\n",
       "      <td>1.000000</td>\n",
       "      <td>0.000000</td>\n",
       "      <td>1.000000</td>\n",
       "      <td>289.000000</td>\n",
       "      <td>2016.000000</td>\n",
       "      <td>7.000000</td>\n",
       "      <td>16.000000</td>\n",
       "    </tr>\n",
       "    <tr>\n",
       "      <th>75%</th>\n",
       "      <td>19461.250000</td>\n",
       "      <td>2.000000</td>\n",
       "      <td>1.000000</td>\n",
       "      <td>2.000000</td>\n",
       "      <td>433.000000</td>\n",
       "      <td>2017.000000</td>\n",
       "      <td>10.000000</td>\n",
       "      <td>23.000000</td>\n",
       "    </tr>\n",
       "    <tr>\n",
       "      <th>max</th>\n",
       "      <td>26297.000000</td>\n",
       "      <td>2.000000</td>\n",
       "      <td>1.000000</td>\n",
       "      <td>2.000000</td>\n",
       "      <td>738.000000</td>\n",
       "      <td>2018.000000</td>\n",
       "      <td>12.000000</td>\n",
       "      <td>31.000000</td>\n",
       "    </tr>\n",
       "  </tbody>\n",
       "</table>\n",
       "</div>"
      ],
      "text/plain": [
       "             row_id       country         store       product      num_sold  \\\n",
       "count  23608.000000  23608.000000  23608.000000  23608.000000  23608.000000   \n",
       "mean   13057.302863      0.986022      0.454761      1.104117    320.994536   \n",
       "std     7573.776559      0.835862      0.497960      0.790669    167.470090   \n",
       "min        0.000000      0.000000      0.000000      0.000000     78.000000   \n",
       "25%     6425.750000      0.000000      0.000000      0.000000    183.000000   \n",
       "50%    12865.500000      1.000000      0.000000      1.000000    289.000000   \n",
       "75%    19461.250000      2.000000      1.000000      2.000000    433.000000   \n",
       "max    26297.000000      2.000000      1.000000      2.000000    738.000000   \n",
       "\n",
       "               year         month           day  \n",
       "count  23608.000000  23608.000000  23608.000000  \n",
       "mean    2016.477211      6.627457     15.683624  \n",
       "std        1.113953      3.426506      8.754194  \n",
       "min     2015.000000      1.000000      1.000000  \n",
       "25%     2015.000000      4.000000      8.000000  \n",
       "50%     2016.000000      7.000000     16.000000  \n",
       "75%     2017.000000     10.000000     23.000000  \n",
       "max     2018.000000     12.000000     31.000000  "
      ]
     },
     "execution_count": 40,
     "metadata": {},
     "output_type": "execute_result"
    }
   ],
   "source": [
    "df4.describe()"
   ]
  },
  {
   "cell_type": "code",
   "execution_count": 41,
   "id": "960f1ee9",
   "metadata": {
    "execution": {
     "iopub.execute_input": "2022-01-30T14:17:22.419214Z",
     "iopub.status.busy": "2022-01-30T14:17:22.418589Z",
     "iopub.status.idle": "2022-01-30T14:17:22.429039Z",
     "shell.execute_reply": "2022-01-30T14:17:22.428495Z",
     "shell.execute_reply.started": "2022-01-30T07:18:21.586531Z"
    },
    "papermill": {
     "duration": 0.105251,
     "end_time": "2022-01-30T14:17:22.429191",
     "exception": false,
     "start_time": "2022-01-30T14:17:22.323940",
     "status": "completed"
    },
    "tags": []
   },
   "outputs": [
    {
     "name": "stdout",
     "output_type": "stream",
     "text": [
      "<class 'pandas.core.frame.DataFrame'>\n",
      "Int64Index: 23608 entries, 0 to 26297\n",
      "Data columns (total 8 columns):\n",
      " #   Column    Non-Null Count  Dtype  \n",
      "---  ------    --------------  -----  \n",
      " 0   row_id    23608 non-null  int64  \n",
      " 1   country   23608 non-null  float64\n",
      " 2   store     23608 non-null  float64\n",
      " 3   product   23608 non-null  float64\n",
      " 4   num_sold  23608 non-null  int64  \n",
      " 5   year      23608 non-null  int64  \n",
      " 6   month     23608 non-null  int64  \n",
      " 7   day       23608 non-null  int64  \n",
      "dtypes: float64(3), int64(5)\n",
      "memory usage: 1.6 MB\n"
     ]
    }
   ],
   "source": [
    "df4.info()"
   ]
  },
  {
   "cell_type": "code",
   "execution_count": 42,
   "id": "86c51648",
   "metadata": {
    "execution": {
     "iopub.execute_input": "2022-01-30T14:17:22.614085Z",
     "iopub.status.busy": "2022-01-30T14:17:22.611654Z",
     "iopub.status.idle": "2022-01-30T14:17:22.615829Z",
     "shell.execute_reply": "2022-01-30T14:17:22.616410Z",
     "shell.execute_reply.started": "2022-01-30T07:18:22.320141Z"
    },
    "papermill": {
     "duration": 0.097879,
     "end_time": "2022-01-30T14:17:22.616631",
     "exception": false,
     "start_time": "2022-01-30T14:17:22.518752",
     "status": "completed"
    },
    "tags": []
   },
   "outputs": [],
   "source": [
    "import seaborn as sns\n",
    "sns.set_theme(style=\"ticks\")\n",
    "\n",
    "\n",
    "#sns.pairplot(df3, hue=\"num_sold\")"
   ]
  },
  {
   "cell_type": "code",
   "execution_count": 43,
   "id": "ba8eea0c",
   "metadata": {
    "execution": {
     "iopub.execute_input": "2022-01-30T14:17:22.798784Z",
     "iopub.status.busy": "2022-01-30T14:17:22.798159Z",
     "iopub.status.idle": "2022-01-30T14:17:22.803283Z",
     "shell.execute_reply": "2022-01-30T14:17:22.802779Z",
     "shell.execute_reply.started": "2022-01-30T07:18:23.103693Z"
    },
    "papermill": {
     "duration": 0.097558,
     "end_time": "2022-01-30T14:17:22.803440",
     "exception": false,
     "start_time": "2022-01-30T14:17:22.705882",
     "status": "completed"
    },
    "tags": []
   },
   "outputs": [],
   "source": [
    "import seaborn as sns\n",
    "sns.set_theme(style=\"ticks\")\n",
    "\n",
    "\n",
    "#sns.pairplot(df3, hue=\"year\")"
   ]
  },
  {
   "cell_type": "code",
   "execution_count": 44,
   "id": "eb1aa8d8",
   "metadata": {
    "execution": {
     "iopub.execute_input": "2022-01-30T14:17:22.987032Z",
     "iopub.status.busy": "2022-01-30T14:17:22.986396Z",
     "iopub.status.idle": "2022-01-30T14:17:23.317870Z",
     "shell.execute_reply": "2022-01-30T14:17:23.317217Z",
     "shell.execute_reply.started": "2022-01-30T07:18:23.708918Z"
    },
    "papermill": {
     "duration": 0.423359,
     "end_time": "2022-01-30T14:17:23.318014",
     "exception": false,
     "start_time": "2022-01-30T14:17:22.894655",
     "status": "completed"
    },
    "tags": []
   },
   "outputs": [
    {
     "data": {
      "text/plain": [
       "Text(0, 0.5, 'sold')"
      ]
     },
     "execution_count": 44,
     "metadata": {},
     "output_type": "execute_result"
    },
    {
     "data": {
      "image/png": "[encoded data removed]",
      "text/plain": [
       "<Figure size 1152x576 with 1 Axes>"
      ]
     },
     "metadata": {},
     "output_type": "display_data"
    }
   ],
   "source": [
    "fig, ax = plt.subplots(figsize=(16,8))\n",
    "ax.scatter(df3['month'],df3['num_sold'])\n",
    "ax.set_xlabel('month')\n",
    "ax.set_ylabel('sold')\n",
    "#plt.show()"
   ]
  },
  {
   "cell_type": "code",
   "execution_count": 45,
   "id": "b20ade2c",
   "metadata": {
    "execution": {
     "iopub.execute_input": "2022-01-30T14:17:23.503800Z",
     "iopub.status.busy": "2022-01-30T14:17:23.503086Z",
     "iopub.status.idle": "2022-01-30T14:17:24.838145Z",
     "shell.execute_reply": "2022-01-30T14:17:24.838961Z",
     "shell.execute_reply.started": "2022-01-30T07:18:24.24075Z"
    },
    "papermill": {
     "duration": 1.431022,
     "end_time": "2022-01-30T14:17:24.839238",
     "exception": false,
     "start_time": "2022-01-30T14:17:23.408216",
     "status": "completed"
    },
    "tags": []
   },
   "outputs": [
    {
     "data": {
      "text/plain": [
       "<AxesSubplot:>"
      ]
     },
     "execution_count": 45,
     "metadata": {},
     "output_type": "execute_result"
    },
    {
     "data": {
      "image/png": "[encoded data removed]",
      "text/plain": [
       "<Figure size 432x288 with 1 Axes>"
      ]
     },
     "metadata": {},
     "output_type": "display_data"
    }
   ],
   "source": [
    "df3.plot()"
   ]
  },
  {
   "cell_type": "code",
   "execution_count": 46,
   "id": "4323e3d4",
   "metadata": {
    "execution": {
     "iopub.execute_input": "2022-01-30T14:17:25.038030Z",
     "iopub.status.busy": "2022-01-30T14:17:25.037362Z",
     "iopub.status.idle": "2022-01-30T14:17:25.050859Z",
     "shell.execute_reply": "2022-01-30T14:17:25.051490Z",
     "shell.execute_reply.started": "2022-01-30T07:18:25.504576Z"
    },
    "papermill": {
     "duration": 0.113006,
     "end_time": "2022-01-30T14:17:25.051683",
     "exception": false,
     "start_time": "2022-01-30T14:17:24.938677",
     "status": "completed"
    },
    "tags": []
   },
   "outputs": [
    {
     "data": {
      "text/html": [
       "<div>\n",
       "<style scoped>\n",
       "    .dataframe tbody tr th:only-of-type {\n",
       "        vertical-align: middle;\n",
       "    }\n",
       "\n",
       "    .dataframe tbody tr th {\n",
       "        vertical-align: top;\n",
       "    }\n",
       "\n",
       "    .dataframe thead th {\n",
       "        text-align: right;\n",
       "    }\n",
       "</style>\n",
       "<table border=\"1\" class=\"dataframe\">\n",
       "  <thead>\n",
       "    <tr style=\"text-align: right;\">\n",
       "      <th></th>\n",
       "      <th>row_id</th>\n",
       "      <th>country</th>\n",
       "      <th>store</th>\n",
       "      <th>product</th>\n",
       "      <th>num_sold</th>\n",
       "      <th>year</th>\n",
       "      <th>month</th>\n",
       "      <th>day</th>\n",
       "    </tr>\n",
       "  </thead>\n",
       "  <tbody>\n",
       "    <tr>\n",
       "      <th>0</th>\n",
       "      <td>0</td>\n",
       "      <td>0.0</td>\n",
       "      <td>0.0</td>\n",
       "      <td>1.0</td>\n",
       "      <td>329</td>\n",
       "      <td>2015</td>\n",
       "      <td>1</td>\n",
       "      <td>1</td>\n",
       "    </tr>\n",
       "    <tr>\n",
       "      <th>1</th>\n",
       "      <td>1</td>\n",
       "      <td>0.0</td>\n",
       "      <td>0.0</td>\n",
       "      <td>0.0</td>\n",
       "      <td>520</td>\n",
       "      <td>2015</td>\n",
       "      <td>1</td>\n",
       "      <td>1</td>\n",
       "    </tr>\n",
       "  </tbody>\n",
       "</table>\n",
       "</div>"
      ],
      "text/plain": [
       "   row_id  country  store  product  num_sold  year  month  day\n",
       "0       0      0.0    0.0      1.0       329  2015      1    1\n",
       "1       1      0.0    0.0      0.0       520  2015      1    1"
      ]
     },
     "execution_count": 46,
     "metadata": {},
     "output_type": "execute_result"
    }
   ],
   "source": [
    "\n",
    "train=df4.iloc[:17708]\n",
    "train.head(2)"
   ]
  },
  {
   "cell_type": "code",
   "execution_count": 47,
   "id": "d70ef1cd",
   "metadata": {
    "execution": {
     "iopub.execute_input": "2022-01-30T14:17:25.243629Z",
     "iopub.status.busy": "2022-01-30T14:17:25.242617Z",
     "iopub.status.idle": "2022-01-30T14:17:25.249004Z",
     "shell.execute_reply": "2022-01-30T14:17:25.249523Z",
     "shell.execute_reply.started": "2022-01-30T07:18:25.521197Z"
    },
    "papermill": {
     "duration": 0.104134,
     "end_time": "2022-01-30T14:17:25.249731",
     "exception": false,
     "start_time": "2022-01-30T14:17:25.145597",
     "status": "completed"
    },
    "tags": []
   },
   "outputs": [
    {
     "data": {
      "text/plain": [
       "(5900, 8)"
      ]
     },
     "execution_count": 47,
     "metadata": {},
     "output_type": "execute_result"
    }
   ],
   "source": [
    "test=df4.iloc[17708:]\n",
    "test.shape"
   ]
  },
  {
   "cell_type": "code",
   "execution_count": 48,
   "id": "f17a4a67",
   "metadata": {
    "execution": {
     "iopub.execute_input": "2022-01-30T14:17:25.443524Z",
     "iopub.status.busy": "2022-01-30T14:17:25.442540Z",
     "iopub.status.idle": "2022-01-30T14:17:25.680704Z",
     "shell.execute_reply": "2022-01-30T14:17:25.681205Z",
     "shell.execute_reply.started": "2022-01-30T07:18:26.867771Z"
    },
    "papermill": {
     "duration": 0.335976,
     "end_time": "2022-01-30T14:17:25.681420",
     "exception": false,
     "start_time": "2022-01-30T14:17:25.345444",
     "status": "completed"
    },
    "tags": []
   },
   "outputs": [],
   "source": [
    "from sklearn.model_selection import train_test_split\n",
    "def split(df):\n",
    "    y = df['num_sold']\n",
    "    X = df.drop('num_sold',axis=1)\n",
    "    return y,X\n",
    "\n"
   ]
  },
  {
   "cell_type": "code",
   "execution_count": 49,
   "id": "6de85a25",
   "metadata": {
    "execution": {
     "iopub.execute_input": "2022-01-30T14:17:25.876808Z",
     "iopub.status.busy": "2022-01-30T14:17:25.875904Z",
     "iopub.status.idle": "2022-01-30T14:17:25.878927Z",
     "shell.execute_reply": "2022-01-30T14:17:25.878368Z",
     "shell.execute_reply.started": "2022-01-30T07:18:28.064086Z"
    },
    "papermill": {
     "duration": 0.103323,
     "end_time": "2022-01-30T14:17:25.879103",
     "exception": false,
     "start_time": "2022-01-30T14:17:25.775780",
     "status": "completed"
    },
    "tags": []
   },
   "outputs": [],
   "source": [
    "y_train,X_train1=split(train)"
   ]
  },
  {
   "cell_type": "code",
   "execution_count": 50,
   "id": "c0911153",
   "metadata": {
    "execution": {
     "iopub.execute_input": "2022-01-30T14:17:26.072994Z",
     "iopub.status.busy": "2022-01-30T14:17:26.070024Z",
     "iopub.status.idle": "2022-01-30T14:17:26.076239Z",
     "shell.execute_reply": "2022-01-30T14:17:26.075602Z",
     "shell.execute_reply.started": "2022-01-30T07:18:28.867005Z"
    },
    "papermill": {
     "duration": 0.104299,
     "end_time": "2022-01-30T14:17:26.076388",
     "exception": false,
     "start_time": "2022-01-30T14:17:25.972089",
     "status": "completed"
    },
    "tags": []
   },
   "outputs": [],
   "source": [
    "y_val,X_val1=split(test)"
   ]
  },
  {
   "cell_type": "code",
   "execution_count": 51,
   "id": "34f3e7da",
   "metadata": {
    "execution": {
     "iopub.execute_input": "2022-01-30T14:17:26.270364Z",
     "iopub.status.busy": "2022-01-30T14:17:26.269280Z",
     "iopub.status.idle": "2022-01-30T14:17:26.273645Z",
     "shell.execute_reply": "2022-01-30T14:17:26.273085Z",
     "shell.execute_reply.started": "2022-01-30T07:18:30.781008Z"
    },
    "papermill": {
     "duration": 0.103561,
     "end_time": "2022-01-30T14:17:26.273802",
     "exception": false,
     "start_time": "2022-01-30T14:17:26.170241",
     "status": "completed"
    },
    "tags": []
   },
   "outputs": [
    {
     "name": "stdout",
     "output_type": "stream",
     "text": [
      "X_train.shape (17708, 7)\n",
      "y_train.shape (17708,)\n",
      "X_test.shape (5900, 7)\n",
      "y_test.shape (5900,)\n"
     ]
    }
   ],
   "source": [
    "print('X_train.shape',X_train1.shape)\n",
    "print('y_train.shape',y_train.shape)\n",
    "print('X_test.shape',X_val1.shape)\n",
    "print('y_test.shape',y_val.shape)"
   ]
  },
  {
   "cell_type": "code",
   "execution_count": null,
   "id": "8bb34a0e",
   "metadata": {
    "papermill": {
     "duration": 0.093067,
     "end_time": "2022-01-30T14:17:26.460380",
     "exception": false,
     "start_time": "2022-01-30T14:17:26.367313",
     "status": "completed"
    },
    "tags": []
   },
   "outputs": [],
   "source": []
  },
  {
   "cell_type": "code",
   "execution_count": 52,
   "id": "01c486c4",
   "metadata": {
    "execution": {
     "iopub.execute_input": "2022-01-30T14:17:26.651394Z",
     "iopub.status.busy": "2022-01-30T14:17:26.650791Z",
     "iopub.status.idle": "2022-01-30T14:17:26.654399Z",
     "shell.execute_reply": "2022-01-30T14:17:26.654912Z",
     "shell.execute_reply.started": "2022-01-30T07:18:34.753094Z"
    },
    "papermill": {
     "duration": 0.099807,
     "end_time": "2022-01-30T14:17:26.655096",
     "exception": false,
     "start_time": "2022-01-30T14:17:26.555289",
     "status": "completed"
    },
    "tags": []
   },
   "outputs": [],
   "source": [
    "from sklearn.preprocessing import MinMaxScaler\n",
    "# define min max scaler\n",
    "def minmax(X):\n",
    "    scaler = MinMaxScaler()\n",
    "    # transform data\n",
    "    X1 = scaler.fit_transform(X)\n",
    "    print(X1)\n",
    "    return X1\n"
   ]
  },
  {
   "cell_type": "code",
   "execution_count": 53,
   "id": "f42110c7",
   "metadata": {
    "execution": {
     "iopub.execute_input": "2022-01-30T14:17:26.844528Z",
     "iopub.status.busy": "2022-01-30T14:17:26.843870Z",
     "iopub.status.idle": "2022-01-30T14:17:26.858297Z",
     "shell.execute_reply": "2022-01-30T14:17:26.858827Z",
     "shell.execute_reply.started": "2022-01-30T07:18:35.640214Z"
    },
    "papermill": {
     "duration": 0.111061,
     "end_time": "2022-01-30T14:17:26.859012",
     "exception": false,
     "start_time": "2022-01-30T14:17:26.747951",
     "status": "completed"
    },
    "tags": []
   },
   "outputs": [
    {
     "name": "stdout",
     "output_type": "stream",
     "text": [
      "[[0.00000000e+00 0.00000000e+00 0.00000000e+00 ... 0.00000000e+00\n",
      "  0.00000000e+00 0.00000000e+00]\n",
      " [5.13795407e-05 0.00000000e+00 0.00000000e+00 ... 0.00000000e+00\n",
      "  0.00000000e+00 0.00000000e+00]\n",
      " [1.02759081e-04 0.00000000e+00 0.00000000e+00 ... 0.00000000e+00\n",
      "  0.00000000e+00 0.00000000e+00]\n",
      " ...\n",
      " [9.99897241e-01 0.00000000e+00 1.00000000e+00 ... 1.00000000e+00\n",
      "  1.00000000e+00 5.33333333e-01]\n",
      " [9.99948620e-01 0.00000000e+00 1.00000000e+00 ... 1.00000000e+00\n",
      "  1.00000000e+00 5.33333333e-01]\n",
      " [1.00000000e+00 0.00000000e+00 1.00000000e+00 ... 1.00000000e+00\n",
      "  1.00000000e+00 5.33333333e-01]]\n",
      "[[0.00000000e+00 5.00000000e-01 0.00000000e+00 ... 0.00000000e+00\n",
      "  1.00000000e+00 5.33333333e-01]\n",
      " [1.46348602e-04 5.00000000e-01 0.00000000e+00 ... 0.00000000e+00\n",
      "  1.00000000e+00 5.33333333e-01]\n",
      " [2.92697205e-04 5.00000000e-01 0.00000000e+00 ... 0.00000000e+00\n",
      "  1.00000000e+00 5.33333333e-01]\n",
      " ...\n",
      " [9.99268257e-01 1.00000000e+00 0.00000000e+00 ... 1.00000000e+00\n",
      "  1.00000000e+00 1.00000000e+00]\n",
      " [9.99560954e-01 1.00000000e+00 0.00000000e+00 ... 1.00000000e+00\n",
      "  1.00000000e+00 1.00000000e+00]\n",
      " [1.00000000e+00 1.00000000e+00 1.00000000e+00 ... 1.00000000e+00\n",
      "  1.00000000e+00 1.00000000e+00]]\n"
     ]
    }
   ],
   "source": [
    "X_train=minmax(X_train1)\n",
    "X_val=minmax(X_val1)\n"
   ]
  },
  {
   "cell_type": "code",
   "execution_count": 54,
   "id": "9b2aa0f2",
   "metadata": {
    "execution": {
     "iopub.execute_input": "2022-01-30T14:17:27.049573Z",
     "iopub.status.busy": "2022-01-30T14:17:27.048937Z",
     "iopub.status.idle": "2022-01-30T14:17:27.053917Z",
     "shell.execute_reply": "2022-01-30T14:17:27.054427Z",
     "shell.execute_reply.started": "2022-01-30T07:18:37.312636Z"
    },
    "papermill": {
     "duration": 0.102468,
     "end_time": "2022-01-30T14:17:27.054623",
     "exception": false,
     "start_time": "2022-01-30T14:17:26.952155",
     "status": "completed"
    },
    "tags": []
   },
   "outputs": [],
   "source": [
    "\n",
    "from sklearn.preprocessing import StandardScaler\n",
    "def stdsc(X2):\n",
    "    scaler = StandardScaler()\n",
    "    # transform data\n",
    "    X3 = scaler.fit_transform(X2)\n",
    "    print(X3)\n",
    "    return X3"
   ]
  },
  {
   "cell_type": "code",
   "execution_count": 55,
   "id": "ea28dbf7",
   "metadata": {
    "execution": {
     "iopub.execute_input": "2022-01-30T14:17:27.243458Z",
     "iopub.status.busy": "2022-01-30T14:17:27.242874Z",
     "iopub.status.idle": "2022-01-30T14:17:27.247222Z",
     "shell.execute_reply": "2022-01-30T14:17:27.246706Z",
     "shell.execute_reply.started": "2022-01-30T07:18:37.951073Z"
    },
    "papermill": {
     "duration": 0.100594,
     "end_time": "2022-01-30T14:17:27.247373",
     "exception": false,
     "start_time": "2022-01-30T14:17:27.146779",
     "status": "completed"
    },
    "tags": []
   },
   "outputs": [],
   "source": [
    "#X_train=stdsc(X_train1)\n",
    "#X_val=stdsc(X_val1)\n"
   ]
  },
  {
   "cell_type": "code",
   "execution_count": 56,
   "id": "9c43fb30",
   "metadata": {
    "execution": {
     "iopub.execute_input": "2022-01-30T14:17:27.434010Z",
     "iopub.status.busy": "2022-01-30T14:17:27.433379Z",
     "iopub.status.idle": "2022-01-30T14:17:27.437889Z",
     "shell.execute_reply": "2022-01-30T14:17:27.437370Z",
     "shell.execute_reply.started": "2022-01-30T07:18:38.51093Z"
    },
    "papermill": {
     "duration": 0.099006,
     "end_time": "2022-01-30T14:17:27.438029",
     "exception": false,
     "start_time": "2022-01-30T14:17:27.339023",
     "status": "completed"
    },
    "tags": []
   },
   "outputs": [],
   "source": [
    "# Split model train test data\n",
    "#X_train, X_val, y_train, y_val = train_test_split(X1,y, test_size=0.3, random_state=42)"
   ]
  },
  {
   "cell_type": "code",
   "execution_count": 57,
   "id": "cfeac23e",
   "metadata": {
    "execution": {
     "iopub.execute_input": "2022-01-30T14:17:27.631583Z",
     "iopub.status.busy": "2022-01-30T14:17:27.630816Z",
     "iopub.status.idle": "2022-01-30T14:17:27.633235Z",
     "shell.execute_reply": "2022-01-30T14:17:27.633768Z",
     "shell.execute_reply.started": "2022-01-30T07:18:39.362599Z"
    },
    "papermill": {
     "duration": 0.102936,
     "end_time": "2022-01-30T14:17:27.633944",
     "exception": false,
     "start_time": "2022-01-30T14:17:27.531008",
     "status": "completed"
    },
    "tags": []
   },
   "outputs": [],
   "source": [
    "def smape(model):\n",
    "    model.fit(X_train, y_train)\n",
    "    prediction = model.predict(X_val)\n",
    "    #return accuracy_score(y_val, prediction)\n",
    "    return 100/len(y_val) * np.sum(2 * np.abs(prediction - y_val) / (np.abs(y_val) + np.abs(prediction)))\n",
    "\n"
   ]
  },
  {
   "cell_type": "code",
   "execution_count": 58,
   "id": "ede4a343",
   "metadata": {
    "execution": {
     "iopub.execute_input": "2022-01-30T14:17:27.827446Z",
     "iopub.status.busy": "2022-01-30T14:17:27.826813Z",
     "iopub.status.idle": "2022-01-30T14:17:28.110799Z",
     "shell.execute_reply": "2022-01-30T14:17:28.110175Z",
     "shell.execute_reply.started": "2022-01-30T07:18:40.122196Z"
    },
    "papermill": {
     "duration": 0.384941,
     "end_time": "2022-01-30T14:17:28.110962",
     "exception": false,
     "start_time": "2022-01-30T14:17:27.726021",
     "status": "completed"
    },
    "tags": []
   },
   "outputs": [],
   "source": [
    "from sklearn.ensemble import RandomForestClassifier\n",
    "from sklearn.ensemble import RandomForestRegressor\n",
    "from sklearn.ensemble import GradientBoostingRegressor\n",
    "from sklearn.ensemble import GradientBoostingClassifier\n",
    "\n",
    "from sklearn.linear_model import LogisticRegression\n",
    "from sklearn.linear_model import SGDClassifier\n",
    "from sklearn.svm import SVC\n",
    "from sklearn.metrics import accuracy_score\n",
    "from sklearn import preprocessing\n",
    "from sklearn.model_selection import train_test_split\n",
    "from sklearn.model_selection import cross_val_score\n",
    "from sklearn.neighbors import KNeighborsClassifier\n",
    "import xgboost as xgb\n",
    "from sklearn.linear_model import SGDRegressor\n",
    "from sklearn import linear_model\n",
    "from sklearn.tree import DecisionTreeClassifier\n",
    "from sklearn.linear_model import LinearRegression, ElasticNet, Lasso, Ridge, HuberRegressor, RidgeCV, TheilSenRegressor, RANSACRegressor\n",
    "from sklearn.ensemble import ExtraTreesRegressor, RandomForestRegressor, StackingRegressor, VotingRegressor\n",
    "from sklearn.neighbors import KNeighborsRegressor\n",
    "from sklearn.neural_network import MLPRegressor"
   ]
  },
  {
   "cell_type": "code",
   "execution_count": 59,
   "id": "b40a5b93",
   "metadata": {
    "execution": {
     "iopub.execute_input": "2022-01-30T14:17:28.303202Z",
     "iopub.status.busy": "2022-01-30T14:17:28.302193Z",
     "iopub.status.idle": "2022-01-30T14:18:04.826820Z",
     "shell.execute_reply": "2022-01-30T14:18:04.826267Z",
     "shell.execute_reply.started": "2022-01-30T07:18:40.957938Z"
    },
    "papermill": {
     "duration": 36.621705,
     "end_time": "2022-01-30T14:18:04.827000",
     "exception": false,
     "start_time": "2022-01-30T14:17:28.205295",
     "status": "completed"
    },
    "tags": []
   },
   "outputs": [
    {
     "name": "stdout",
     "output_type": "stream",
     "text": [
      "Model  1 : LinearRegression()\n",
      "ACC:  190.46711933243802\n",
      "done\n",
      "Model  2 : ElasticNet()\n",
      "ACC:  36.46079231260888\n",
      "done\n",
      "Model  3 : Lasso()\n",
      "ACC:  22.739404719353605\n",
      "done\n",
      "Model  4 : RidgeCV(alphas=array([ 0.1,  1. , 10. ]))\n",
      "ACC:  37.15466854285059\n",
      "done\n",
      "Model  5 : RandomForestRegressor()\n",
      "ACC:  13.17161886736918\n",
      "done\n",
      "Model  6 : TheilSenRegressor(max_subpopulation=10000)\n",
      "ACC:  189.8639015573107\n",
      "done\n",
      "Model  7 : RANSACRegressor()\n",
      "ACC:  200.0\n",
      "done\n",
      "Model  8 : KNeighborsRegressor()\n",
      "ACC:  13.498745866887122\n",
      "done\n",
      "Model  9 : MLPRegressor()\n",
      "ACC:  16.280383470966445\n",
      "done\n"
     ]
    },
    {
     "name": "stderr",
     "output_type": "stream",
     "text": [
      "/opt/conda/lib/python3.7/site-packages/sklearn/neural_network/_multilayer_perceptron.py:585: ConvergenceWarning: Stochastic Optimizer: Maximum iterations (200) reached and the optimization hasn't converged yet.\n",
      "  % self.max_iter, ConvergenceWarning)\n"
     ]
    }
   ],
   "source": [
    "model1 = LinearRegression()\n",
    "model2 = ElasticNet()\n",
    "model3 =Lasso()\n",
    "model4= HuberRegressor()\n",
    "model5= RidgeCV()\n",
    "model6 = RandomForestRegressor()\n",
    "model7 = TheilSenRegressor()\n",
    "model8 = RANSACRegressor()\n",
    "model9=KNeighborsRegressor()\n",
    "model10=MLPRegressor()\n",
    "\n",
    "#models = [model5]\n",
    "models = [  model1,model2,model3,model5,model6,model7,model8,model9,model10,]\n",
    "i = 0\n",
    "for model in models:\n",
    "    i +=1\n",
    "    print(\"Model \", i,\":\", model)\n",
    "    print(\"ACC: \", smape(model))\n",
    "    print('done')"
   ]
  },
  {
   "cell_type": "code",
   "execution_count": null,
   "id": "0ec5a595",
   "metadata": {
    "papermill": {
     "duration": 0.093825,
     "end_time": "2022-01-30T14:18:05.016392",
     "exception": false,
     "start_time": "2022-01-30T14:18:04.922567",
     "status": "completed"
    },
    "tags": []
   },
   "outputs": [],
   "source": []
  },
  {
   "cell_type": "code",
   "execution_count": 60,
   "id": "fc8d3c70",
   "metadata": {
    "execution": {
     "iopub.execute_input": "2022-01-30T14:18:05.213280Z",
     "iopub.status.busy": "2022-01-30T14:18:05.212617Z",
     "iopub.status.idle": "2022-01-30T14:18:05.213983Z",
     "shell.execute_reply": "2022-01-30T14:18:05.214534Z",
     "shell.execute_reply.started": "2022-01-30T07:19:18.47408Z"
    },
    "papermill": {
     "duration": 0.102527,
     "end_time": "2022-01-30T14:18:05.214703",
     "exception": false,
     "start_time": "2022-01-30T14:18:05.112176",
     "status": "completed"
    },
    "tags": []
   },
   "outputs": [],
   "source": [
    "def fitAndPredict(model):\n",
    "    \"\"\"The following code makes faster to evaluate a model \n",
    "    automating the fit and accuracy process\"\"\"\n",
    "    \n",
    "    model.fit(X_train, y_train)\n",
    "    prediction = model.predict(X_val)\n",
    "    return accuracy_score(y_val, prediction)"
   ]
  },
  {
   "cell_type": "code",
   "execution_count": null,
   "id": "2e78e9a6",
   "metadata": {
    "papermill": {
     "duration": 0.094467,
     "end_time": "2022-01-30T14:18:05.403230",
     "exception": false,
     "start_time": "2022-01-30T14:18:05.308763",
     "status": "completed"
    },
    "tags": []
   },
   "outputs": [],
   "source": []
  },
  {
   "cell_type": "code",
   "execution_count": 61,
   "id": "15e3a2c5",
   "metadata": {
    "execution": {
     "iopub.execute_input": "2022-01-30T14:18:05.604544Z",
     "iopub.status.busy": "2022-01-30T14:18:05.596919Z",
     "iopub.status.idle": "2022-01-30T14:18:08.551111Z",
     "shell.execute_reply": "2022-01-30T14:18:08.552009Z",
     "shell.execute_reply.started": "2022-01-30T07:19:18.483121Z"
    },
    "papermill": {
     "duration": 3.053572,
     "end_time": "2022-01-30T14:18:08.552294",
     "exception": false,
     "start_time": "2022-01-30T14:18:05.498722",
     "status": "completed"
    },
    "tags": []
   },
   "outputs": [
    {
     "name": "stdout",
     "output_type": "stream",
     "text": [
      "Model  1 : GradientBoostingRegressor()\n",
      "ACC:  14.653287140046677\n",
      "done\n",
      "Model  2 : KNeighborsClassifier()\n",
      "ACC:  19.568856988717588\n",
      "done\n",
      "Model  3 : DecisionTreeClassifier()\n",
      "ACC:  18.822389525271884\n",
      "done\n",
      "Model  4 : LinearRegression()\n",
      "ACC:  190.46711933243802\n",
      "done\n"
     ]
    }
   ],
   "source": [
    "#Lets some models\n",
    "model1 = LogisticRegression()\n",
    "model2 = GradientBoostingRegressor()\n",
    "model3 =KNeighborsClassifier()\n",
    "model4= xgb.XGBClassifier()\n",
    "model5= RandomForestClassifier()\n",
    "model6 = RandomForestRegressor()\n",
    "model7 = GradientBoostingClassifier()\n",
    "model8 = SGDRegressor()\n",
    "model9=linear_model.LinearRegression()\n",
    "model10=DecisionTreeClassifier()\n",
    "#models = [model5]\n",
    "models = [  model2,model3,model10,model9]\n",
    "i = 0\n",
    "for model in models:\n",
    "    i +=1\n",
    "    print(\"Model \", i,\":\", model)\n",
    "    print(\"ACC: \", smape(model))\n",
    "    print('done')"
   ]
  },
  {
   "cell_type": "code",
   "execution_count": null,
   "id": "7ca439a5",
   "metadata": {
    "papermill": {
     "duration": 0.095208,
     "end_time": "2022-01-30T14:18:08.793602",
     "exception": false,
     "start_time": "2022-01-30T14:18:08.698394",
     "status": "completed"
    },
    "tags": []
   },
   "outputs": [],
   "source": []
  },
  {
   "cell_type": "code",
   "execution_count": null,
   "id": "cc72559f",
   "metadata": {
    "papermill": {
     "duration": 0.096333,
     "end_time": "2022-01-30T14:18:08.986614",
     "exception": false,
     "start_time": "2022-01-30T14:18:08.890281",
     "status": "completed"
    },
    "tags": []
   },
   "outputs": [],
   "source": []
  },
  {
   "cell_type": "code",
   "execution_count": 62,
   "id": "75bb781c",
   "metadata": {
    "execution": {
     "iopub.execute_input": "2022-01-30T14:18:09.190302Z",
     "iopub.status.busy": "2022-01-30T14:18:09.189655Z",
     "iopub.status.idle": "2022-01-30T14:18:09.192400Z",
     "shell.execute_reply": "2022-01-30T14:18:09.191908Z",
     "shell.execute_reply.started": "2022-01-30T07:19:31.624415Z"
    },
    "papermill": {
     "duration": 0.10394,
     "end_time": "2022-01-30T14:18:09.192547",
     "exception": false,
     "start_time": "2022-01-30T14:18:09.088607",
     "status": "completed"
    },
    "tags": []
   },
   "outputs": [],
   "source": [
    "#from sklearn.metrics import mean_absolute_percentage_error\n",
    "\n",
    "#mean_absolute_percentage_error(y_val,pred)"
   ]
  },
  {
   "cell_type": "code",
   "execution_count": 63,
   "id": "ee4cbeee",
   "metadata": {
    "execution": {
     "iopub.execute_input": "2022-01-30T14:18:09.387486Z",
     "iopub.status.busy": "2022-01-30T14:18:09.386858Z",
     "iopub.status.idle": "2022-01-30T14:18:09.393423Z",
     "shell.execute_reply": "2022-01-30T14:18:09.393945Z",
     "shell.execute_reply.started": "2022-01-30T07:19:32.030087Z"
    },
    "papermill": {
     "duration": 0.1059,
     "end_time": "2022-01-30T14:18:09.394117",
     "exception": false,
     "start_time": "2022-01-30T14:18:09.288217",
     "status": "completed"
    },
    "tags": []
   },
   "outputs": [],
   "source": [
    "gradientboost = GradientBoostingRegressor(n_estimators = 300)\n",
    "from sklearn.model_selection import RandomizedSearchCV\n",
    "loss = ['ls', 'lad', 'huber']\n",
    "n_estimators = [100, 500, 900, 1100, 1500]\n",
    "max_depth = [2, 3, 5, 10, 15]\n",
    "min_samples_leaf = [1, 2, 4, 6, 8] \n",
    "min_samples_split = [2, 4, 6, 10]\n",
    "max_features = ['auto', 'sqrt', 'log2', None]\n",
    "\n",
    "# Define the grid of hyperparameters to search\n",
    "hyperparameter_grid = {'loss': loss,\n",
    "    'n_estimators': n_estimators,\n",
    "    'max_depth': max_depth,\n",
    "    'min_samples_leaf': min_samples_leaf,\n",
    "    'min_samples_split': min_samples_split,\n",
    "    'max_features': max_features}\n"
   ]
  },
  {
   "cell_type": "code",
   "execution_count": 64,
   "id": "fb5bf804",
   "metadata": {
    "execution": {
     "iopub.execute_input": "2022-01-30T14:18:09.592813Z",
     "iopub.status.busy": "2022-01-30T14:18:09.592164Z",
     "iopub.status.idle": "2022-01-30T14:18:09.596003Z",
     "shell.execute_reply": "2022-01-30T14:18:09.595499Z",
     "shell.execute_reply.started": "2022-01-30T07:19:33.54459Z"
    },
    "papermill": {
     "duration": 0.106081,
     "end_time": "2022-01-30T14:18:09.596141",
     "exception": false,
     "start_time": "2022-01-30T14:18:09.490060",
     "status": "completed"
    },
    "tags": []
   },
   "outputs": [
    {
     "data": {
      "text/plain": [
       "'# Set up the random search with 4-fold cross validation\\nrandom_cv = RandomizedSearchCV(estimator=gradientboost,\\n            param_distributions=hyperparameter_grid,\\n            cv=2, n_iter=50,\\n            n_jobs = 4,\\n             \\n            return_train_score = True,\\n            random_state=42)\\nrandom_cv.fit(X_train, y_train)'"
      ]
     },
     "execution_count": 64,
     "metadata": {},
     "output_type": "execute_result"
    }
   ],
   "source": [
    "'''# Set up the random search with 4-fold cross validation\n",
    "random_cv = RandomizedSearchCV(estimator=gradientboost,\n",
    "            param_distributions=hyperparameter_grid,\n",
    "            cv=2, n_iter=50,\n",
    "            n_jobs = 4,\n",
    "             \n",
    "            return_train_score = True,\n",
    "            random_state=42)\n",
    "random_cv.fit(X_train, y_train)'''"
   ]
  },
  {
   "cell_type": "code",
   "execution_count": 65,
   "id": "118b4e64",
   "metadata": {
    "execution": {
     "iopub.execute_input": "2022-01-30T14:18:09.794959Z",
     "iopub.status.busy": "2022-01-30T14:18:09.794293Z",
     "iopub.status.idle": "2022-01-30T14:18:09.797030Z",
     "shell.execute_reply": "2022-01-30T14:18:09.797611Z",
     "shell.execute_reply.started": "2022-01-30T07:19:34.078975Z"
    },
    "papermill": {
     "duration": 0.105188,
     "end_time": "2022-01-30T14:18:09.797769",
     "exception": false,
     "start_time": "2022-01-30T14:18:09.692581",
     "status": "completed"
    },
    "tags": []
   },
   "outputs": [
    {
     "data": {
      "text/plain": [
       "'random_cv.best_params_'"
      ]
     },
     "execution_count": 65,
     "metadata": {},
     "output_type": "execute_result"
    }
   ],
   "source": [
    "'''random_cv.best_params_'''"
   ]
  },
  {
   "cell_type": "code",
   "execution_count": 66,
   "id": "df17c9ee",
   "metadata": {
    "execution": {
     "iopub.execute_input": "2022-01-30T14:18:09.999130Z",
     "iopub.status.busy": "2022-01-30T14:18:09.998507Z",
     "iopub.status.idle": "2022-01-30T14:18:10.001761Z",
     "shell.execute_reply": "2022-01-30T14:18:10.002327Z",
     "shell.execute_reply.started": "2022-01-30T07:19:34.671095Z"
    },
    "papermill": {
     "duration": 0.107351,
     "end_time": "2022-01-30T14:18:10.002525",
     "exception": false,
     "start_time": "2022-01-30T14:18:09.895174",
     "status": "completed"
    },
    "tags": []
   },
   "outputs": [
    {
     "data": {
      "text/plain": [
       "'print(\"ACC: \", smape(random_cv))'"
      ]
     },
     "execution_count": 66,
     "metadata": {},
     "output_type": "execute_result"
    }
   ],
   "source": [
    "'''print(\"ACC: \", smape(random_cv))'''"
   ]
  },
  {
   "cell_type": "code",
   "execution_count": 67,
   "id": "24bfcbd1",
   "metadata": {
    "execution": {
     "iopub.execute_input": "2022-01-30T14:18:10.201019Z",
     "iopub.status.busy": "2022-01-30T14:18:10.200373Z",
     "iopub.status.idle": "2022-01-30T14:18:10.205928Z",
     "shell.execute_reply": "2022-01-30T14:18:10.206516Z",
     "shell.execute_reply.started": "2022-01-30T07:19:35.191559Z"
    },
    "papermill": {
     "duration": 0.106885,
     "end_time": "2022-01-30T14:18:10.206680",
     "exception": false,
     "start_time": "2022-01-30T14:18:10.099795",
     "status": "completed"
    },
    "tags": []
   },
   "outputs": [
    {
     "data": {
      "text/plain": [
       "\"from sklearn.model_selection import RandomizedSearchCV\\n# Number of trees in random forest\\nn_estimators = [int(x) for x in np.linspace(start = 200, stop = 2000, num = 10)]\\n# Number of features to consider at every split\\nmax_features = ['auto', 'sqrt']\\n# Maximum number of levels in tree\\nmax_depth = [int(x) for x in np.linspace(10, 110, num = 11)]\\nmax_depth.append(None)\\n# Minimum number of samples required to split a node\\nmin_samples_split = [2, 5, 10]\\n# Minimum number of samples required at each leaf node\\nmin_samples_leaf = [1, 2, 4]\\n# Method of selecting samples for training each tree\\nbootstrap = [True, False]\\n# Create the random grid\\nrandom_grid = {'n_estimators': n_estimators,\\n               'max_features': max_features,\\n               'max_depth': max_depth,\\n               'min_samples_split': min_samples_split,\\n               'min_samples_leaf': min_samples_leaf,\\n               'bootstrap': bootstrap}\""
      ]
     },
     "execution_count": 67,
     "metadata": {},
     "output_type": "execute_result"
    }
   ],
   "source": [
    "'''from sklearn.model_selection import RandomizedSearchCV\n",
    "# Number of trees in random forest\n",
    "n_estimators = [int(x) for x in np.linspace(start = 200, stop = 2000, num = 10)]\n",
    "# Number of features to consider at every split\n",
    "max_features = ['auto', 'sqrt']\n",
    "# Maximum number of levels in tree\n",
    "max_depth = [int(x) for x in np.linspace(10, 110, num = 11)]\n",
    "max_depth.append(None)\n",
    "# Minimum number of samples required to split a node\n",
    "min_samples_split = [2, 5, 10]\n",
    "# Minimum number of samples required at each leaf node\n",
    "min_samples_leaf = [1, 2, 4]\n",
    "# Method of selecting samples for training each tree\n",
    "bootstrap = [True, False]\n",
    "# Create the random grid\n",
    "random_grid = {'n_estimators': n_estimators,\n",
    "               'max_features': max_features,\n",
    "               'max_depth': max_depth,\n",
    "               'min_samples_split': min_samples_split,\n",
    "               'min_samples_leaf': min_samples_leaf,\n",
    "               'bootstrap': bootstrap}'''"
   ]
  },
  {
   "cell_type": "code",
   "execution_count": 68,
   "id": "dd296493",
   "metadata": {
    "execution": {
     "iopub.execute_input": "2022-01-30T14:18:10.405586Z",
     "iopub.status.busy": "2022-01-30T14:18:10.404956Z",
     "iopub.status.idle": "2022-01-30T14:18:10.410917Z",
     "shell.execute_reply": "2022-01-30T14:18:10.411514Z",
     "shell.execute_reply.started": "2022-01-30T07:19:35.805328Z"
    },
    "papermill": {
     "duration": 0.107274,
     "end_time": "2022-01-30T14:18:10.411686",
     "exception": false,
     "start_time": "2022-01-30T14:18:10.304412",
     "status": "completed"
    },
    "tags": []
   },
   "outputs": [
    {
     "data": {
      "text/plain": [
       "'# Use the random grid to search for best hyperparameters\\n# First create the base model to tune\\nrf = RandomForestRegressor()\\n# Random search of parameters, using 3 fold cross validation, \\n# search across 100 different combinations, and use all available cores\\nrf_random = RandomizedSearchCV(estimator = rf, param_distributions = random_grid, n_iter = 100, cv = 3, verbose=2, random_state=42, n_jobs = -1)\\n# Fit the random search model\\nrf_random.fit(X_train, y_train)'"
      ]
     },
     "execution_count": 68,
     "metadata": {},
     "output_type": "execute_result"
    }
   ],
   "source": [
    "'''# Use the random grid to search for best hyperparameters\n",
    "# First create the base model to tune\n",
    "rf = RandomForestRegressor()\n",
    "# Random search of parameters, using 3 fold cross validation, \n",
    "# search across 100 different combinations, and use all available cores\n",
    "rf_random = RandomizedSearchCV(estimator = rf, param_distributions = random_grid, n_iter = 100, cv = 3, verbose=2, random_state=42, n_jobs = -1)\n",
    "# Fit the random search model\n",
    "rf_random.fit(X_train, y_train)'''"
   ]
  },
  {
   "cell_type": "code",
   "execution_count": 69,
   "id": "b5037634",
   "metadata": {
    "execution": {
     "iopub.execute_input": "2022-01-30T14:18:10.611785Z",
     "iopub.status.busy": "2022-01-30T14:18:10.611157Z",
     "iopub.status.idle": "2022-01-30T14:18:10.614556Z",
     "shell.execute_reply": "2022-01-30T14:18:10.615024Z",
     "shell.execute_reply.started": "2022-01-30T07:19:36.864001Z"
    },
    "papermill": {
     "duration": 0.105133,
     "end_time": "2022-01-30T14:18:10.615180",
     "exception": false,
     "start_time": "2022-01-30T14:18:10.510047",
     "status": "completed"
    },
    "tags": []
   },
   "outputs": [],
   "source": [
    "#rf_random.best_params_"
   ]
  },
  {
   "cell_type": "code",
   "execution_count": 70,
   "id": "100fa473",
   "metadata": {
    "execution": {
     "iopub.execute_input": "2022-01-30T14:18:10.818671Z",
     "iopub.status.busy": "2022-01-30T14:18:10.818005Z",
     "iopub.status.idle": "2022-01-30T14:18:10.820654Z",
     "shell.execute_reply": "2022-01-30T14:18:10.821221Z",
     "shell.execute_reply.started": "2022-01-30T07:19:37.478617Z"
    },
    "papermill": {
     "duration": 0.108679,
     "end_time": "2022-01-30T14:18:10.821392",
     "exception": false,
     "start_time": "2022-01-30T14:18:10.712713",
     "status": "completed"
    },
    "tags": []
   },
   "outputs": [],
   "source": [
    "rf=RandomForestRegressor(n_estimators= 1000,\n",
    " min_samples_split= 2,\n",
    " min_samples_leaf= 1,\n",
    " max_features= 'sqrt',\n",
    " max_depth= 110,\n",
    " bootstrap= True)"
   ]
  },
  {
   "cell_type": "code",
   "execution_count": 71,
   "id": "a2f6fa2e",
   "metadata": {
    "execution": {
     "iopub.execute_input": "2022-01-30T14:18:11.026439Z",
     "iopub.status.busy": "2022-01-30T14:18:11.025802Z",
     "iopub.status.idle": "2022-01-30T14:18:32.123445Z",
     "shell.execute_reply": "2022-01-30T14:18:32.124100Z",
     "shell.execute_reply.started": "2022-01-30T07:19:39.621467Z"
    },
    "papermill": {
     "duration": 21.203104,
     "end_time": "2022-01-30T14:18:32.124293",
     "exception": false,
     "start_time": "2022-01-30T14:18:10.921189",
     "status": "completed"
    },
    "tags": []
   },
   "outputs": [
    {
     "name": "stdout",
     "output_type": "stream",
     "text": [
      "ACC:  12.790852235867009\n"
     ]
    }
   ],
   "source": [
    "print(\"ACC: \", smape(rf))"
   ]
  },
  {
   "cell_type": "code",
   "execution_count": 72,
   "id": "b178c61e",
   "metadata": {
    "execution": {
     "iopub.execute_input": "2022-01-30T14:18:32.325949Z",
     "iopub.status.busy": "2022-01-30T14:18:32.324933Z",
     "iopub.status.idle": "2022-01-30T14:18:32.330795Z",
     "shell.execute_reply": "2022-01-30T14:18:32.331397Z",
     "shell.execute_reply.started": "2022-01-30T07:20:05.115956Z"
    },
    "papermill": {
     "duration": 0.107769,
     "end_time": "2022-01-30T14:18:32.331620",
     "exception": false,
     "start_time": "2022-01-30T14:18:32.223851",
     "status": "completed"
    },
    "tags": []
   },
   "outputs": [
    {
     "data": {
      "text/plain": [
       "(6570, 7)"
      ]
     },
     "execution_count": 72,
     "metadata": {},
     "output_type": "execute_result"
    }
   ],
   "source": [
    "test2.shape"
   ]
  },
  {
   "cell_type": "code",
   "execution_count": 73,
   "id": "ce358283",
   "metadata": {
    "execution": {
     "iopub.execute_input": "2022-01-30T14:18:32.536418Z",
     "iopub.status.busy": "2022-01-30T14:18:32.535797Z",
     "iopub.status.idle": "2022-01-30T14:18:32.548753Z",
     "shell.execute_reply": "2022-01-30T14:18:32.548117Z",
     "shell.execute_reply.started": "2022-01-30T07:20:16.114063Z"
    },
    "papermill": {
     "duration": 0.116458,
     "end_time": "2022-01-30T14:18:32.548894",
     "exception": false,
     "start_time": "2022-01-30T14:18:32.432436",
     "status": "completed"
    },
    "tags": []
   },
   "outputs": [
    {
     "data": {
      "text/html": [
       "<div>\n",
       "<style scoped>\n",
       "    .dataframe tbody tr th:only-of-type {\n",
       "        vertical-align: middle;\n",
       "    }\n",
       "\n",
       "    .dataframe tbody tr th {\n",
       "        vertical-align: top;\n",
       "    }\n",
       "\n",
       "    .dataframe thead th {\n",
       "        text-align: right;\n",
       "    }\n",
       "</style>\n",
       "<table border=\"1\" class=\"dataframe\">\n",
       "  <thead>\n",
       "    <tr style=\"text-align: right;\">\n",
       "      <th></th>\n",
       "      <th>row_id</th>\n",
       "      <th>country</th>\n",
       "      <th>store</th>\n",
       "      <th>product</th>\n",
       "      <th>year</th>\n",
       "      <th>month</th>\n",
       "      <th>day</th>\n",
       "    </tr>\n",
       "  </thead>\n",
       "  <tbody>\n",
       "    <tr>\n",
       "      <th>0</th>\n",
       "      <td>26298</td>\n",
       "      <td>0.0</td>\n",
       "      <td>0.0</td>\n",
       "      <td>1.0</td>\n",
       "      <td>2019</td>\n",
       "      <td>1</td>\n",
       "      <td>1</td>\n",
       "    </tr>\n",
       "    <tr>\n",
       "      <th>1</th>\n",
       "      <td>26299</td>\n",
       "      <td>0.0</td>\n",
       "      <td>0.0</td>\n",
       "      <td>0.0</td>\n",
       "      <td>2019</td>\n",
       "      <td>1</td>\n",
       "      <td>1</td>\n",
       "    </tr>\n",
       "  </tbody>\n",
       "</table>\n",
       "</div>"
      ],
      "text/plain": [
       "   row_id  country  store  product  year  month  day\n",
       "0   26298      0.0    0.0      1.0  2019      1    1\n",
       "1   26299      0.0    0.0      0.0  2019      1    1"
      ]
     },
     "execution_count": 73,
     "metadata": {},
     "output_type": "execute_result"
    }
   ],
   "source": [
    "test2.head(2)"
   ]
  },
  {
   "cell_type": "code",
   "execution_count": 74,
   "id": "75dfc0bc",
   "metadata": {
    "execution": {
     "iopub.execute_input": "2022-01-30T14:18:32.752783Z",
     "iopub.status.busy": "2022-01-30T14:18:32.752108Z",
     "iopub.status.idle": "2022-01-30T14:18:32.756003Z",
     "shell.execute_reply": "2022-01-30T14:18:32.756536Z",
     "shell.execute_reply.started": "2022-01-30T07:23:16.466176Z"
    },
    "papermill": {
     "duration": 0.108449,
     "end_time": "2022-01-30T14:18:32.756706",
     "exception": false,
     "start_time": "2022-01-30T14:18:32.648257",
     "status": "completed"
    },
    "tags": []
   },
   "outputs": [
    {
     "data": {
      "text/plain": [
       "0        329\n",
       "1        520\n",
       "2        146\n",
       "3        572\n",
       "5        283\n",
       "        ... \n",
       "19459    438\n",
       "19460    131\n",
       "19461    458\n",
       "19462    691\n",
       "19463    204\n",
       "Name: num_sold, Length: 17708, dtype: int64"
      ]
     },
     "execution_count": 74,
     "metadata": {},
     "output_type": "execute_result"
    }
   ],
   "source": [
    "y_train"
   ]
  },
  {
   "cell_type": "code",
   "execution_count": 75,
   "id": "b89d079b",
   "metadata": {
    "execution": {
     "iopub.execute_input": "2022-01-30T14:18:32.959374Z",
     "iopub.status.busy": "2022-01-30T14:18:32.958707Z",
     "iopub.status.idle": "2022-01-30T14:18:53.412140Z",
     "shell.execute_reply": "2022-01-30T14:18:53.411639Z",
     "shell.execute_reply.started": "2022-01-30T07:21:16.346436Z"
    },
    "papermill": {
     "duration": 20.556756,
     "end_time": "2022-01-30T14:18:53.412287",
     "exception": false,
     "start_time": "2022-01-30T14:18:32.855531",
     "status": "completed"
    },
    "tags": []
   },
   "outputs": [
    {
     "data": {
      "text/plain": [
       "RandomForestRegressor(max_depth=110, max_features='sqrt', n_estimators=1000)"
      ]
     },
     "execution_count": 75,
     "metadata": {},
     "output_type": "execute_result"
    }
   ],
   "source": [
    "rf.fit(X_train, y_train)\n",
    "#prediction = model.predict(test2)"
   ]
  },
  {
   "cell_type": "code",
   "execution_count": 76,
   "id": "e70c6ce3",
   "metadata": {
    "execution": {
     "iopub.execute_input": "2022-01-30T14:18:53.618516Z",
     "iopub.status.busy": "2022-01-30T14:18:53.617583Z",
     "iopub.status.idle": "2022-01-30T14:18:53.667001Z",
     "shell.execute_reply": "2022-01-30T14:18:53.667528Z",
     "shell.execute_reply.started": "2022-01-30T07:22:13.750401Z"
    },
    "papermill": {
     "duration": 0.155361,
     "end_time": "2022-01-30T14:18:53.667723",
     "exception": false,
     "start_time": "2022-01-30T14:18:53.512362",
     "status": "completed"
    },
    "tags": []
   },
   "outputs": [],
   "source": [
    "from sklearn.pipeline import make_pipeline\n",
    "from sklearn.compose import make_column_selector, ColumnTransformer, TransformedTargetRegressor\n",
    "from sklearn.model_selection import cross_validate\n",
    "from sklearn.preprocessing import StandardScaler, RobustScaler, MinMaxScaler\n",
    "from sklearn.model_selection import TimeSeriesSplit\n",
    "from sklearn import set_config\n",
    "set_config(display='diagram') \n",
    "\n",
    "# Model 1 (trend)\n",
    "from pyearth import Earth"
   ]
  },
  {
   "cell_type": "code",
   "execution_count": 77,
   "id": "951c9a0c",
   "metadata": {
    "execution": {
     "iopub.execute_input": "2022-01-30T14:18:53.875858Z",
     "iopub.status.busy": "2022-01-30T14:18:53.875204Z",
     "iopub.status.idle": "2022-01-30T14:18:53.878190Z",
     "shell.execute_reply": "2022-01-30T14:18:53.878771Z",
     "shell.execute_reply.started": "2022-01-30T07:22:23.164112Z"
    },
    "papermill": {
     "duration": 0.109824,
     "end_time": "2022-01-30T14:18:53.878939",
     "exception": false,
     "start_time": "2022-01-30T14:18:53.769115",
     "status": "completed"
    },
    "tags": []
   },
   "outputs": [
    {
     "data": {
      "text/plain": [
       "\"from xgboost import XGBClassifier\\nfrom sklearn.model_selection import GridSearchCV\\nparam_test = {\\n    'reg_alpha':[1e-5, 1e-2, 0.1, 100]\\n}\\ngsearch = GridSearchCV(estimator = \\nXGBClassifier(learning_rate =0.1,\\n              n_estimators=10,\\n              max_depth=5,\\n              min_child_weight=2,\\n              gamma=0.1,\\n              subsample=0.85,\\n              colsample_bytree=0.8,\\n              objective= 'binary:logistic',\\n              nthread=4,\\n              scale_pos_weight=1,\\n              seed=27), \\n              param_grid = param_test,\\n              scoring='roc_auc',\\n              n_jobs=4,\\n              iid=False, \\n              cv=2,\\n              verbose=10)\\ngsearch.fit(X_train,y_train)\""
      ]
     },
     "execution_count": 77,
     "metadata": {},
     "output_type": "execute_result"
    }
   ],
   "source": [
    "'''from xgboost import XGBClassifier\n",
    "from sklearn.model_selection import GridSearchCV\n",
    "param_test = {\n",
    "    'reg_alpha':[1e-5, 1e-2, 0.1, 100]\n",
    "}\n",
    "gsearch = GridSearchCV(estimator = \n",
    "XGBClassifier(learning_rate =0.1,\n",
    "              n_estimators=10,\n",
    "              max_depth=5,\n",
    "              min_child_weight=2,\n",
    "              gamma=0.1,\n",
    "              subsample=0.85,\n",
    "              colsample_bytree=0.8,\n",
    "              objective= 'binary:logistic',\n",
    "              nthread=4,\n",
    "              scale_pos_weight=1,\n",
    "              seed=27), \n",
    "              param_grid = param_test,\n",
    "              scoring='roc_auc',\n",
    "              n_jobs=4,\n",
    "              iid=False, \n",
    "              cv=2,\n",
    "              verbose=10)\n",
    "gsearch.fit(X_train,y_train)'''"
   ]
  },
  {
   "cell_type": "code",
   "execution_count": 78,
   "id": "18334ba0",
   "metadata": {
    "execution": {
     "iopub.execute_input": "2022-01-30T14:18:54.089153Z",
     "iopub.status.busy": "2022-01-30T14:18:54.088425Z",
     "iopub.status.idle": "2022-01-30T14:18:54.090998Z",
     "shell.execute_reply": "2022-01-30T14:18:54.091477Z",
     "shell.execute_reply.started": "2022-01-30T07:22:24.436946Z"
    },
    "papermill": {
     "duration": 0.110296,
     "end_time": "2022-01-30T14:18:54.091687",
     "exception": false,
     "start_time": "2022-01-30T14:18:53.981391",
     "status": "completed"
    },
    "tags": []
   },
   "outputs": [],
   "source": [
    "#fitAndPredict(clf)\n",
    "#rf.fit(X_train,y_train)"
   ]
  },
  {
   "cell_type": "code",
   "execution_count": 79,
   "id": "86acaf32",
   "metadata": {
    "execution": {
     "iopub.execute_input": "2022-01-30T14:18:54.296262Z",
     "iopub.status.busy": "2022-01-30T14:18:54.295643Z",
     "iopub.status.idle": "2022-01-30T14:18:54.303403Z",
     "shell.execute_reply": "2022-01-30T14:18:54.304016Z",
     "shell.execute_reply.started": "2022-01-30T07:22:32.148883Z"
    },
    "papermill": {
     "duration": 0.112039,
     "end_time": "2022-01-30T14:18:54.304208",
     "exception": false,
     "start_time": "2022-01-30T14:18:54.192169",
     "status": "completed"
    },
    "tags": []
   },
   "outputs": [
    {
     "data": {
      "text/plain": [
       "row_id     32867.0\n",
       "country        2.0\n",
       "store          1.0\n",
       "product        2.0\n",
       "year        2019.0\n",
       "month         12.0\n",
       "day           31.0\n",
       "dtype: float64"
      ]
     },
     "execution_count": 79,
     "metadata": {},
     "output_type": "execute_result"
    }
   ],
   "source": [
    "test2.max()"
   ]
  },
  {
   "cell_type": "code",
   "execution_count": 80,
   "id": "877e6bd8",
   "metadata": {
    "execution": {
     "iopub.execute_input": "2022-01-30T14:18:54.510798Z",
     "iopub.status.busy": "2022-01-30T14:18:54.509758Z",
     "iopub.status.idle": "2022-01-30T14:18:54.511514Z",
     "shell.execute_reply": "2022-01-30T14:18:54.511986Z",
     "shell.execute_reply.started": "2022-01-30T07:22:36.389865Z"
    },
    "papermill": {
     "duration": 0.107759,
     "end_time": "2022-01-30T14:18:54.512167",
     "exception": false,
     "start_time": "2022-01-30T14:18:54.404408",
     "status": "completed"
    },
    "tags": []
   },
   "outputs": [],
   "source": [
    "#prediction"
   ]
  },
  {
   "cell_type": "code",
   "execution_count": 81,
   "id": "0a65c419",
   "metadata": {
    "execution": {
     "iopub.execute_input": "2022-01-30T14:18:54.716944Z",
     "iopub.status.busy": "2022-01-30T14:18:54.716020Z",
     "iopub.status.idle": "2022-01-30T14:18:54.722152Z",
     "shell.execute_reply": "2022-01-30T14:18:54.722664Z",
     "shell.execute_reply.started": "2022-01-30T07:28:09.704472Z"
    },
    "papermill": {
     "duration": 0.110358,
     "end_time": "2022-01-30T14:18:54.722852",
     "exception": false,
     "start_time": "2022-01-30T14:18:54.612494",
     "status": "completed"
    },
    "tags": []
   },
   "outputs": [
    {
     "data": {
      "text/plain": [
       "(5900, 8)"
      ]
     },
     "execution_count": 81,
     "metadata": {},
     "output_type": "execute_result"
    }
   ],
   "source": [
    "test.shape"
   ]
  },
  {
   "cell_type": "code",
   "execution_count": 82,
   "id": "49bdbb48",
   "metadata": {
    "execution": {
     "iopub.execute_input": "2022-01-30T14:18:54.931977Z",
     "iopub.status.busy": "2022-01-30T14:18:54.931004Z",
     "iopub.status.idle": "2022-01-30T14:18:55.278900Z",
     "shell.execute_reply": "2022-01-30T14:18:55.278237Z",
     "shell.execute_reply.started": "2022-01-30T07:28:22.790764Z"
    },
    "papermill": {
     "duration": 0.454074,
     "end_time": "2022-01-30T14:18:55.279062",
     "exception": false,
     "start_time": "2022-01-30T14:18:54.824988",
     "status": "completed"
    },
    "tags": []
   },
   "outputs": [
    {
     "name": "stdout",
     "output_type": "stream",
     "text": [
      "Submission saved\n"
     ]
    }
   ],
   "source": [
    "predict = rf.predict(test2)\n",
    "\n",
    "output = pd.DataFrame({'row_id': test_df.row_id, 'num_sold': predict})\n",
    "output.to_csv('submission.csv' , index=False)\n",
    "print(\"Submission saved\")"
   ]
  },
  {
   "cell_type": "code",
   "execution_count": 83,
   "id": "519a699d",
   "metadata": {
    "execution": {
     "iopub.execute_input": "2022-01-30T14:18:55.486661Z",
     "iopub.status.busy": "2022-01-30T14:18:55.485993Z",
     "iopub.status.idle": "2022-01-30T14:18:55.489183Z",
     "shell.execute_reply": "2022-01-30T14:18:55.489774Z",
     "shell.execute_reply.started": "2022-01-30T07:16:28.570122Z"
    },
    "papermill": {
     "duration": 0.108753,
     "end_time": "2022-01-30T14:18:55.489958",
     "exception": false,
     "start_time": "2022-01-30T14:18:55.381205",
     "status": "completed"
    },
    "tags": []
   },
   "outputs": [],
   "source": [
    "#output.to_csv('file1.csv')"
   ]
  },
  {
   "cell_type": "code",
   "execution_count": 84,
   "id": "e0615053",
   "metadata": {
    "execution": {
     "iopub.execute_input": "2022-01-30T14:18:55.698762Z",
     "iopub.status.busy": "2022-01-30T14:18:55.698098Z",
     "iopub.status.idle": "2022-01-30T14:18:55.702390Z",
     "shell.execute_reply": "2022-01-30T14:18:55.702994Z",
     "shell.execute_reply.started": "2022-01-30T07:27:00.392427Z"
    },
    "papermill": {
     "duration": 0.111014,
     "end_time": "2022-01-30T14:18:55.703172",
     "exception": false,
     "start_time": "2022-01-30T14:18:55.592158",
     "status": "completed"
    },
    "tags": []
   },
   "outputs": [
    {
     "data": {
      "text/plain": [
       "numpy.ndarray"
      ]
     },
     "execution_count": 84,
     "metadata": {},
     "output_type": "execute_result"
    }
   ],
   "source": [
    "\n",
    "type(predict)"
   ]
  },
  {
   "cell_type": "code",
   "execution_count": 85,
   "id": "8a056927",
   "metadata": {
    "execution": {
     "iopub.execute_input": "2022-01-30T14:18:55.910606Z",
     "iopub.status.busy": "2022-01-30T14:18:55.909957Z",
     "iopub.status.idle": "2022-01-30T14:18:55.920843Z",
     "shell.execute_reply": "2022-01-30T14:18:55.921296Z",
     "shell.execute_reply.started": "2022-01-30T07:16:28.571296Z"
    },
    "papermill": {
     "duration": 0.116223,
     "end_time": "2022-01-30T14:18:55.921509",
     "exception": false,
     "start_time": "2022-01-30T14:18:55.805286",
     "status": "completed"
    },
    "tags": []
   },
   "outputs": [
    {
     "data": {
      "text/html": [
       "<div>\n",
       "<style scoped>\n",
       "    .dataframe tbody tr th:only-of-type {\n",
       "        vertical-align: middle;\n",
       "    }\n",
       "\n",
       "    .dataframe tbody tr th {\n",
       "        vertical-align: top;\n",
       "    }\n",
       "\n",
       "    .dataframe thead th {\n",
       "        text-align: right;\n",
       "    }\n",
       "</style>\n",
       "<table border=\"1\" class=\"dataframe\">\n",
       "  <thead>\n",
       "    <tr style=\"text-align: right;\">\n",
       "      <th></th>\n",
       "      <th>row_id</th>\n",
       "      <th>num_sold</th>\n",
       "    </tr>\n",
       "  </thead>\n",
       "  <tbody>\n",
       "    <tr>\n",
       "      <th>0</th>\n",
       "      <td>26298</td>\n",
       "      <td>163.001</td>\n",
       "    </tr>\n",
       "    <tr>\n",
       "      <th>1</th>\n",
       "      <td>26299</td>\n",
       "      <td>433.902</td>\n",
       "    </tr>\n",
       "    <tr>\n",
       "      <th>2</th>\n",
       "      <td>26300</td>\n",
       "      <td>163.001</td>\n",
       "    </tr>\n",
       "    <tr>\n",
       "      <th>3</th>\n",
       "      <td>26301</td>\n",
       "      <td>266.186</td>\n",
       "    </tr>\n",
       "    <tr>\n",
       "      <th>4</th>\n",
       "      <td>26302</td>\n",
       "      <td>583.290</td>\n",
       "    </tr>\n",
       "    <tr>\n",
       "      <th>...</th>\n",
       "      <td>...</td>\n",
       "      <td>...</td>\n",
       "    </tr>\n",
       "    <tr>\n",
       "      <th>6565</th>\n",
       "      <td>32863</td>\n",
       "      <td>424.708</td>\n",
       "    </tr>\n",
       "    <tr>\n",
       "      <th>6566</th>\n",
       "      <td>32864</td>\n",
       "      <td>178.099</td>\n",
       "    </tr>\n",
       "    <tr>\n",
       "      <th>6567</th>\n",
       "      <td>32865</td>\n",
       "      <td>288.620</td>\n",
       "    </tr>\n",
       "    <tr>\n",
       "      <th>6568</th>\n",
       "      <td>32866</td>\n",
       "      <td>612.532</td>\n",
       "    </tr>\n",
       "    <tr>\n",
       "      <th>6569</th>\n",
       "      <td>32867</td>\n",
       "      <td>288.620</td>\n",
       "    </tr>\n",
       "  </tbody>\n",
       "</table>\n",
       "<p>6570 rows × 2 columns</p>\n",
       "</div>"
      ],
      "text/plain": [
       "      row_id  num_sold\n",
       "0      26298   163.001\n",
       "1      26299   433.902\n",
       "2      26300   163.001\n",
       "3      26301   266.186\n",
       "4      26302   583.290\n",
       "...      ...       ...\n",
       "6565   32863   424.708\n",
       "6566   32864   178.099\n",
       "6567   32865   288.620\n",
       "6568   32866   612.532\n",
       "6569   32867   288.620\n",
       "\n",
       "[6570 rows x 2 columns]"
      ]
     },
     "execution_count": 85,
     "metadata": {},
     "output_type": "execute_result"
    }
   ],
   "source": [
    "output"
   ]
  },
  {
   "cell_type": "code",
   "execution_count": null,
   "id": "4b1d9e05",
   "metadata": {
    "papermill": {
     "duration": 0.10421,
     "end_time": "2022-01-30T14:18:56.129399",
     "exception": false,
     "start_time": "2022-01-30T14:18:56.025189",
     "status": "completed"
    },
    "tags": []
   },
   "outputs": [],
   "source": []
  },
  {
   "cell_type": "code",
   "execution_count": null,
   "id": "c0c38bbb",
   "metadata": {
    "papermill": {
     "duration": 0.103826,
     "end_time": "2022-01-30T14:18:56.337600",
     "exception": false,
     "start_time": "2022-01-30T14:18:56.233774",
     "status": "completed"
    },
    "tags": []
   },
   "outputs": [],
   "source": []
  },
  {
   "cell_type": "code",
   "execution_count": null,
   "id": "05d1e0ad",
   "metadata": {
    "papermill": {
     "duration": 0.103131,
     "end_time": "2022-01-30T14:18:56.544685",
     "exception": false,
     "start_time": "2022-01-30T14:18:56.441554",
     "status": "completed"
    },
    "tags": []
   },
   "outputs": [],
   "source": []
  },
  {
   "cell_type": "code",
   "execution_count": null,
   "id": "449c3838",
   "metadata": {
    "papermill": {
     "duration": 0.103716,
     "end_time": "2022-01-30T14:18:56.750697",
     "exception": false,
     "start_time": "2022-01-30T14:18:56.646981",
     "status": "completed"
    },
    "tags": []
   },
   "outputs": [],
   "source": []
  }
 ],
 "metadata": {
  "kernelspec": {
   "display_name": "Python 3",
   "language": "python",
   "name": "python3"
  },
  "language_info": {
   "codemirror_mode": {
    "name": "ipython",
    "version": 3
   },
   "file_extension": ".py",
   "mimetype": "text/x-python",
   "name": "python",
   "nbconvert_exporter": "python",
   "pygments_lexer": "ipython3",
   "version": "3.7.12"
  },
  "papermill": {
   "default_parameters": {},
   "duration": 116.329786,
   "end_time": "2022-01-30T14:18:58.067935",
   "environment_variables": {},
   "exception": null,
   "input_path": "__notebook__.ipynb",
   "output_path": "__notebook__.ipynb",
   "parameters": {},
   "start_time": "2022-01-30T14:17:01.738149",
   "version": "2.3.3"
  }
 },
 "nbformat": 4,
 "nbformat_minor": 5
}
