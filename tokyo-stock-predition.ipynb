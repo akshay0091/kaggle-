{
 "cells": [
  {
   "cell_type": "code",
   "execution_count": 1,
   "id": "02b61669",
   "metadata": {
    "execution": {
     "iopub.execute_input": "2022-04-09T05:25:23.275070Z",
     "iopub.status.busy": "2022-04-09T05:25:23.274397Z",
     "iopub.status.idle": "2022-04-09T05:25:25.324437Z",
     "shell.execute_reply": "2022-04-09T05:25:25.323727Z",
     "shell.execute_reply.started": "2022-04-08T19:20:06.336441Z"
    },
    "papermill": {
     "duration": 2.074938,
     "end_time": "2022-04-09T05:25:25.324627",
     "exception": false,
     "start_time": "2022-04-09T05:25:23.249689",
     "status": "completed"
    },
    "tags": []
   },
   "outputs": [
    {
     "data": {
      "text/html": [
       "<style type='text/css'>\n",
       ".datatable table.frame { margin-bottom: 0; }\n",
       ".datatable table.frame thead { border-bottom: none; }\n",
       ".datatable table.frame tr.coltypes td {  color: #FFFFFF;  line-height: 6px;  padding: 0 0.5em;}\n",
       ".datatable .bool    { background: #DDDD99; }\n",
       ".datatable .object  { background: #565656; }\n",
       ".datatable .int     { background: #5D9E5D; }\n",
       ".datatable .float   { background: #4040CC; }\n",
       ".datatable .str     { background: #CC4040; }\n",
       ".datatable .time    { background: #40CC40; }\n",
       ".datatable .row_index {  background: var(--jp-border-color3);  border-right: 1px solid var(--jp-border-color0);  color: var(--jp-ui-font-color3);  font-size: 9px;}\n",
       ".datatable .frame tbody td { text-align: left; }\n",
       ".datatable .frame tr.coltypes .row_index {  background: var(--jp-border-color0);}\n",
       ".datatable th:nth-child(2) { padding-left: 12px; }\n",
       ".datatable .hellipsis {  color: var(--jp-cell-editor-border-color);}\n",
       ".datatable .vellipsis {  background: var(--jp-layout-color0);  color: var(--jp-cell-editor-border-color);}\n",
       ".datatable .na {  color: var(--jp-cell-editor-border-color);  font-size: 80%;}\n",
       ".datatable .sp {  opacity: 0.25;}\n",
       ".datatable .footer { font-size: 9px; }\n",
       ".datatable .frame_dimensions {  background: var(--jp-border-color3);  border-top: 1px solid var(--jp-border-color0);  color: var(--jp-ui-font-color3);  display: inline-block;  opacity: 0.6;  padding: 1px 10px 1px 5px;}\n",
       "</style>\n"
      ],
      "text/plain": [
       "<IPython.core.display.HTML object>"
      ]
     },
     "metadata": {},
     "output_type": "display_data"
    }
   ],
   "source": [
    "import numpy as np\n",
    "import pandas as pd\n",
    "import jpx_tokyo_market_prediction\n",
    "from lightgbm import LGBMRegressor\n",
    "import matplotlib.pyplot as plt\n",
    "import warnings\n",
    "warnings.filterwarnings(\"ignore\")"
   ]
  },
  {
   "cell_type": "markdown",
   "id": "728028f1",
   "metadata": {
    "papermill": {
     "duration": 0.014238,
     "end_time": "2022-04-09T05:25:25.354249",
     "exception": false,
     "start_time": "2022-04-09T05:25:25.340011",
     "status": "completed"
    },
    "tags": []
   },
   "source": [
    "# Load data"
   ]
  },
  {
   "cell_type": "code",
   "execution_count": 2,
   "id": "e11dc020",
   "metadata": {
    "execution": {
     "iopub.execute_input": "2022-04-09T05:25:25.386930Z",
     "iopub.status.busy": "2022-04-09T05:25:25.385987Z",
     "iopub.status.idle": "2022-04-09T05:25:25.741621Z",
     "shell.execute_reply": "2022-04-09T05:25:25.742129Z",
     "shell.execute_reply.started": "2022-04-08T19:20:08.437501Z"
    },
    "papermill": {
     "duration": 0.373842,
     "end_time": "2022-04-09T05:25:25.742341",
     "exception": false,
     "start_time": "2022-04-09T05:25:25.368499",
     "status": "completed"
    },
    "tags": []
   },
   "outputs": [],
   "source": [
    "prices = pd.read_csv(\"../input/jpx-tokyo-stock-exchange-prediction/supplemental_files/stock_prices.csv\")"
   ]
  },
  {
   "cell_type": "code",
   "execution_count": 3,
   "id": "7289aba6",
   "metadata": {
    "execution": {
     "iopub.execute_input": "2022-04-09T05:25:25.779723Z",
     "iopub.status.busy": "2022-04-09T05:25:25.779003Z",
     "iopub.status.idle": "2022-04-09T05:25:25.799891Z",
     "shell.execute_reply": "2022-04-09T05:25:25.799353Z",
     "shell.execute_reply.started": "2022-04-08T19:20:08.811755Z"
    },
    "papermill": {
     "duration": 0.043345,
     "end_time": "2022-04-09T05:25:25.800050",
     "exception": false,
     "start_time": "2022-04-09T05:25:25.756705",
     "status": "completed"
    },
    "tags": []
   },
   "outputs": [
    {
     "data": {
      "text/html": [
       "<div>\n",
       "<style scoped>\n",
       "    .dataframe tbody tr th:only-of-type {\n",
       "        vertical-align: middle;\n",
       "    }\n",
       "\n",
       "    .dataframe tbody tr th {\n",
       "        vertical-align: top;\n",
       "    }\n",
       "\n",
       "    .dataframe thead th {\n",
       "        text-align: right;\n",
       "    }\n",
       "</style>\n",
       "<table border=\"1\" class=\"dataframe\">\n",
       "  <thead>\n",
       "    <tr style=\"text-align: right;\">\n",
       "      <th></th>\n",
       "      <th>RowId</th>\n",
       "      <th>Date</th>\n",
       "      <th>SecuritiesCode</th>\n",
       "      <th>Open</th>\n",
       "      <th>High</th>\n",
       "      <th>Low</th>\n",
       "      <th>Close</th>\n",
       "      <th>Volume</th>\n",
       "      <th>AdjustmentFactor</th>\n",
       "      <th>ExpectedDividend</th>\n",
       "      <th>SupervisionFlag</th>\n",
       "      <th>Target</th>\n",
       "    </tr>\n",
       "  </thead>\n",
       "  <tbody>\n",
       "    <tr>\n",
       "      <th>0</th>\n",
       "      <td>20211206_1301</td>\n",
       "      <td>2021-12-06</td>\n",
       "      <td>1301</td>\n",
       "      <td>2982.0</td>\n",
       "      <td>2982.0</td>\n",
       "      <td>2965.0</td>\n",
       "      <td>2971.0</td>\n",
       "      <td>8900</td>\n",
       "      <td>1.0</td>\n",
       "      <td>NaN</td>\n",
       "      <td>False</td>\n",
       "      <td>-0.003263</td>\n",
       "    </tr>\n",
       "    <tr>\n",
       "      <th>1</th>\n",
       "      <td>20211206_1332</td>\n",
       "      <td>2021-12-06</td>\n",
       "      <td>1332</td>\n",
       "      <td>592.0</td>\n",
       "      <td>599.0</td>\n",
       "      <td>588.0</td>\n",
       "      <td>589.0</td>\n",
       "      <td>1360800</td>\n",
       "      <td>1.0</td>\n",
       "      <td>NaN</td>\n",
       "      <td>False</td>\n",
       "      <td>-0.008993</td>\n",
       "    </tr>\n",
       "    <tr>\n",
       "      <th>2</th>\n",
       "      <td>20211206_1333</td>\n",
       "      <td>2021-12-06</td>\n",
       "      <td>1333</td>\n",
       "      <td>2368.0</td>\n",
       "      <td>2388.0</td>\n",
       "      <td>2360.0</td>\n",
       "      <td>2377.0</td>\n",
       "      <td>125900</td>\n",
       "      <td>1.0</td>\n",
       "      <td>NaN</td>\n",
       "      <td>False</td>\n",
       "      <td>-0.009963</td>\n",
       "    </tr>\n",
       "    <tr>\n",
       "      <th>3</th>\n",
       "      <td>20211206_1375</td>\n",
       "      <td>2021-12-06</td>\n",
       "      <td>1375</td>\n",
       "      <td>1230.0</td>\n",
       "      <td>1239.0</td>\n",
       "      <td>1224.0</td>\n",
       "      <td>1224.0</td>\n",
       "      <td>81100</td>\n",
       "      <td>1.0</td>\n",
       "      <td>NaN</td>\n",
       "      <td>False</td>\n",
       "      <td>-0.015032</td>\n",
       "    </tr>\n",
       "    <tr>\n",
       "      <th>4</th>\n",
       "      <td>20211206_1376</td>\n",
       "      <td>2021-12-06</td>\n",
       "      <td>1376</td>\n",
       "      <td>1339.0</td>\n",
       "      <td>1372.0</td>\n",
       "      <td>1339.0</td>\n",
       "      <td>1351.0</td>\n",
       "      <td>6200</td>\n",
       "      <td>1.0</td>\n",
       "      <td>NaN</td>\n",
       "      <td>False</td>\n",
       "      <td>0.002867</td>\n",
       "    </tr>\n",
       "  </tbody>\n",
       "</table>\n",
       "</div>"
      ],
      "text/plain": [
       "           RowId        Date  SecuritiesCode    Open    High     Low   Close  \\\n",
       "0  20211206_1301  2021-12-06            1301  2982.0  2982.0  2965.0  2971.0   \n",
       "1  20211206_1332  2021-12-06            1332   592.0   599.0   588.0   589.0   \n",
       "2  20211206_1333  2021-12-06            1333  2368.0  2388.0  2360.0  2377.0   \n",
       "3  20211206_1375  2021-12-06            1375  1230.0  1239.0  1224.0  1224.0   \n",
       "4  20211206_1376  2021-12-06            1376  1339.0  1372.0  1339.0  1351.0   \n",
       "\n",
       "    Volume  AdjustmentFactor  ExpectedDividend  SupervisionFlag    Target  \n",
       "0     8900               1.0               NaN            False -0.003263  \n",
       "1  1360800               1.0               NaN            False -0.008993  \n",
       "2   125900               1.0               NaN            False -0.009963  \n",
       "3    81100               1.0               NaN            False -0.015032  \n",
       "4     6200               1.0               NaN            False  0.002867  "
      ]
     },
     "execution_count": 3,
     "metadata": {},
     "output_type": "execute_result"
    }
   ],
   "source": [
    "prices.head()"
   ]
  },
  {
   "cell_type": "code",
   "execution_count": 4,
   "id": "de3bb8a2",
   "metadata": {
    "execution": {
     "iopub.execute_input": "2022-04-09T05:25:25.846223Z",
     "iopub.status.busy": "2022-04-09T05:25:25.840752Z",
     "iopub.status.idle": "2022-04-09T05:25:25.913845Z",
     "shell.execute_reply": "2022-04-09T05:25:25.913148Z",
     "shell.execute_reply.started": "2022-04-08T19:20:08.837587Z"
    },
    "papermill": {
     "duration": 0.098704,
     "end_time": "2022-04-09T05:25:25.913992",
     "exception": false,
     "start_time": "2022-04-09T05:25:25.815288",
     "status": "completed"
    },
    "tags": []
   },
   "outputs": [
    {
     "data": {
      "text/html": [
       "<div>\n",
       "<style scoped>\n",
       "    .dataframe tbody tr th:only-of-type {\n",
       "        vertical-align: middle;\n",
       "    }\n",
       "\n",
       "    .dataframe tbody tr th {\n",
       "        vertical-align: top;\n",
       "    }\n",
       "\n",
       "    .dataframe thead th {\n",
       "        text-align: right;\n",
       "    }\n",
       "</style>\n",
       "<table border=\"1\" class=\"dataframe\">\n",
       "  <thead>\n",
       "    <tr style=\"text-align: right;\">\n",
       "      <th></th>\n",
       "      <th>SecuritiesCode</th>\n",
       "      <th>Open</th>\n",
       "      <th>High</th>\n",
       "      <th>Low</th>\n",
       "      <th>Close</th>\n",
       "      <th>Volume</th>\n",
       "      <th>AdjustmentFactor</th>\n",
       "      <th>ExpectedDividend</th>\n",
       "      <th>Target</th>\n",
       "    </tr>\n",
       "  </thead>\n",
       "  <tbody>\n",
       "    <tr>\n",
       "      <th>count</th>\n",
       "      <td>112000.000000</td>\n",
       "      <td>111716.000000</td>\n",
       "      <td>111716.000000</td>\n",
       "      <td>111716.000000</td>\n",
       "      <td>111716.000000</td>\n",
       "      <td>1.120000e+05</td>\n",
       "      <td>112000.000000</td>\n",
       "      <td>503.000000</td>\n",
       "      <td>112000.000000</td>\n",
       "    </tr>\n",
       "    <tr>\n",
       "      <th>mean</th>\n",
       "      <td>5883.054000</td>\n",
       "      <td>2684.313035</td>\n",
       "      <td>2717.101250</td>\n",
       "      <td>2645.627351</td>\n",
       "      <td>2680.175912</td>\n",
       "      <td>5.995511e+05</td>\n",
       "      <td>0.999940</td>\n",
       "      <td>23.385308</td>\n",
       "      <td>-0.001071</td>\n",
       "    </tr>\n",
       "    <tr>\n",
       "      <th>std</th>\n",
       "      <td>2389.818157</td>\n",
       "      <td>4257.855565</td>\n",
       "      <td>4308.294164</td>\n",
       "      <td>4196.004142</td>\n",
       "      <td>4249.675941</td>\n",
       "      <td>2.289323e+06</td>\n",
       "      <td>0.005678</td>\n",
       "      <td>32.305817</td>\n",
       "      <td>0.023810</td>\n",
       "    </tr>\n",
       "    <tr>\n",
       "      <th>min</th>\n",
       "      <td>1301.000000</td>\n",
       "      <td>35.000000</td>\n",
       "      <td>36.000000</td>\n",
       "      <td>34.000000</td>\n",
       "      <td>34.000000</td>\n",
       "      <td>0.000000e+00</td>\n",
       "      <td>0.333333</td>\n",
       "      <td>0.000000</td>\n",
       "      <td>-0.355000</td>\n",
       "    </tr>\n",
       "    <tr>\n",
       "      <th>25%</th>\n",
       "      <td>3915.750000</td>\n",
       "      <td>1025.000000</td>\n",
       "      <td>1039.000000</td>\n",
       "      <td>1012.000000</td>\n",
       "      <td>1025.000000</td>\n",
       "      <td>3.190000e+04</td>\n",
       "      <td>1.000000</td>\n",
       "      <td>0.000000</td>\n",
       "      <td>-0.012329</td>\n",
       "    </tr>\n",
       "    <tr>\n",
       "      <th>50%</th>\n",
       "      <td>6200.500000</td>\n",
       "      <td>1813.000000</td>\n",
       "      <td>1837.000000</td>\n",
       "      <td>1788.000000</td>\n",
       "      <td>1811.000000</td>\n",
       "      <td>9.690000e+04</td>\n",
       "      <td>1.000000</td>\n",
       "      <td>15.000000</td>\n",
       "      <td>-0.000478</td>\n",
       "    </tr>\n",
       "    <tr>\n",
       "      <th>75%</th>\n",
       "      <td>7938.250000</td>\n",
       "      <td>2985.000000</td>\n",
       "      <td>3015.000000</td>\n",
       "      <td>2943.000000</td>\n",
       "      <td>2982.000000</td>\n",
       "      <td>3.668000e+05</td>\n",
       "      <td>1.000000</td>\n",
       "      <td>30.000000</td>\n",
       "      <td>0.010388</td>\n",
       "    </tr>\n",
       "    <tr>\n",
       "      <th>max</th>\n",
       "      <td>9997.000000</td>\n",
       "      <td>79030.000000</td>\n",
       "      <td>79250.000000</td>\n",
       "      <td>78600.000000</td>\n",
       "      <td>79080.000000</td>\n",
       "      <td>1.177263e+08</td>\n",
       "      <td>1.000000</td>\n",
       "      <td>297.000000</td>\n",
       "      <td>0.597907</td>\n",
       "    </tr>\n",
       "  </tbody>\n",
       "</table>\n",
       "</div>"
      ],
      "text/plain": [
       "       SecuritiesCode           Open           High            Low  \\\n",
       "count   112000.000000  111716.000000  111716.000000  111716.000000   \n",
       "mean      5883.054000    2684.313035    2717.101250    2645.627351   \n",
       "std       2389.818157    4257.855565    4308.294164    4196.004142   \n",
       "min       1301.000000      35.000000      36.000000      34.000000   \n",
       "25%       3915.750000    1025.000000    1039.000000    1012.000000   \n",
       "50%       6200.500000    1813.000000    1837.000000    1788.000000   \n",
       "75%       7938.250000    2985.000000    3015.000000    2943.000000   \n",
       "max       9997.000000   79030.000000   79250.000000   78600.000000   \n",
       "\n",
       "               Close        Volume  AdjustmentFactor  ExpectedDividend  \\\n",
       "count  111716.000000  1.120000e+05     112000.000000        503.000000   \n",
       "mean     2680.175912  5.995511e+05          0.999940         23.385308   \n",
       "std      4249.675941  2.289323e+06          0.005678         32.305817   \n",
       "min        34.000000  0.000000e+00          0.333333          0.000000   \n",
       "25%      1025.000000  3.190000e+04          1.000000          0.000000   \n",
       "50%      1811.000000  9.690000e+04          1.000000         15.000000   \n",
       "75%      2982.000000  3.668000e+05          1.000000         30.000000   \n",
       "max     79080.000000  1.177263e+08          1.000000        297.000000   \n",
       "\n",
       "              Target  \n",
       "count  112000.000000  \n",
       "mean       -0.001071  \n",
       "std         0.023810  \n",
       "min        -0.355000  \n",
       "25%        -0.012329  \n",
       "50%        -0.000478  \n",
       "75%         0.010388  \n",
       "max         0.597907  "
      ]
     },
     "execution_count": 4,
     "metadata": {},
     "output_type": "execute_result"
    }
   ],
   "source": [
    "prices.describe()"
   ]
  },
  {
   "cell_type": "code",
   "execution_count": 5,
   "id": "aacad4d6",
   "metadata": {
    "execution": {
     "iopub.execute_input": "2022-04-09T05:25:25.952877Z",
     "iopub.status.busy": "2022-04-09T05:25:25.952157Z",
     "iopub.status.idle": "2022-04-09T05:25:25.984986Z",
     "shell.execute_reply": "2022-04-09T05:25:25.985511Z",
     "shell.execute_reply.started": "2022-04-08T19:20:08.919577Z"
    },
    "papermill": {
     "duration": 0.054769,
     "end_time": "2022-04-09T05:25:25.985686",
     "exception": false,
     "start_time": "2022-04-09T05:25:25.930917",
     "status": "completed"
    },
    "tags": []
   },
   "outputs": [
    {
     "data": {
      "text/plain": [
       "RowId                    0\n",
       "Date                     0\n",
       "SecuritiesCode           0\n",
       "Open                   284\n",
       "High                   284\n",
       "Low                    284\n",
       "Close                  284\n",
       "Volume                   0\n",
       "AdjustmentFactor         0\n",
       "ExpectedDividend    111497\n",
       "SupervisionFlag          0\n",
       "Target                   0\n",
       "dtype: int64"
      ]
     },
     "execution_count": 5,
     "metadata": {},
     "output_type": "execute_result"
    }
   ],
   "source": [
    "prices.isnull().sum()"
   ]
  },
  {
   "cell_type": "code",
   "execution_count": 6,
   "id": "f7386bcb",
   "metadata": {
    "execution": {
     "iopub.execute_input": "2022-04-09T05:25:26.020978Z",
     "iopub.status.busy": "2022-04-09T05:25:26.019974Z",
     "iopub.status.idle": "2022-04-09T05:25:39.318551Z",
     "shell.execute_reply": "2022-04-09T05:25:39.319074Z",
     "shell.execute_reply.started": "2022-04-08T19:28:53.180293Z"
    },
    "papermill": {
     "duration": 13.317909,
     "end_time": "2022-04-09T05:25:39.319327",
     "exception": false,
     "start_time": "2022-04-09T05:25:26.001418",
     "status": "completed"
    },
    "tags": []
   },
   "outputs": [],
   "source": [
    "average = pd.DataFrame(prices.groupby(\"SecuritiesCode\").Target.mean())\n",
    "def get_avg(_id_):\n",
    "    return average.loc[_id_]\n",
    "prices[\"Avg\"] = prices[\"SecuritiesCode\"].apply(get_avg)"
   ]
  },
  {
   "cell_type": "markdown",
   "id": "345ef453",
   "metadata": {
    "papermill": {
     "duration": 0.016109,
     "end_time": "2022-04-09T05:25:39.351672",
     "exception": false,
     "start_time": "2022-04-09T05:25:39.335563",
     "status": "completed"
    },
    "tags": []
   },
   "source": [
    "# Train the model"
   ]
  },
  {
   "cell_type": "code",
   "execution_count": 7,
   "id": "afbec735",
   "metadata": {
    "execution": {
     "iopub.execute_input": "2022-04-09T05:25:39.396972Z",
     "iopub.status.busy": "2022-04-09T05:25:39.396319Z",
     "iopub.status.idle": "2022-04-09T05:25:40.269424Z",
     "shell.execute_reply": "2022-04-09T05:25:40.269926Z",
     "shell.execute_reply.started": "2022-04-08T19:30:49.440577Z"
    },
    "papermill": {
     "duration": 0.902315,
     "end_time": "2022-04-09T05:25:40.270159",
     "exception": false,
     "start_time": "2022-04-09T05:25:39.367844",
     "status": "completed"
    },
    "tags": []
   },
   "outputs": [],
   "source": [
    "prices.Date = pd.to_datetime(prices.Date)\n",
    "prices['Date'] = prices['Date'].dt.strftime(\"%Y%m%d\").astype(int)\n",
    "X=prices[[\"Date\",\"SecuritiesCode\",\"Avg\"]]\n",
    "y=prices[[\"Target\"]]\n",
    "codes = X.SecuritiesCode.unique()"
   ]
  },
  {
   "cell_type": "code",
   "execution_count": 8,
   "id": "9827e51f",
   "metadata": {
    "execution": {
     "iopub.execute_input": "2022-04-09T05:25:40.306221Z",
     "iopub.status.busy": "2022-04-09T05:25:40.305570Z",
     "iopub.status.idle": "2022-04-09T05:25:42.574055Z",
     "shell.execute_reply": "2022-04-09T05:25:42.575045Z",
     "shell.execute_reply.started": "2022-04-08T19:31:46.966372Z"
    },
    "papermill": {
     "duration": 2.288559,
     "end_time": "2022-04-09T05:25:42.575270",
     "exception": false,
     "start_time": "2022-04-09T05:25:40.286711",
     "status": "completed"
    },
    "tags": []
   },
   "outputs": [
    {
     "data": {
      "text/plain": [
       "0.4420931170001925"
      ]
     },
     "execution_count": 8,
     "metadata": {},
     "output_type": "execute_result"
    }
   ],
   "source": [
    "model=LGBMRegressor(num_leaves=500, learning_rate=0.05, n_estimators=100)\n",
    "model.fit(X,y)\n",
    "model.score(X,y)"
   ]
  },
  {
   "cell_type": "markdown",
   "id": "e6847dd2",
   "metadata": {
    "papermill": {
     "duration": 0.016154,
     "end_time": "2022-04-09T05:25:42.608410",
     "exception": false,
     "start_time": "2022-04-09T05:25:42.592256",
     "status": "completed"
    },
    "tags": []
   },
   "source": [
    "# Let's take a look at our predictions"
   ]
  },
  {
   "cell_type": "code",
   "execution_count": 9,
   "id": "851dd50d",
   "metadata": {
    "execution": {
     "iopub.execute_input": "2022-04-09T05:25:42.644689Z",
     "iopub.status.busy": "2022-04-09T05:25:42.643996Z",
     "iopub.status.idle": "2022-04-09T05:25:42.899134Z",
     "shell.execute_reply": "2022-04-09T05:25:42.898109Z",
     "shell.execute_reply.started": "2022-04-08T19:31:49.183145Z"
    },
    "papermill": {
     "duration": 0.27461,
     "end_time": "2022-04-09T05:25:42.899323",
     "exception": false,
     "start_time": "2022-04-09T05:25:42.624713",
     "status": "completed"
    },
    "tags": []
   },
   "outputs": [
    {
     "data": {
      "text/plain": [
       "[<matplotlib.lines.Line2D at 0x7f7004421710>]"
      ]
     },
     "execution_count": 9,
     "metadata": {},
     "output_type": "execute_result"
    },
    {
     "data": {
      "image/png": "[encoded data removed]",
      "text/plain": [
       "<Figure size 432x288 with 1 Axes>"
      ]
     },
     "metadata": {
      "needs_background": "light"
     },
     "output_type": "display_data"
    }
   ],
   "source": [
    "plt.plot(model.predict(X[X.SecuritiesCode == 1301]))\n",
    "plt.plot(np.array(prices[prices.SecuritiesCode == 1301].Target))"
   ]
  },
  {
   "cell_type": "markdown",
   "id": "20040ef5",
   "metadata": {
    "papermill": {
     "duration": 0.01792,
     "end_time": "2022-04-09T05:25:42.935509",
     "exception": false,
     "start_time": "2022-04-09T05:25:42.917589",
     "status": "completed"
    },
    "tags": []
   },
   "source": [
    "# Submission"
   ]
  },
  {
   "cell_type": "code",
   "execution_count": 10,
   "id": "39faa87d",
   "metadata": {
    "execution": {
     "iopub.execute_input": "2022-04-09T05:25:42.975768Z",
     "iopub.status.busy": "2022-04-09T05:25:42.974767Z",
     "iopub.status.idle": "2022-04-09T05:25:43.713255Z",
     "shell.execute_reply": "2022-04-09T05:25:43.713822Z",
     "shell.execute_reply.started": "2022-04-08T19:32:15.270362Z"
    },
    "papermill": {
     "duration": 0.760268,
     "end_time": "2022-04-09T05:25:43.714015",
     "exception": false,
     "start_time": "2022-04-09T05:25:42.953747",
     "status": "completed"
    },
    "tags": []
   },
   "outputs": [
    {
     "name": "stdout",
     "output_type": "stream",
     "text": [
      "This version of the API is not optimized and should not be used to estimate the runtime of your code on the hidden test set.\n"
     ]
    }
   ],
   "source": [
    "env = jpx_tokyo_market_prediction.make_env()\n",
    "iter_test = env.iter_test()\n",
    "\n",
    "for (prices, options, financials, trades, secondary_prices, sample_prediction) in iter_test:\n",
    "    ds=[prices, options, financials, trades, secondary_prices, sample_prediction]\n",
    "    sample_prediction[\"Avg\"] = sample_prediction[\"SecuritiesCode\"].apply(get_avg)\n",
    "    df = sample_prediction[[\"Date\",\"SecuritiesCode\",\"Avg\"]]\n",
    "    df.Date = pd.to_datetime(df.Date)\n",
    "    df['Date'] = df['Date'].dt.strftime(\"%Y%m%d\").astype(int)\n",
    "    sample_prediction[\"Prediction\"] = model.predict(df)\n",
    "    sample_prediction = sample_prediction.sort_values(by = \"Prediction\", ascending=False)\n",
    "    sample_prediction.Rank = np.arange(0,2000)\n",
    "    sample_prediction = sample_prediction.sort_values(by = \"SecuritiesCode\", ascending=True)\n",
    "    sample_prediction.drop([\"Prediction\"],axis=1)\n",
    "    submission = sample_prediction[[\"Date\",\"SecuritiesCode\",\"Rank\"]]\n",
    "    env.predict(submission)"
   ]
  }
 ],
 "metadata": {
  "kernelspec": {
   "display_name": "Python 3",
   "language": "python",
   "name": "python3"
  },
  "language_info": {
   "codemirror_mode": {
    "name": "ipython",
    "version": 3
   },
   "file_extension": ".py",
   "mimetype": "text/x-python",
   "name": "python",
   "nbconvert_exporter": "python",
   "pygments_lexer": "ipython3",
   "version": "3.7.12"
  },
  "papermill": {
   "default_parameters": {},
   "duration": 31.281737,
   "end_time": "2022-04-09T05:25:44.545517",
   "environment_variables": {},
   "exception": null,
   "input_path": "__notebook__.ipynb",
   "output_path": "__notebook__.ipynb",
   "parameters": {},
   "start_time": "2022-04-09T05:25:13.263780",
   "version": "2.3.3"
  }
 },
 "nbformat": 4,
 "nbformat_minor": 5
}
