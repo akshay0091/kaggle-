{
 "cells": [
  {
   "cell_type": "markdown",
   "id": "1addbd3c",
   "metadata": {
    "_cell_guid": "b1076dfc-b9ad-4769-8c92-a6c4dae69d19",
    "_uuid": "8f2839f25d086af736a60e9eeb907d3b93b6e0e5",
    "papermill": {
     "duration": 0.012418,
     "end_time": "2022-02-01T05:16:41.089998",
     "exception": false,
     "start_time": "2022-02-01T05:16:41.077580",
     "status": "completed"
    },
    "tags": []
   },
   "source": [
    "# Advanced linear model for the January TPS with customer confidence index\n",
    "\n",
    "This notebook contains some major changes compared to my earlier [linear model](https://www.kaggle.com/ambrosm/tpsjan22-03-linear-model):\n",
    "- Feature engineering\n",
    "  - more external data: monthly consumer confidence index\n",
    "  - different selection of Fourier series; no Fourier series for stickers\n",
    "  - Small changes in length of holidays\n",
    "  - Different Easter effect for Norway than for other countries\n",
    "- Cross-validation shows results for Q1 and the other three quarters separately.\n",
    "- Regularization has been tuned with three MinMaxScalers\n",
    "- KaggleRama factor has been taken out of the regression (direct computation is more accurate)\n"
   ]
  },
  {
   "cell_type": "code",
   "execution_count": 1,
   "id": "3166e564",
   "metadata": {
    "_kg_hide-input": true,
    "execution": {
     "iopub.execute_input": "2022-02-01T05:16:41.120349Z",
     "iopub.status.busy": "2022-02-01T05:16:41.118519Z",
     "iopub.status.idle": "2022-02-01T05:16:42.207235Z",
     "shell.execute_reply": "2022-02-01T05:16:42.207934Z",
     "shell.execute_reply.started": "2022-02-01T04:58:49.592091Z"
    },
    "papermill": {
     "duration": 1.105431,
     "end_time": "2022-02-01T05:16:42.208232",
     "exception": false,
     "start_time": "2022-02-01T05:16:41.102801",
     "status": "completed"
    },
    "tags": []
   },
   "outputs": [],
   "source": [
    "import pandas as pd\n",
    "import numpy as np\n",
    "import pickle\n",
    "import itertools\n",
    "import gc\n",
    "import math\n",
    "import matplotlib.pyplot as plt\n",
    "import dateutil.easter as easter\n",
    "from matplotlib.ticker import MaxNLocator, FormatStrFormatter, PercentFormatter\n",
    "from datetime import datetime, date, timedelta\n",
    "from sklearn.preprocessing import StandardScaler, MinMaxScaler\n",
    "from sklearn.model_selection import GroupKFold\n",
    "from sklearn.linear_model import Ridge\n",
    "from sklearn.metrics import mean_squared_error\n",
    "from sklearn.compose import ColumnTransformer\n",
    "from sklearn.pipeline import make_pipeline\n",
    "import scipy.stats"
   ]
  },
  {
   "cell_type": "code",
   "execution_count": 2,
   "id": "f09e7ef6",
   "metadata": {
    "execution": {
     "iopub.execute_input": "2022-02-01T05:16:42.234405Z",
     "iopub.status.busy": "2022-02-01T05:16:42.233449Z",
     "iopub.status.idle": "2022-02-01T05:16:42.401572Z",
     "shell.execute_reply": "2022-02-01T05:16:42.402101Z",
     "shell.execute_reply.started": "2022-02-01T04:58:49.60186Z"
    },
    "papermill": {
     "duration": 0.18285,
     "end_time": "2022-02-01T05:16:42.402273",
     "exception": false,
     "start_time": "2022-02-01T05:16:42.219423",
     "status": "completed"
    },
    "tags": []
   },
   "outputs": [
    {
     "data": {
      "text/html": [
       "<div>\n",
       "<style scoped>\n",
       "    .dataframe tbody tr th:only-of-type {\n",
       "        vertical-align: middle;\n",
       "    }\n",
       "\n",
       "    .dataframe tbody tr th {\n",
       "        vertical-align: top;\n",
       "    }\n",
       "\n",
       "    .dataframe thead th {\n",
       "        text-align: right;\n",
       "    }\n",
       "</style>\n",
       "<table border=\"1\" class=\"dataframe\">\n",
       "  <thead>\n",
       "    <tr style=\"text-align: right;\">\n",
       "      <th></th>\n",
       "      <th>row_id</th>\n",
       "      <th>date</th>\n",
       "      <th>country</th>\n",
       "      <th>store</th>\n",
       "      <th>product</th>\n",
       "      <th>num_sold</th>\n",
       "    </tr>\n",
       "  </thead>\n",
       "  <tbody>\n",
       "    <tr>\n",
       "      <th>0</th>\n",
       "      <td>0</td>\n",
       "      <td>2015-01-01</td>\n",
       "      <td>Finland</td>\n",
       "      <td>KaggleMart</td>\n",
       "      <td>Kaggle Mug</td>\n",
       "      <td>329</td>\n",
       "    </tr>\n",
       "    <tr>\n",
       "      <th>1</th>\n",
       "      <td>1</td>\n",
       "      <td>2015-01-01</td>\n",
       "      <td>Finland</td>\n",
       "      <td>KaggleMart</td>\n",
       "      <td>Kaggle Hat</td>\n",
       "      <td>520</td>\n",
       "    </tr>\n",
       "    <tr>\n",
       "      <th>2</th>\n",
       "      <td>2</td>\n",
       "      <td>2015-01-01</td>\n",
       "      <td>Finland</td>\n",
       "      <td>KaggleMart</td>\n",
       "      <td>Kaggle Sticker</td>\n",
       "      <td>146</td>\n",
       "    </tr>\n",
       "    <tr>\n",
       "      <th>3</th>\n",
       "      <td>3</td>\n",
       "      <td>2015-01-01</td>\n",
       "      <td>Finland</td>\n",
       "      <td>KaggleRama</td>\n",
       "      <td>Kaggle Mug</td>\n",
       "      <td>572</td>\n",
       "    </tr>\n",
       "    <tr>\n",
       "      <th>4</th>\n",
       "      <td>4</td>\n",
       "      <td>2015-01-01</td>\n",
       "      <td>Finland</td>\n",
       "      <td>KaggleRama</td>\n",
       "      <td>Kaggle Hat</td>\n",
       "      <td>911</td>\n",
       "    </tr>\n",
       "    <tr>\n",
       "      <th>5</th>\n",
       "      <td>5</td>\n",
       "      <td>2015-01-01</td>\n",
       "      <td>Finland</td>\n",
       "      <td>KaggleRama</td>\n",
       "      <td>Kaggle Sticker</td>\n",
       "      <td>283</td>\n",
       "    </tr>\n",
       "  </tbody>\n",
       "</table>\n",
       "</div>"
      ],
      "text/plain": [
       "   row_id       date  country       store         product  num_sold\n",
       "0       0 2015-01-01  Finland  KaggleMart      Kaggle Mug       329\n",
       "1       1 2015-01-01  Finland  KaggleMart      Kaggle Hat       520\n",
       "2       2 2015-01-01  Finland  KaggleMart  Kaggle Sticker       146\n",
       "3       3 2015-01-01  Finland  KaggleRama      Kaggle Mug       572\n",
       "4       4 2015-01-01  Finland  KaggleRama      Kaggle Hat       911\n",
       "5       5 2015-01-01  Finland  KaggleRama  Kaggle Sticker       283"
      ]
     },
     "execution_count": 2,
     "metadata": {},
     "output_type": "execute_result"
    }
   ],
   "source": [
    "NO_STORE = True\n",
    "\n",
    "original_train_df = pd.read_csv('../input/tabular-playground-series-jan-2022/train.csv')\n",
    "original_test_df = pd.read_csv('../input/tabular-playground-series-jan-2022/test.csv')\n",
    "\n",
    "gdp_df = pd.read_csv('../input/gdp-20152019-finland-norway-and-sweden/GDP_data_2015_to_2019_Finland_Norway_Sweden.csv')\n",
    "gdp_df.set_index('year', inplace=True)\n",
    "\n",
    "cci_df = pd.read_csv('../input/oecd-consumer-confidence-index/DP_LIVE_21012022073653464.csv')\n",
    "cci_df.set_index(['LOCATION', 'TIME'], inplace=True)\n",
    "\n",
    "# The dates are read as strings and must be converted\n",
    "for df in [original_train_df, original_test_df]:\n",
    "    df['date'] = pd.to_datetime(df.date)\n",
    "original_train_df.head(6)"
   ]
  },
  {
   "cell_type": "markdown",
   "id": "2154195e",
   "metadata": {
    "papermill": {
     "duration": 0.011563,
     "end_time": "2022-02-01T05:16:42.426179",
     "exception": false,
     "start_time": "2022-02-01T05:16:42.414616",
     "status": "completed"
    },
    "tags": []
   },
   "source": [
    "Before starting, we calculate the ratio between KaggleRama and KaggleMart sales. This ratio is always the same and does not depend on any other features. A direct calculation is more accurate than linear regression:"
   ]
  },
  {
   "cell_type": "code",
   "execution_count": 3,
   "id": "5c826031",
   "metadata": {
    "execution": {
     "iopub.execute_input": "2022-02-01T05:16:42.453403Z",
     "iopub.status.busy": "2022-02-01T05:16:42.452414Z",
     "iopub.status.idle": "2022-02-01T05:16:42.472884Z",
     "shell.execute_reply": "2022-02-01T05:16:42.472356Z",
     "shell.execute_reply.started": "2022-02-01T04:58:49.725822Z"
    },
    "papermill": {
     "duration": 0.035085,
     "end_time": "2022-02-01T05:16:42.473029",
     "exception": false,
     "start_time": "2022-02-01T05:16:42.437944",
     "status": "completed"
    },
    "tags": []
   },
   "outputs": [
    {
     "name": "stdout",
     "output_type": "stream",
     "text": [
      "KaggleRama always sells 1.74377 more than KaggleMart.\n"
     ]
    }
   ],
   "source": [
    "kaggle_rama_log_diff = \\\n",
    "    np.log(original_train_df[original_train_df.store == \"KaggleRama\"].num_sold.values).mean() - \\\n",
    "    np.log(original_train_df[original_train_df.store == \"KaggleMart\"].num_sold.values).mean()\n",
    "print(f\"KaggleRama always sells {np.exp(kaggle_rama_log_diff):.5f} more than KaggleMart.\")"
   ]
  },
  {
   "cell_type": "code",
   "execution_count": 4,
   "id": "b36516c9",
   "metadata": {
    "execution": {
     "iopub.execute_input": "2022-02-01T05:16:42.501077Z",
     "iopub.status.busy": "2022-02-01T05:16:42.500128Z",
     "iopub.status.idle": "2022-02-01T05:16:42.504737Z",
     "shell.execute_reply": "2022-02-01T05:16:42.505235Z",
     "shell.execute_reply.started": "2022-01-31T18:02:51.699428Z"
    },
    "papermill": {
     "duration": 0.020161,
     "end_time": "2022-02-01T05:16:42.505407",
     "exception": false,
     "start_time": "2022-02-01T05:16:42.485246",
     "status": "completed"
    },
    "tags": []
   },
   "outputs": [],
   "source": [
    "def smape_loss(y_true, y_pred):\n",
    "    \"\"\"SMAPE Loss\"\"\"\n",
    "    return np.abs(y_true - y_pred) / (y_true + np.abs(y_pred)) * 200\n"
   ]
  },
  {
   "cell_type": "markdown",
   "id": "bdc3f38e",
   "metadata": {
    "papermill": {
     "duration": 0.011919,
     "end_time": "2022-02-01T05:16:42.529206",
     "exception": false,
     "start_time": "2022-02-01T05:16:42.517287",
     "status": "completed"
    },
    "tags": []
   },
   "source": [
    "# Feature engineering\n"
   ]
  },
  {
   "cell_type": "code",
   "execution_count": 5,
   "id": "59c3490b",
   "metadata": {
    "execution": {
     "iopub.execute_input": "2022-02-01T05:16:42.557694Z",
     "iopub.status.busy": "2022-02-01T05:16:42.556633Z",
     "iopub.status.idle": "2022-02-01T05:16:54.771435Z",
     "shell.execute_reply": "2022-02-01T05:16:54.771941Z",
     "shell.execute_reply.started": "2022-01-31T18:02:51.714385Z"
    },
    "papermill": {
     "duration": 12.230768,
     "end_time": "2022-02-01T05:16:54.772117",
     "exception": false,
     "start_time": "2022-02-01T05:16:42.541349",
     "status": "completed"
    },
    "tags": []
   },
   "outputs": [
    {
     "name": "stdout",
     "output_type": "stream",
     "text": [
      "['gdp', 'cci', 'wd4', 'wd56', 'Finland', 'Norway', 'Kaggle Mug', 'Kaggle Hat', 'mug_cos1', 'hat_sin1', 'hat_cos1', 'mug_cos2', 'hat_sin2', 'hat_cos2', 'dec24', 'dec25', 'dec26', 'dec27', 'dec28', 'dec29', 'dec30', 'dec31', 'n-dec25', 'n-dec26', 'n-dec27', 'n-dec28', 'n-dec29', 'n-dec30', 'n-dec31', 'f-jan1', 'f-jan2', 'f-jan3', 'f-jan4', 'f-jan5', 'f-jan6', 'f-jan7', 'f-jan8', 'f-jan9', 'f-jan10', 'f-jan11', 'f-jan12', 'f-jan13', 'f-jan14', 'n-jan1', 'n-jan2', 'n-jan3', 'n-jan4', 'n-jan5', 'n-jan6', 'n-jan7', 'n-jan8', 'n-jan9', 's-jan1', 's-jan2', 's-jan3', 's-jan4', 's-jan5', 's-jan6', 's-jan7', 's-jan8', 's-jan9', 's-jan10', 's-jan11', 's-jan12', 's-jan13', 's-jan14', 'may1', 'may2', 'may3', 'may4', 'may5', 'may6', 'may7', 'may8', 'may9', 'may18', 'may19', 'may20', 'may21', 'may22', 'may23', 'may24', 'may25', 'may27', 'june8', 'june9', 'june10', 'june11', 'june12', 'june13', 'june14', 'wed_june-4', 'wed_june-3', 'wed_june-2', 'wed_june-1', 'wed_june0', 'wed_june1', 'wed_june2', 'wed_june3', 'wed_june4', 'sun_nov0', 'sun_nov1', 'sun_nov2', 'sun_nov3', 'sun_nov4', 'sun_nov5', 'sun_nov6', 'sun_nov7', 'sun_nov8', 'dec6', 'dec7', 'dec8', 'dec9', 'dec10', 'dec11', 'dec12', 'dec13', 'dec14', 'easter-2', 'easter-1', 'easter0', 'easter1', 'easter2', 'easter3', 'easter4', 'easter5', 'easter6', 'easter7', 'easter8', 'easter9', 'easter10', 'easter40', 'easter41', 'easter42', 'easter43', 'easter44', 'easter45', 'easter46', 'easter47', 'easter51', 'easter52', 'easter53', 'easter54', 'easter55', 'easter56', 'easter57', 'n_easter-3', 'n_easter-2', 'n_easter-1', 'n_easter0', 'n_easter1', 'n_easter2', 'n_easter3', 'n_easter4', 'n_easter5', 'n_easter6', 'n_easter7', 'n_easter50', 'n_easter51', 'n_easter52', 'n_easter53', 'n_easter54', 'n_easter55', 'n_easter56', 'n_easter57', 'n_easter58', 'n_easter59', 'n_easter60']\n"
     ]
    }
   ],
   "source": [
    "# Feature engineering\n",
    "def engineer(df):\n",
    "    \"\"\"Return a new dataframe with the engineered features\"\"\"\n",
    "    \n",
    "    def get_gdp(row):\n",
    "        country = 'GDP_' + row.country\n",
    "        return gdp_df.loc[row.date.year, country]\n",
    "        \n",
    "    def get_cci(row):\n",
    "        country = row.country\n",
    "        time = f\"{row.date.year}-{row.date.month:02d}\"\n",
    "        # There is no monthly CCI data for Norway.\n",
    "        # We use the Finland data instead.\n",
    "        if country == 'Norway': country = 'Finland'\n",
    "        return cci_df.loc[country[:3].upper(), time].Value\n",
    "        \n",
    "    new_df = pd.DataFrame({'gdp': np.log(df.apply(get_gdp, axis=1)),\n",
    "                           'cci': df.apply(get_cci, axis=1),\n",
    "                           'wd4': df.date.dt.weekday == 4, # Friday\n",
    "                           'wd56': df.date.dt.weekday >= 5, # Saturday and Sunday\n",
    "                          })\n",
    "\n",
    "    # One-hot encoding (no need to encode the last categories)\n",
    "    for country in ['Finland', 'Norway']:\n",
    "        new_df[country] = df.country == country\n",
    "    new_df['KaggleRama'] = df.store == 'KaggleRama'\n",
    "    for product in ['Kaggle Mug', 'Kaggle Hat']:\n",
    "        new_df[product] = df['product'] == product\n",
    "        \n",
    "    # Seasonal variations (Fourier series)\n",
    "    # The three products have different seasonal patterns\n",
    "    dayofyear = df.date.dt.dayofyear\n",
    "    for k in range(1, 3):\n",
    "        sink = np.sin(dayofyear / 365 * 2 * math.pi * k)\n",
    "        cosk = np.cos(dayofyear / 365 * 2 * math.pi * k)\n",
    "        new_df[f'mug_sin{k}'] = sink * new_df['Kaggle Mug']\n",
    "        new_df[f'mug_cos{k}'] = cosk * new_df['Kaggle Mug']\n",
    "        new_df[f'hat_sin{k}'] = sink * new_df['Kaggle Hat']\n",
    "        new_df[f'hat_cos{k}'] = cosk * new_df['Kaggle Hat']\n",
    "\n",
    "    new_df.drop(columns=['mug_sin1'], inplace=True)\n",
    "    new_df.drop(columns=['mug_sin2'], inplace=True)\n",
    "\n",
    "    # Special days\n",
    "    new_df = pd.concat([new_df,\n",
    "                        pd.DataFrame({f\"dec{d}\":\n",
    "                                      (df.date.dt.month == 12) & (df.date.dt.day == d)\n",
    "                                      for d in range(24, 32)}),\n",
    "                        pd.DataFrame({f\"n-dec{d}\":\n",
    "                                      (df.date.dt.month == 12) & (df.date.dt.day == d) & (df.country == 'Norway')\n",
    "                                      for d in range(25, 32)}),\n",
    "                        pd.DataFrame({f\"f-jan{d}\":\n",
    "                                      (df.date.dt.month == 1) & (df.date.dt.day == d) & (df.country == 'Finland')\n",
    "                                      for d in range(1, 15)}),\n",
    "                        pd.DataFrame({f\"n-jan{d}\":\n",
    "                                      (df.date.dt.month == 1) & (df.date.dt.day == d) & (df.country == 'Norway')\n",
    "                                      for d in range(1, 10)}),\n",
    "                        pd.DataFrame({f\"s-jan{d}\":\n",
    "                                      (df.date.dt.month == 1) & (df.date.dt.day == d) & (df.country == 'Sweden')\n",
    "                                      for d in range(1, 15)})\n",
    "                       ],\n",
    "                       axis=1)\n",
    "    \n",
    "    # May and June\n",
    "    new_df = pd.concat([new_df,\n",
    "                        pd.DataFrame({f\"may{d}\":\n",
    "                                      (df.date.dt.month == 5) & (df.date.dt.day == d) \n",
    "                                      for d in list(range(1, 10))}),\n",
    "#                         pd.DataFrame({f\"f-may{d}\":\n",
    "#                                       (df.date.dt.month == 5) & (df.date.dt.day == d) & (df.country == 'Finland') # end of the war\n",
    "#                                       for d in [9]}),\n",
    "                        pd.DataFrame({f\"may{d}\":\n",
    "                                      (df.date.dt.month == 5) & (df.date.dt.day == d) & (df.country == 'Norway')\n",
    "                                     for d in list(range(18, 26)) + [27]}),\n",
    "                        pd.DataFrame({f\"june{d}\":\n",
    "                                      (df.date.dt.month == 6) & (df.date.dt.day == d) & (df.country == 'Sweden')\n",
    "                                      for d in list(range(8, 15))}),\n",
    "                       ],\n",
    "                       axis=1)\n",
    "    \n",
    "    # Last Wednesday of June\n",
    "    wed_june_date = df.date.dt.year.map({2015: pd.Timestamp(('2015-06-24')),\n",
    "                                         2016: pd.Timestamp(('2016-06-29')),\n",
    "                                         2017: pd.Timestamp(('2017-06-28')),\n",
    "                                         2018: pd.Timestamp(('2018-06-27')),\n",
    "                                         2019: pd.Timestamp(('2019-06-26'))})\n",
    "    new_df = pd.concat([new_df,\n",
    "                        pd.DataFrame({f\"wed_june{d}\": \n",
    "                                      (df.date - wed_june_date == np.timedelta64(d, \"D\")) & (df.country != 'Norway')\n",
    "                                      for d in list(range(-4, 5))})],\n",
    "                       axis=1)\n",
    "    \n",
    "    # First Sunday of November\n",
    "    sun_nov_date = df.date.dt.year.map({2015: pd.Timestamp(('2015-11-1')),\n",
    "                                         2016: pd.Timestamp(('2016-11-6')),\n",
    "                                         2017: pd.Timestamp(('2017-11-5')),\n",
    "                                         2018: pd.Timestamp(('2018-11-4')),\n",
    "                                         2019: pd.Timestamp(('2019-11-3'))})\n",
    "    new_df = pd.concat([new_df,\n",
    "                        pd.DataFrame({f\"sun_nov{d}\": \n",
    "                                      (df.date - sun_nov_date == np.timedelta64(d, \"D\")) & (df.country != 'Norway')\n",
    "                                      for d in list(range(0, 9))})],\n",
    "                       axis=1)\n",
    "    \n",
    "    # First half of December (Independence Day of Finland, 6th of December)\n",
    "    new_df = pd.concat([new_df,\n",
    "                        pd.DataFrame({f\"dec{d}\":\n",
    "                                      (df.date.dt.month == 12) & (df.date.dt.day == d) & (df.country == 'Finland')\n",
    "                                      for d in list(range(6, 15))})],\n",
    "                       axis=1)\n",
    "\n",
    "    # Easter\n",
    "    easter_date = df.date.apply(lambda date: pd.Timestamp(easter.easter(date.year)))\n",
    "    new_df = pd.concat([new_df,\n",
    "                        pd.DataFrame({f\"easter{d}\": \n",
    "                                      (df.date - easter_date == np.timedelta64(d, \"D\"))\n",
    "                                      for d in list(range(-2, 11)) + list(range(40, 48)) + list(range(51, 58))}),\n",
    "                        pd.DataFrame({f\"n_easter{d}\": \n",
    "                                      (df.date - easter_date == np.timedelta64(d, \"D\")) & (df.country == 'Norway')\n",
    "                                      for d in list(range(-3, 8)) + list(range(50, 61))})],\n",
    "                       axis=1)\n",
    "    \n",
    "    return new_df.astype(np.float32)\n",
    "\n",
    "train_df = engineer(original_train_df)\n",
    "train_df['date'] = original_train_df.date\n",
    "train_df['num_sold'] = original_train_df.num_sold.astype(np.float32)\n",
    "test_df = engineer(original_test_df)\n",
    "\n",
    "features = list(test_df.columns)\n",
    "if NO_STORE: features.remove('KaggleRama')\n",
    "print(list(features))\n"
   ]
  },
  {
   "cell_type": "markdown",
   "id": "4872ae30",
   "metadata": {
    "papermill": {
     "duration": 0.012384,
     "end_time": "2022-02-01T05:16:54.796935",
     "exception": false,
     "start_time": "2022-02-01T05:16:54.784551",
     "status": "completed"
    },
    "tags": []
   },
   "source": [
    "# Validation\n",
    "\n",
    "We train on a GroupKFold with the years as groups. For the validation, we separate the SMAPE for the first quarter from the rest of the year. As the private leaderboard is computed on the predictions for April through December, SMAPE for these nine months is more important than SMAPE for the first quarter.\n",
    "\n",
    "The data is scaled using three separate MinMaxScalers. Ridge regression will penalize high weights on the customer confidence index more than on other features."
   ]
  },
  {
   "cell_type": "code",
   "execution_count": 6,
   "id": "7cc28c7d",
   "metadata": {
    "execution": {
     "iopub.execute_input": "2022-02-01T05:16:54.826311Z",
     "iopub.status.busy": "2022-02-01T05:16:54.825538Z",
     "iopub.status.idle": "2022-02-01T05:16:54.840136Z",
     "shell.execute_reply": "2022-02-01T05:16:54.840692Z",
     "shell.execute_reply.started": "2022-01-31T18:03:03.859844Z"
    },
    "papermill": {
     "duration": 0.031344,
     "end_time": "2022-02-01T05:16:54.840892",
     "exception": false,
     "start_time": "2022-02-01T05:16:54.809548",
     "status": "completed"
    },
    "tags": []
   },
   "outputs": [],
   "source": [
    "def predict(features, preproc, model, X):\n",
    "    y = (np.exp(model.predict(preproc.transform(X[features])))).reshape(-1, 1)\n",
    "    if NO_STORE: y[X.KaggleRama.values > 0] = y[X.KaggleRama.values > 0] * np.exp(kaggle_rama_log_diff)\n",
    "    return y\n",
    "\n",
    "\n",
    "def fit_model(X_tr, X_va=None, score_list=[], mse_list=[], run=0, fold=0, oof=None, outliers=False, correction=1.0):\n",
    "    \"\"\"Scale the data, fit a model, plot the training history and validate the model\"\"\"\n",
    "    start_time = datetime.now()\n",
    "\n",
    "    # Preprocess the data\n",
    "    X_tr_f = X_tr[features]\n",
    "    preproc = make_pipeline(ColumnTransformer([('general', MinMaxScaler(), ['gdp', 'wd4', 'wd56', 'Finland', 'Norway',\n",
    "                                                                            'Kaggle Mug', 'Kaggle Hat',\n",
    "                                                                            'mug_cos1', 'hat_sin1', 'hat_cos1', 'mug_cos2',\n",
    "                                                                            'hat_sin2', 'hat_cos2']),\n",
    "                                               ('cci', MinMaxScaler((0, 0.06)), ['cci']),\n",
    "                                              ],\n",
    "                                              remainder=MinMaxScaler((0, 2.8))),\n",
    "                            StandardScaler(with_std=False))\n",
    "    #preproc = make_pipeline(MinMaxScaler(), StandardScaler(with_std=False))\n",
    "    #preproc = StandardScaler()\n",
    "    X_tr_f = preproc.fit_transform(X_tr_f)\n",
    "    y_tr = X_tr.num_sold.values.reshape(-1, 1).copy()\n",
    "    if NO_STORE: y_tr[X_tr.KaggleRama != 0] = y_tr[X_tr.KaggleRama != 0] / np.exp(kaggle_rama_log_diff)\n",
    "\n",
    "    # Train the model\n",
    "    model = Ridge(alpha=0.2, tol=0.00001, max_iter=10000)\n",
    "    model.fit(X_tr_f, np.log(y_tr).ravel())\n",
    "\n",
    "    if X_va is not None:\n",
    "        # Preprocess the validation data\n",
    "        y_va = X_va.num_sold.values.reshape(-1, 1)\n",
    "\n",
    "        # Inference for validation\n",
    "        y_va_pred = predict(features, preproc, model, X_va)\n",
    "        oof.update(pd.Series(y_va_pred.ravel(), index=X_va.index))\n",
    "        \n",
    "        # Evaluation: Execution time and SMAPE\n",
    "        smape_before_correction = np.mean(smape_loss(y_va, y_va_pred))\n",
    "        y_va_pred *= correction\n",
    "        smape = np.mean(smape_loss(y_va, y_va_pred))\n",
    "        mse = mean_squared_error(np.log(y_va), np.log(y_va_pred))\n",
    "        print(f\"Fold {run}.{fold} | {str(datetime.now() - start_time)[-12:-7]}\"\n",
    "              f\" | SMAPE: {smape:.5f}   (before correction: {smape_before_correction:.5f})\"\n",
    "              f\" | MSE: {mse:.5f}\")\n",
    "        score_list.append(smape)\n",
    "        mse_list.append(mse)\n",
    "        \n",
    "    return preproc, model\n"
   ]
  },
  {
   "cell_type": "code",
   "execution_count": 7,
   "id": "6e339c0a",
   "metadata": {
    "execution": {
     "iopub.execute_input": "2022-02-01T05:16:54.869587Z",
     "iopub.status.busy": "2022-02-01T05:16:54.868915Z",
     "iopub.status.idle": "2022-02-01T05:16:55.723016Z",
     "shell.execute_reply": "2022-02-01T05:16:55.724668Z",
     "shell.execute_reply.started": "2022-01-31T18:03:03.877367Z"
    },
    "papermill": {
     "duration": 0.871638,
     "end_time": "2022-02-01T05:16:55.725127",
     "exception": false,
     "start_time": "2022-02-01T05:16:54.853489",
     "status": "completed"
    },
    "tags": []
   },
   "outputs": [
    {
     "name": "stdout",
     "output_type": "stream",
     "text": [
      "Fold 0.0 validating on 2016\n",
      "Fold 0.0 | 00:00 | SMAPE: 4.15478   (before correction: 4.15478) | MSE: 0.00270\n",
      "Fold 0.1 validating on 2018\n",
      "Fold 0.1 | 00:00 | SMAPE: 4.08928   (before correction: 4.08928) | MSE: 0.00266\n",
      "Fold 0.2 validating on 2017\n",
      "Fold 0.2 | 00:00 | SMAPE: 4.24774   (before correction: 4.24774) | MSE: 0.00282\n",
      "Fold 0.3 validating on 2015\n",
      "Fold 0.3 | 00:00 | SMAPE: 4.19356   (before correction: 4.19356) | MSE: 0.00286\n",
      "Average SMAPE: 4.17134 | MSE: 0.0027603   | Y: 4.17133   | Q1: 4.39466   | Q234: 4.09804\n"
     ]
    }
   ],
   "source": [
    "RUNS = 1 # should be 1\n",
    "\n",
    "def validate(train_df, correction_factor=1.0):\n",
    "    # Make the results reproducible\n",
    "    np.random.seed(202100)\n",
    "\n",
    "    total_start_time = datetime.now()\n",
    "    oof = pd.Series(0.0, index=train_df.index)\n",
    "    score_list, mse_list = [], []\n",
    "    for run in range(RUNS):\n",
    "        kf = GroupKFold(n_splits=4)\n",
    "        for fold, (train_idx, val_idx) in enumerate(kf.split(train_df, groups=train_df.date.dt.year)):\n",
    "            X_tr = train_df.iloc[train_idx]\n",
    "            X_va = train_df.iloc[val_idx]\n",
    "            print(f\"Fold {run}.{fold} validating on {train_df.iloc[val_idx].iloc[0].date.year}\")\n",
    "            preproc, model = fit_model(X_tr, X_va, score_list, mse_list, run=run, fold=fold, oof=oof, correction=correction_factor)\n",
    "\n",
    "    print(f\"Average SMAPE: {sum(score_list) / len(score_list):.5f} | MSE: {sum(mse_list) / len(mse_list):.7f}   \"\n",
    "          f\"| Y: {smape_loss(train_df.num_sold, oof).mean():.5f}   \"\n",
    "          f\"| Q1: {smape_loss(train_df.num_sold, oof)[train_df.date.dt.month <= 3].mean():.5f}   \"\n",
    "          f\"| Q234: {smape_loss(train_df.num_sold, oof)[train_df.date.dt.month > 3].mean():.5f}\")\n",
    "    with open('oof.pickle', 'wb') as handle: pickle.dump(oof, handle)\n",
    "        \n",
    "validate(train_df)\n"
   ]
  },
  {
   "cell_type": "markdown",
   "id": "414f6ae5",
   "metadata": {
    "papermill": {
     "duration": 0.025746,
     "end_time": "2022-02-01T05:16:55.777467",
     "exception": false,
     "start_time": "2022-02-01T05:16:55.751721",
     "status": "completed"
    },
    "tags": []
   },
   "source": [
    "# Inference and submission\n"
   ]
  },
  {
   "cell_type": "code",
   "execution_count": 8,
   "id": "1e61fa8d",
   "metadata": {
    "execution": {
     "iopub.execute_input": "2022-02-01T05:16:55.844197Z",
     "iopub.status.busy": "2022-02-01T05:16:55.843086Z",
     "iopub.status.idle": "2022-02-01T05:16:57.206660Z",
     "shell.execute_reply": "2022-02-01T05:16:57.206099Z",
     "shell.execute_reply.started": "2022-01-31T18:03:04.658893Z"
    },
    "papermill": {
     "duration": 1.402744,
     "end_time": "2022-02-01T05:16:57.206823",
     "exception": false,
     "start_time": "2022-02-01T05:16:55.804079",
     "status": "completed"
    },
    "tags": []
   },
   "outputs": [
    {
     "data": {
      "image/png": "[encoded data removed]",
      "text/plain": [
       "<Figure size 1152x216 with 1 Axes>"
      ]
     },
     "metadata": {
      "needs_background": "light"
     },
     "output_type": "display_data"
    },
    {
     "data": {
      "text/html": [
       "<div>\n",
       "<style scoped>\n",
       "    .dataframe tbody tr th:only-of-type {\n",
       "        vertical-align: middle;\n",
       "    }\n",
       "\n",
       "    .dataframe tbody tr th {\n",
       "        vertical-align: top;\n",
       "    }\n",
       "\n",
       "    .dataframe thead th {\n",
       "        text-align: right;\n",
       "    }\n",
       "</style>\n",
       "<table border=\"1\" class=\"dataframe\">\n",
       "  <thead>\n",
       "    <tr style=\"text-align: right;\">\n",
       "      <th></th>\n",
       "      <th>row_id</th>\n",
       "      <th>num_sold</th>\n",
       "    </tr>\n",
       "  </thead>\n",
       "  <tbody>\n",
       "    <tr>\n",
       "      <th>0</th>\n",
       "      <td>26298</td>\n",
       "      <td>383.0</td>\n",
       "    </tr>\n",
       "    <tr>\n",
       "      <th>1</th>\n",
       "      <td>26299</td>\n",
       "      <td>593.0</td>\n",
       "    </tr>\n",
       "    <tr>\n",
       "      <th>2</th>\n",
       "      <td>26300</td>\n",
       "      <td>169.0</td>\n",
       "    </tr>\n",
       "    <tr>\n",
       "      <th>3</th>\n",
       "      <td>26301</td>\n",
       "      <td>668.0</td>\n",
       "    </tr>\n",
       "    <tr>\n",
       "      <th>4</th>\n",
       "      <td>26302</td>\n",
       "      <td>1035.0</td>\n",
       "    </tr>\n",
       "    <tr>\n",
       "      <th>...</th>\n",
       "      <td>...</td>\n",
       "      <td>...</td>\n",
       "    </tr>\n",
       "    <tr>\n",
       "      <th>6565</th>\n",
       "      <td>32863</td>\n",
       "      <td>797.0</td>\n",
       "    </tr>\n",
       "    <tr>\n",
       "      <th>6566</th>\n",
       "      <td>32864</td>\n",
       "      <td>228.0</td>\n",
       "    </tr>\n",
       "    <tr>\n",
       "      <th>6567</th>\n",
       "      <td>32865</td>\n",
       "      <td>901.0</td>\n",
       "    </tr>\n",
       "    <tr>\n",
       "      <th>6568</th>\n",
       "      <td>32866</td>\n",
       "      <td>1391.0</td>\n",
       "    </tr>\n",
       "    <tr>\n",
       "      <th>6569</th>\n",
       "      <td>32867</td>\n",
       "      <td>398.0</td>\n",
       "    </tr>\n",
       "  </tbody>\n",
       "</table>\n",
       "<p>6570 rows × 2 columns</p>\n",
       "</div>"
      ],
      "text/plain": [
       "      row_id  num_sold\n",
       "0      26298     383.0\n",
       "1      26299     593.0\n",
       "2      26300     169.0\n",
       "3      26301     668.0\n",
       "4      26302    1035.0\n",
       "...      ...       ...\n",
       "6565   32863     797.0\n",
       "6566   32864     228.0\n",
       "6567   32865     901.0\n",
       "6568   32866    1391.0\n",
       "6569   32867     398.0\n",
       "\n",
       "[6570 rows x 2 columns]"
      ]
     },
     "execution_count": 8,
     "metadata": {},
     "output_type": "execute_result"
    }
   ],
   "source": [
    "# Fit the model on the complete training data\n",
    "preproc, model = fit_model(train_df, None)\n",
    "\n",
    "# Inference for test\n",
    "test_pred_list = []\n",
    "test_pred_list.append(predict(features, preproc, model, test_df) * 1.003) # magic scaling factor\n",
    "\n",
    "# Prepare the submission file\n",
    "sub = original_test_df[['row_id']].copy()\n",
    "sub['num_sold'] = sum(test_pred_list) / len(test_pred_list)\n",
    "\n",
    "# Plot the distribution of the test predictions\n",
    "plt.figure(figsize=(16,3))\n",
    "plt.hist(train_df['num_sold'], bins=np.linspace(0, 3000, 201),\n",
    "         density=True, label='Training')\n",
    "plt.hist(sub['num_sold'], bins=np.linspace(0, 3000, 201),\n",
    "         density=True, rwidth=0.5, label='Test predictions')\n",
    "plt.xlabel('num_sold')\n",
    "plt.ylabel('Frequency')\n",
    "plt.legend()\n",
    "plt.show()\n",
    "\n",
    "# Create a rounded submission file\n",
    "sub_rounded = sub.copy()\n",
    "sub_rounded['num_sold'] = sub_rounded['num_sold'].round()\n",
    "sub_rounded.to_csv('submission_linear_model_rounded.csv', index=False)\n",
    "sub_rounded"
   ]
  },
  {
   "cell_type": "code",
   "execution_count": null,
   "id": "f7f50f33",
   "metadata": {
    "papermill": {
     "duration": 0.015116,
     "end_time": "2022-02-01T05:16:57.237488",
     "exception": false,
     "start_time": "2022-02-01T05:16:57.222372",
     "status": "completed"
    },
    "tags": []
   },
   "outputs": [],
   "source": []
  }
 ],
 "metadata": {
  "kernelspec": {
   "display_name": "Python 3",
   "language": "python",
   "name": "python3"
  },
  "language_info": {
   "codemirror_mode": {
    "name": "ipython",
    "version": 3
   },
   "file_extension": ".py",
   "mimetype": "text/x-python",
   "name": "python",
   "nbconvert_exporter": "python",
   "pygments_lexer": "ipython3",
   "version": "3.7.12"
  },
  "papermill": {
   "default_parameters": {},
   "duration": 26.501796,
   "end_time": "2022-02-01T05:16:57.964282",
   "environment_variables": {},
   "exception": null,
   "input_path": "__notebook__.ipynb",
   "output_path": "__notebook__.ipynb",
   "parameters": {},
   "start_time": "2022-02-01T05:16:31.462486",
   "version": "2.3.3"
  }
 },
 "nbformat": 4,
 "nbformat_minor": 5
}
